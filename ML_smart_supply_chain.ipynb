{
 "cells": [
  {
   "cell_type": "markdown",
   "metadata": {
    "id": "-fPFuVO3o-R4"
   },
   "source": [
    "## **PROBLEM** **STATEMENT**"
   ]
  },
  {
   "cell_type": "markdown",
   "metadata": {
    "id": "6esTcHQJzcAZ"
   },
   "source": [
    "Supply Chain Management (SCM) is the management of the flow of goods and services including all processes that transform raw materials into final products between businesses and locations. This can include the movement and storage of raw materials, work-in-process inventory, finished goods, and end to end order fulfilment from the point of origin to the point of consumption.\n",
    "\n",
    "There are high chances of us missing out on any of these processes which leads to a huge loss for the company. It is this mistake of handling things that needs to be checked. We need to take the necessary measures to keep at par with the other competing companies in the market.\n",
    "\n",
    "In a dynamic supply chain environment, problems that arise due to delay in delivery of raw materials and distribution to consumers can pose risk and threats to the company. This study here aims to identify and mitigate the risk so that the same mistake is never repeated in the future that might put the company in trouble.\n",
    "\n",
    "This is the dataset of Supply Chains used by the company Data Co Global which includes a collection of their products sold, financial details (profit, loss, total sales etc.), shipping details, and customer details such as sales, demographics, and transaction details. The data spans to 91 MB engulfing details of 1,80,520 customers spanning to 53 columns.\n",
    "\n",
    "Here we are trying to predict the risk of late delivery by classifying the orders. These classifications are primarily based on the mode of shipment and product type."
   ]
  },
  {
   "cell_type": "code",
   "execution_count": 151,
   "metadata": {
    "colab": {
     "base_uri": "https://localhost:8080/"
    },
    "id": "1lBOywZPJL56",
    "outputId": "c85d0f76-54f2-40ba-a72c-6b05241dc880"
   },
   "outputs": [
    {
     "name": "stdout",
     "output_type": "stream",
     "text": [
      "Drive already mounted at /content/drive; to attempt to forcibly remount, call drive.mount(\"/content/drive\", force_remount=True).\n"
     ]
    }
   ],
   "source": [
    "from google.colab import drive\n",
    "drive.mount('/content/drive')"
   ]
  },
  {
   "cell_type": "markdown",
   "metadata": {
    "id": "7qFvVF8mo0pn"
   },
   "source": [
    "## **Importing** **libraries**"
   ]
  },
  {
   "cell_type": "code",
   "execution_count": 152,
   "metadata": {
    "id": "UnHfdRVwm47O"
   },
   "outputs": [],
   "source": [
    "import numpy as np\n",
    "import pandas as pd\n",
    "import seaborn as sns \n",
    "import matplotlib.pyplot as plt\n",
    "import warnings\n",
    "warnings.filterwarnings('ignore')\n",
    "from geopy.geocoders import Nominatim\n",
    "from geopy.point import Point\n",
    "\n",
    "\n",
    "plt.rcParams['figure.figsize']= [15,7]\n",
    "pd.pandas.set_option('display.max_columns',None)\n",
    "pd.options.display.max_rows=None"
   ]
  },
  {
   "cell_type": "markdown",
   "metadata": {
    "id": "2g1Tz02VpxRH"
   },
   "source": [
    "## **Loading** **the original data set**"
   ]
  },
  {
   "cell_type": "code",
   "execution_count": 153,
   "metadata": {
    "id": "79ImAF0cnq9s"
   },
   "outputs": [],
   "source": [
    "df= pd.read_csv('/content/drive/MyDrive/capstone/DataCoSupplyChainDataset.csv', encoding= 'latin-1')"
   ]
  },
  {
   "cell_type": "code",
   "execution_count": 154,
   "metadata": {
    "colab": {
     "base_uri": "https://localhost:8080/",
     "height": 249
    },
    "id": "d0k1FYlFoD-R",
    "outputId": "7f70301d-0575-4093-ca1c-18e1a29ad172"
   },
   "outputs": [
    {
     "data": {
      "text/html": [
       "\n",
       "  <div id=\"df-1aba31f0-e326-4a76-b921-8781a0a6b74d\">\n",
       "    <div class=\"colab-df-container\">\n",
       "      <div>\n",
       "<style scoped>\n",
       "    .dataframe tbody tr th:only-of-type {\n",
       "        vertical-align: middle;\n",
       "    }\n",
       "\n",
       "    .dataframe tbody tr th {\n",
       "        vertical-align: top;\n",
       "    }\n",
       "\n",
       "    .dataframe thead th {\n",
       "        text-align: right;\n",
       "    }\n",
       "</style>\n",
       "<table border=\"1\" class=\"dataframe\">\n",
       "  <thead>\n",
       "    <tr style=\"text-align: right;\">\n",
       "      <th></th>\n",
       "      <th>Type</th>\n",
       "      <th>Days for shipping (real)</th>\n",
       "      <th>Days for shipment (scheduled)</th>\n",
       "      <th>Benefit per order</th>\n",
       "      <th>Sales per customer</th>\n",
       "      <th>Delivery Status</th>\n",
       "      <th>Late_delivery_risk</th>\n",
       "      <th>Category Id</th>\n",
       "      <th>Category Name</th>\n",
       "      <th>Customer City</th>\n",
       "      <th>Customer Country</th>\n",
       "      <th>Customer Email</th>\n",
       "      <th>Customer Fname</th>\n",
       "      <th>Customer Id</th>\n",
       "      <th>Customer Lname</th>\n",
       "      <th>Customer Password</th>\n",
       "      <th>Customer Segment</th>\n",
       "      <th>Customer State</th>\n",
       "      <th>Customer Street</th>\n",
       "      <th>Customer Zipcode</th>\n",
       "      <th>Department Id</th>\n",
       "      <th>Department Name</th>\n",
       "      <th>Latitude</th>\n",
       "      <th>Longitude</th>\n",
       "      <th>Market</th>\n",
       "      <th>Order City</th>\n",
       "      <th>Order Country</th>\n",
       "      <th>Order Customer Id</th>\n",
       "      <th>order date (DateOrders)</th>\n",
       "      <th>Order Id</th>\n",
       "      <th>Order Item Cardprod Id</th>\n",
       "      <th>Order Item Discount</th>\n",
       "      <th>Order Item Discount Rate</th>\n",
       "      <th>Order Item Id</th>\n",
       "      <th>Order Item Product Price</th>\n",
       "      <th>Order Item Profit Ratio</th>\n",
       "      <th>Order Item Quantity</th>\n",
       "      <th>Sales</th>\n",
       "      <th>Order Item Total</th>\n",
       "      <th>Order Profit Per Order</th>\n",
       "      <th>Order Region</th>\n",
       "      <th>Order State</th>\n",
       "      <th>Order Status</th>\n",
       "      <th>Order Zipcode</th>\n",
       "      <th>Product Card Id</th>\n",
       "      <th>Product Category Id</th>\n",
       "      <th>Product Description</th>\n",
       "      <th>Product Image</th>\n",
       "      <th>Product Name</th>\n",
       "      <th>Product Price</th>\n",
       "      <th>Product Status</th>\n",
       "      <th>shipping date (DateOrders)</th>\n",
       "      <th>Shipping Mode</th>\n",
       "    </tr>\n",
       "  </thead>\n",
       "  <tbody>\n",
       "    <tr>\n",
       "      <th>0</th>\n",
       "      <td>DEBIT</td>\n",
       "      <td>3</td>\n",
       "      <td>4</td>\n",
       "      <td>91.25</td>\n",
       "      <td>314.640015</td>\n",
       "      <td>Advance shipping</td>\n",
       "      <td>0</td>\n",
       "      <td>73</td>\n",
       "      <td>Sporting Goods</td>\n",
       "      <td>Caguas</td>\n",
       "      <td>Puerto Rico</td>\n",
       "      <td>XXXXXXXXX</td>\n",
       "      <td>Cally</td>\n",
       "      <td>20755</td>\n",
       "      <td>Holloway</td>\n",
       "      <td>XXXXXXXXX</td>\n",
       "      <td>Consumer</td>\n",
       "      <td>PR</td>\n",
       "      <td>5365 Noble Nectar Island</td>\n",
       "      <td>725.0</td>\n",
       "      <td>2</td>\n",
       "      <td>Fitness</td>\n",
       "      <td>18.251453</td>\n",
       "      <td>-66.037056</td>\n",
       "      <td>Pacific Asia</td>\n",
       "      <td>Bekasi</td>\n",
       "      <td>Indonesia</td>\n",
       "      <td>20755</td>\n",
       "      <td>1/31/2018 22:56</td>\n",
       "      <td>77202</td>\n",
       "      <td>1360</td>\n",
       "      <td>13.11</td>\n",
       "      <td>0.04</td>\n",
       "      <td>180517</td>\n",
       "      <td>327.75</td>\n",
       "      <td>0.29</td>\n",
       "      <td>1</td>\n",
       "      <td>327.75</td>\n",
       "      <td>314.640015</td>\n",
       "      <td>91.25</td>\n",
       "      <td>Southeast Asia</td>\n",
       "      <td>Java Occidental</td>\n",
       "      <td>COMPLETE</td>\n",
       "      <td>NaN</td>\n",
       "      <td>1360</td>\n",
       "      <td>73</td>\n",
       "      <td>NaN</td>\n",
       "      <td>http://images.acmesports.sports/Smart+watch</td>\n",
       "      <td>Smart watch</td>\n",
       "      <td>327.75</td>\n",
       "      <td>0</td>\n",
       "      <td>2/3/2018 22:56</td>\n",
       "      <td>Standard Class</td>\n",
       "    </tr>\n",
       "  </tbody>\n",
       "</table>\n",
       "</div>\n",
       "      <button class=\"colab-df-convert\" onclick=\"convertToInteractive('df-1aba31f0-e326-4a76-b921-8781a0a6b74d')\"\n",
       "              title=\"Convert this dataframe to an interactive table.\"\n",
       "              style=\"display:none;\">\n",
       "        \n",
       "  <svg xmlns=\"http://www.w3.org/2000/svg\" height=\"24px\"viewBox=\"0 0 24 24\"\n",
       "       width=\"24px\">\n",
       "    <path d=\"M0 0h24v24H0V0z\" fill=\"none\"/>\n",
       "    <path d=\"M18.56 5.44l.94 2.06.94-2.06 2.06-.94-2.06-.94-.94-2.06-.94 2.06-2.06.94zm-11 1L8.5 8.5l.94-2.06 2.06-.94-2.06-.94L8.5 2.5l-.94 2.06-2.06.94zm10 10l.94 2.06.94-2.06 2.06-.94-2.06-.94-.94-2.06-.94 2.06-2.06.94z\"/><path d=\"M17.41 7.96l-1.37-1.37c-.4-.4-.92-.59-1.43-.59-.52 0-1.04.2-1.43.59L10.3 9.45l-7.72 7.72c-.78.78-.78 2.05 0 2.83L4 21.41c.39.39.9.59 1.41.59.51 0 1.02-.2 1.41-.59l7.78-7.78 2.81-2.81c.8-.78.8-2.07 0-2.86zM5.41 20L4 18.59l7.72-7.72 1.47 1.35L5.41 20z\"/>\n",
       "  </svg>\n",
       "      </button>\n",
       "      \n",
       "  <style>\n",
       "    .colab-df-container {\n",
       "      display:flex;\n",
       "      flex-wrap:wrap;\n",
       "      gap: 12px;\n",
       "    }\n",
       "\n",
       "    .colab-df-convert {\n",
       "      background-color: #E8F0FE;\n",
       "      border: none;\n",
       "      border-radius: 50%;\n",
       "      cursor: pointer;\n",
       "      display: none;\n",
       "      fill: #1967D2;\n",
       "      height: 32px;\n",
       "      padding: 0 0 0 0;\n",
       "      width: 32px;\n",
       "    }\n",
       "\n",
       "    .colab-df-convert:hover {\n",
       "      background-color: #E2EBFA;\n",
       "      box-shadow: 0px 1px 2px rgba(60, 64, 67, 0.3), 0px 1px 3px 1px rgba(60, 64, 67, 0.15);\n",
       "      fill: #174EA6;\n",
       "    }\n",
       "\n",
       "    [theme=dark] .colab-df-convert {\n",
       "      background-color: #3B4455;\n",
       "      fill: #D2E3FC;\n",
       "    }\n",
       "\n",
       "    [theme=dark] .colab-df-convert:hover {\n",
       "      background-color: #434B5C;\n",
       "      box-shadow: 0px 1px 3px 1px rgba(0, 0, 0, 0.15);\n",
       "      filter: drop-shadow(0px 1px 2px rgba(0, 0, 0, 0.3));\n",
       "      fill: #FFFFFF;\n",
       "    }\n",
       "  </style>\n",
       "\n",
       "      <script>\n",
       "        const buttonEl =\n",
       "          document.querySelector('#df-1aba31f0-e326-4a76-b921-8781a0a6b74d button.colab-df-convert');\n",
       "        buttonEl.style.display =\n",
       "          google.colab.kernel.accessAllowed ? 'block' : 'none';\n",
       "\n",
       "        async function convertToInteractive(key) {\n",
       "          const element = document.querySelector('#df-1aba31f0-e326-4a76-b921-8781a0a6b74d');\n",
       "          const dataTable =\n",
       "            await google.colab.kernel.invokeFunction('convertToInteractive',\n",
       "                                                     [key], {});\n",
       "          if (!dataTable) return;\n",
       "\n",
       "          const docLinkHtml = 'Like what you see? Visit the ' +\n",
       "            '<a target=\"_blank\" href=https://colab.research.google.com/notebooks/data_table.ipynb>data table notebook</a>'\n",
       "            + ' to learn more about interactive tables.';\n",
       "          element.innerHTML = '';\n",
       "          dataTable['output_type'] = 'display_data';\n",
       "          await google.colab.output.renderOutput(dataTable, element);\n",
       "          const docLink = document.createElement('div');\n",
       "          docLink.innerHTML = docLinkHtml;\n",
       "          element.appendChild(docLink);\n",
       "        }\n",
       "      </script>\n",
       "    </div>\n",
       "  </div>\n",
       "  "
      ],
      "text/plain": [
       "    Type  Days for shipping (real)  Days for shipment (scheduled)  \\\n",
       "0  DEBIT                         3                              4   \n",
       "\n",
       "   Benefit per order  Sales per customer   Delivery Status  \\\n",
       "0              91.25          314.640015  Advance shipping   \n",
       "\n",
       "   Late_delivery_risk  Category Id   Category Name Customer City  \\\n",
       "0                   0           73  Sporting Goods        Caguas   \n",
       "\n",
       "  Customer Country Customer Email Customer Fname  Customer Id Customer Lname  \\\n",
       "0      Puerto Rico      XXXXXXXXX          Cally        20755       Holloway   \n",
       "\n",
       "  Customer Password Customer Segment Customer State           Customer Street  \\\n",
       "0         XXXXXXXXX         Consumer             PR  5365 Noble Nectar Island   \n",
       "\n",
       "   Customer Zipcode  Department Id Department Name   Latitude  Longitude  \\\n",
       "0             725.0              2         Fitness  18.251453 -66.037056   \n",
       "\n",
       "         Market Order City Order Country  Order Customer Id  \\\n",
       "0  Pacific Asia     Bekasi     Indonesia              20755   \n",
       "\n",
       "  order date (DateOrders)  Order Id  Order Item Cardprod Id  \\\n",
       "0         1/31/2018 22:56     77202                    1360   \n",
       "\n",
       "   Order Item Discount  Order Item Discount Rate  Order Item Id  \\\n",
       "0                13.11                      0.04         180517   \n",
       "\n",
       "   Order Item Product Price  Order Item Profit Ratio  Order Item Quantity  \\\n",
       "0                    327.75                     0.29                    1   \n",
       "\n",
       "    Sales  Order Item Total  Order Profit Per Order    Order Region  \\\n",
       "0  327.75        314.640015                   91.25  Southeast Asia   \n",
       "\n",
       "       Order State Order Status  Order Zipcode  Product Card Id  \\\n",
       "0  Java Occidental     COMPLETE            NaN             1360   \n",
       "\n",
       "   Product Category Id  Product Description  \\\n",
       "0                   73                  NaN   \n",
       "\n",
       "                                  Product Image  Product Name  Product Price  \\\n",
       "0  http://images.acmesports.sports/Smart+watch   Smart watch          327.75   \n",
       "\n",
       "   Product Status shipping date (DateOrders)   Shipping Mode  \n",
       "0               0             2/3/2018 22:56  Standard Class  "
      ]
     },
     "execution_count": 154,
     "metadata": {},
     "output_type": "execute_result"
    }
   ],
   "source": [
    "df.head(1)"
   ]
  },
  {
   "cell_type": "markdown",
   "metadata": {
    "id": "UUG33MStzprE"
   },
   "source": [
    "## **Basic data information**"
   ]
  },
  {
   "cell_type": "code",
   "execution_count": 155,
   "metadata": {
    "colab": {
     "base_uri": "https://localhost:8080/"
    },
    "id": "p8O5wnc0zrql",
    "outputId": "1d2be1f3-872f-448b-ecfd-a3c81eba9712"
   },
   "outputs": [
    {
     "data": {
      "text/plain": [
       "(180519, 53)"
      ]
     },
     "execution_count": 155,
     "metadata": {},
     "output_type": "execute_result"
    }
   ],
   "source": [
    "df.shape"
   ]
  },
  {
   "cell_type": "markdown",
   "metadata": {
    "id": "uaHuGzOSz6BS"
   },
   "source": [
    "In the original data set we have 180519 rows and 53 columns."
   ]
  },
  {
   "cell_type": "code",
   "execution_count": 156,
   "metadata": {
    "colab": {
     "base_uri": "https://localhost:8080/"
    },
    "id": "rCb5RiYWzzmY",
    "outputId": "c7e9e636-62eb-499d-a02b-c347f3956989"
   },
   "outputs": [
    {
     "name": "stdout",
     "output_type": "stream",
     "text": [
      "<class 'pandas.core.frame.DataFrame'>\n",
      "RangeIndex: 180519 entries, 0 to 180518\n",
      "Data columns (total 53 columns):\n",
      " #   Column                         Non-Null Count   Dtype  \n",
      "---  ------                         --------------   -----  \n",
      " 0   Type                           180519 non-null  object \n",
      " 1   Days for shipping (real)       180519 non-null  int64  \n",
      " 2   Days for shipment (scheduled)  180519 non-null  int64  \n",
      " 3   Benefit per order              180519 non-null  float64\n",
      " 4   Sales per customer             180519 non-null  float64\n",
      " 5   Delivery Status                180519 non-null  object \n",
      " 6   Late_delivery_risk             180519 non-null  int64  \n",
      " 7   Category Id                    180519 non-null  int64  \n",
      " 8   Category Name                  180519 non-null  object \n",
      " 9   Customer City                  180519 non-null  object \n",
      " 10  Customer Country               180519 non-null  object \n",
      " 11  Customer Email                 180519 non-null  object \n",
      " 12  Customer Fname                 180519 non-null  object \n",
      " 13  Customer Id                    180519 non-null  int64  \n",
      " 14  Customer Lname                 180511 non-null  object \n",
      " 15  Customer Password              180519 non-null  object \n",
      " 16  Customer Segment               180519 non-null  object \n",
      " 17  Customer State                 180519 non-null  object \n",
      " 18  Customer Street                180519 non-null  object \n",
      " 19  Customer Zipcode               180516 non-null  float64\n",
      " 20  Department Id                  180519 non-null  int64  \n",
      " 21  Department Name                180519 non-null  object \n",
      " 22  Latitude                       180519 non-null  float64\n",
      " 23  Longitude                      180519 non-null  float64\n",
      " 24  Market                         180519 non-null  object \n",
      " 25  Order City                     180519 non-null  object \n",
      " 26  Order Country                  180519 non-null  object \n",
      " 27  Order Customer Id              180519 non-null  int64  \n",
      " 28  order date (DateOrders)        180519 non-null  object \n",
      " 29  Order Id                       180519 non-null  int64  \n",
      " 30  Order Item Cardprod Id         180519 non-null  int64  \n",
      " 31  Order Item Discount            180519 non-null  float64\n",
      " 32  Order Item Discount Rate       180519 non-null  float64\n",
      " 33  Order Item Id                  180519 non-null  int64  \n",
      " 34  Order Item Product Price       180519 non-null  float64\n",
      " 35  Order Item Profit Ratio        180519 non-null  float64\n",
      " 36  Order Item Quantity            180519 non-null  int64  \n",
      " 37  Sales                          180519 non-null  float64\n",
      " 38  Order Item Total               180519 non-null  float64\n",
      " 39  Order Profit Per Order         180519 non-null  float64\n",
      " 40  Order Region                   180519 non-null  object \n",
      " 41  Order State                    180519 non-null  object \n",
      " 42  Order Status                   180519 non-null  object \n",
      " 43  Order Zipcode                  24840 non-null   float64\n",
      " 44  Product Card Id                180519 non-null  int64  \n",
      " 45  Product Category Id            180519 non-null  int64  \n",
      " 46  Product Description            0 non-null       float64\n",
      " 47  Product Image                  180519 non-null  object \n",
      " 48  Product Name                   180519 non-null  object \n",
      " 49  Product Price                  180519 non-null  float64\n",
      " 50  Product Status                 180519 non-null  int64  \n",
      " 51  shipping date (DateOrders)     180519 non-null  object \n",
      " 52  Shipping Mode                  180519 non-null  object \n",
      "dtypes: float64(15), int64(14), object(24)\n",
      "memory usage: 73.0+ MB\n"
     ]
    }
   ],
   "source": [
    "df.info()"
   ]
  },
  {
   "cell_type": "markdown",
   "metadata": {
    "id": "SvvUF60Ez75W"
   },
   "source": [
    "From this we have understood the data type of each column, found the columns where null values are present.\n",
    "\n",
    "Here the columns with null values are Customer Lname, Customer Zipcode, Order Zipcode, Product Description. All the columns are having the appropriate data types."
   ]
  },
  {
   "cell_type": "code",
   "execution_count": 157,
   "metadata": {
    "colab": {
     "base_uri": "https://localhost:8080/"
    },
    "id": "9pZ3CKIi0GVA",
    "outputId": "69602f18-9468-4329-f129-f09256748f64"
   },
   "outputs": [
    {
     "data": {
      "text/plain": [
       "29"
      ]
     },
     "execution_count": 157,
     "metadata": {},
     "output_type": "execute_result"
    }
   ],
   "source": [
    "# Length of numeric columns\n",
    "\n",
    "len(df.select_dtypes(include=np.number).columns)"
   ]
  },
  {
   "cell_type": "code",
   "execution_count": 158,
   "metadata": {
    "colab": {
     "base_uri": "https://localhost:8080/"
    },
    "id": "D0grd-id0S6l",
    "outputId": "05671b40-ad83-44e0-853e-15aab9579f32"
   },
   "outputs": [
    {
     "data": {
      "text/plain": [
       "24"
      ]
     },
     "execution_count": 158,
     "metadata": {},
     "output_type": "execute_result"
    }
   ],
   "source": [
    "# Length of categoric columns\n",
    "\n",
    "len(df.select_dtypes(exclude=np.number).columns)"
   ]
  },
  {
   "cell_type": "markdown",
   "metadata": {
    "id": "JYbAp_2S0cnv"
   },
   "source": [
    "### **Statistical summary of the numeric columns**"
   ]
  },
  {
   "cell_type": "code",
   "execution_count": 159,
   "metadata": {
    "colab": {
     "base_uri": "https://localhost:8080/",
     "height": 399
    },
    "id": "tES2q6yw0kD-",
    "outputId": "0820d1e1-3039-4579-a67d-4c0bbf764a31"
   },
   "outputs": [
    {
     "data": {
      "text/html": [
       "\n",
       "  <div id=\"df-7511a94e-abb8-4aeb-95d6-c8c0a3af856f\">\n",
       "    <div class=\"colab-df-container\">\n",
       "      <div>\n",
       "<style scoped>\n",
       "    .dataframe tbody tr th:only-of-type {\n",
       "        vertical-align: middle;\n",
       "    }\n",
       "\n",
       "    .dataframe tbody tr th {\n",
       "        vertical-align: top;\n",
       "    }\n",
       "\n",
       "    .dataframe thead th {\n",
       "        text-align: right;\n",
       "    }\n",
       "</style>\n",
       "<table border=\"1\" class=\"dataframe\">\n",
       "  <thead>\n",
       "    <tr style=\"text-align: right;\">\n",
       "      <th></th>\n",
       "      <th>Days for shipping (real)</th>\n",
       "      <th>Days for shipment (scheduled)</th>\n",
       "      <th>Benefit per order</th>\n",
       "      <th>Sales per customer</th>\n",
       "      <th>Late_delivery_risk</th>\n",
       "      <th>Category Id</th>\n",
       "      <th>Customer Id</th>\n",
       "      <th>Customer Zipcode</th>\n",
       "      <th>Department Id</th>\n",
       "      <th>Latitude</th>\n",
       "      <th>Longitude</th>\n",
       "      <th>Order Customer Id</th>\n",
       "      <th>Order Id</th>\n",
       "      <th>Order Item Cardprod Id</th>\n",
       "      <th>Order Item Discount</th>\n",
       "      <th>Order Item Discount Rate</th>\n",
       "      <th>Order Item Id</th>\n",
       "      <th>Order Item Product Price</th>\n",
       "      <th>Order Item Profit Ratio</th>\n",
       "      <th>Order Item Quantity</th>\n",
       "      <th>Sales</th>\n",
       "      <th>Order Item Total</th>\n",
       "      <th>Order Profit Per Order</th>\n",
       "      <th>Order Zipcode</th>\n",
       "      <th>Product Card Id</th>\n",
       "      <th>Product Category Id</th>\n",
       "      <th>Product Description</th>\n",
       "      <th>Product Price</th>\n",
       "      <th>Product Status</th>\n",
       "    </tr>\n",
       "  </thead>\n",
       "  <tbody>\n",
       "    <tr>\n",
       "      <th>count</th>\n",
       "      <td>180519.000000</td>\n",
       "      <td>180519.000000</td>\n",
       "      <td>180519.000000</td>\n",
       "      <td>180519.000000</td>\n",
       "      <td>180519.000000</td>\n",
       "      <td>180519.000000</td>\n",
       "      <td>180519.000000</td>\n",
       "      <td>180516.000000</td>\n",
       "      <td>180519.000000</td>\n",
       "      <td>180519.000000</td>\n",
       "      <td>180519.000000</td>\n",
       "      <td>180519.000000</td>\n",
       "      <td>180519.000000</td>\n",
       "      <td>180519.000000</td>\n",
       "      <td>180519.000000</td>\n",
       "      <td>180519.000000</td>\n",
       "      <td>180519.000000</td>\n",
       "      <td>180519.000000</td>\n",
       "      <td>180519.000000</td>\n",
       "      <td>180519.000000</td>\n",
       "      <td>180519.000000</td>\n",
       "      <td>180519.000000</td>\n",
       "      <td>180519.000000</td>\n",
       "      <td>24840.000000</td>\n",
       "      <td>180519.000000</td>\n",
       "      <td>180519.000000</td>\n",
       "      <td>0.0</td>\n",
       "      <td>180519.000000</td>\n",
       "      <td>180519.0</td>\n",
       "    </tr>\n",
       "    <tr>\n",
       "      <th>mean</th>\n",
       "      <td>3.497654</td>\n",
       "      <td>2.931847</td>\n",
       "      <td>21.974989</td>\n",
       "      <td>183.107609</td>\n",
       "      <td>0.548291</td>\n",
       "      <td>31.851451</td>\n",
       "      <td>6691.379495</td>\n",
       "      <td>35921.126914</td>\n",
       "      <td>5.443460</td>\n",
       "      <td>29.719955</td>\n",
       "      <td>-84.915675</td>\n",
       "      <td>6691.379495</td>\n",
       "      <td>36221.894903</td>\n",
       "      <td>692.509764</td>\n",
       "      <td>20.664741</td>\n",
       "      <td>0.101668</td>\n",
       "      <td>90260.000000</td>\n",
       "      <td>141.232550</td>\n",
       "      <td>0.120647</td>\n",
       "      <td>2.127638</td>\n",
       "      <td>203.772096</td>\n",
       "      <td>183.107609</td>\n",
       "      <td>21.974989</td>\n",
       "      <td>55426.132327</td>\n",
       "      <td>692.509764</td>\n",
       "      <td>31.851451</td>\n",
       "      <td>NaN</td>\n",
       "      <td>141.232550</td>\n",
       "      <td>0.0</td>\n",
       "    </tr>\n",
       "    <tr>\n",
       "      <th>std</th>\n",
       "      <td>1.623722</td>\n",
       "      <td>1.374449</td>\n",
       "      <td>104.433526</td>\n",
       "      <td>120.043670</td>\n",
       "      <td>0.497664</td>\n",
       "      <td>15.640064</td>\n",
       "      <td>4162.918106</td>\n",
       "      <td>37542.461122</td>\n",
       "      <td>1.629246</td>\n",
       "      <td>9.813646</td>\n",
       "      <td>21.433241</td>\n",
       "      <td>4162.918106</td>\n",
       "      <td>21045.379569</td>\n",
       "      <td>336.446807</td>\n",
       "      <td>21.800901</td>\n",
       "      <td>0.070415</td>\n",
       "      <td>52111.490959</td>\n",
       "      <td>139.732492</td>\n",
       "      <td>0.466796</td>\n",
       "      <td>1.453451</td>\n",
       "      <td>132.273077</td>\n",
       "      <td>120.043670</td>\n",
       "      <td>104.433526</td>\n",
       "      <td>31919.279101</td>\n",
       "      <td>336.446807</td>\n",
       "      <td>15.640064</td>\n",
       "      <td>NaN</td>\n",
       "      <td>139.732492</td>\n",
       "      <td>0.0</td>\n",
       "    </tr>\n",
       "    <tr>\n",
       "      <th>min</th>\n",
       "      <td>0.000000</td>\n",
       "      <td>0.000000</td>\n",
       "      <td>-4274.979980</td>\n",
       "      <td>7.490000</td>\n",
       "      <td>0.000000</td>\n",
       "      <td>2.000000</td>\n",
       "      <td>1.000000</td>\n",
       "      <td>603.000000</td>\n",
       "      <td>2.000000</td>\n",
       "      <td>-33.937553</td>\n",
       "      <td>-158.025986</td>\n",
       "      <td>1.000000</td>\n",
       "      <td>1.000000</td>\n",
       "      <td>19.000000</td>\n",
       "      <td>0.000000</td>\n",
       "      <td>0.000000</td>\n",
       "      <td>1.000000</td>\n",
       "      <td>9.990000</td>\n",
       "      <td>-2.750000</td>\n",
       "      <td>1.000000</td>\n",
       "      <td>9.990000</td>\n",
       "      <td>7.490000</td>\n",
       "      <td>-4274.979980</td>\n",
       "      <td>1040.000000</td>\n",
       "      <td>19.000000</td>\n",
       "      <td>2.000000</td>\n",
       "      <td>NaN</td>\n",
       "      <td>9.990000</td>\n",
       "      <td>0.0</td>\n",
       "    </tr>\n",
       "    <tr>\n",
       "      <th>25%</th>\n",
       "      <td>2.000000</td>\n",
       "      <td>2.000000</td>\n",
       "      <td>7.000000</td>\n",
       "      <td>104.379997</td>\n",
       "      <td>0.000000</td>\n",
       "      <td>18.000000</td>\n",
       "      <td>3258.500000</td>\n",
       "      <td>725.000000</td>\n",
       "      <td>4.000000</td>\n",
       "      <td>18.265432</td>\n",
       "      <td>-98.446312</td>\n",
       "      <td>3258.500000</td>\n",
       "      <td>18057.000000</td>\n",
       "      <td>403.000000</td>\n",
       "      <td>5.400000</td>\n",
       "      <td>0.040000</td>\n",
       "      <td>45130.500000</td>\n",
       "      <td>50.000000</td>\n",
       "      <td>0.080000</td>\n",
       "      <td>1.000000</td>\n",
       "      <td>119.980003</td>\n",
       "      <td>104.379997</td>\n",
       "      <td>7.000000</td>\n",
       "      <td>23464.000000</td>\n",
       "      <td>403.000000</td>\n",
       "      <td>18.000000</td>\n",
       "      <td>NaN</td>\n",
       "      <td>50.000000</td>\n",
       "      <td>0.0</td>\n",
       "    </tr>\n",
       "    <tr>\n",
       "      <th>50%</th>\n",
       "      <td>3.000000</td>\n",
       "      <td>4.000000</td>\n",
       "      <td>31.520000</td>\n",
       "      <td>163.990005</td>\n",
       "      <td>1.000000</td>\n",
       "      <td>29.000000</td>\n",
       "      <td>6457.000000</td>\n",
       "      <td>19380.000000</td>\n",
       "      <td>5.000000</td>\n",
       "      <td>33.144863</td>\n",
       "      <td>-76.847908</td>\n",
       "      <td>6457.000000</td>\n",
       "      <td>36140.000000</td>\n",
       "      <td>627.000000</td>\n",
       "      <td>14.000000</td>\n",
       "      <td>0.100000</td>\n",
       "      <td>90260.000000</td>\n",
       "      <td>59.990002</td>\n",
       "      <td>0.270000</td>\n",
       "      <td>1.000000</td>\n",
       "      <td>199.919998</td>\n",
       "      <td>163.990005</td>\n",
       "      <td>31.520000</td>\n",
       "      <td>59405.000000</td>\n",
       "      <td>627.000000</td>\n",
       "      <td>29.000000</td>\n",
       "      <td>NaN</td>\n",
       "      <td>59.990002</td>\n",
       "      <td>0.0</td>\n",
       "    </tr>\n",
       "    <tr>\n",
       "      <th>75%</th>\n",
       "      <td>5.000000</td>\n",
       "      <td>4.000000</td>\n",
       "      <td>64.800003</td>\n",
       "      <td>247.399994</td>\n",
       "      <td>1.000000</td>\n",
       "      <td>45.000000</td>\n",
       "      <td>9779.000000</td>\n",
       "      <td>78207.000000</td>\n",
       "      <td>7.000000</td>\n",
       "      <td>39.279617</td>\n",
       "      <td>-66.370583</td>\n",
       "      <td>9779.000000</td>\n",
       "      <td>54144.000000</td>\n",
       "      <td>1004.000000</td>\n",
       "      <td>29.990000</td>\n",
       "      <td>0.160000</td>\n",
       "      <td>135389.500000</td>\n",
       "      <td>199.990005</td>\n",
       "      <td>0.360000</td>\n",
       "      <td>3.000000</td>\n",
       "      <td>299.950012</td>\n",
       "      <td>247.399994</td>\n",
       "      <td>64.800003</td>\n",
       "      <td>90008.000000</td>\n",
       "      <td>1004.000000</td>\n",
       "      <td>45.000000</td>\n",
       "      <td>NaN</td>\n",
       "      <td>199.990005</td>\n",
       "      <td>0.0</td>\n",
       "    </tr>\n",
       "    <tr>\n",
       "      <th>max</th>\n",
       "      <td>6.000000</td>\n",
       "      <td>4.000000</td>\n",
       "      <td>911.799988</td>\n",
       "      <td>1939.989990</td>\n",
       "      <td>1.000000</td>\n",
       "      <td>76.000000</td>\n",
       "      <td>20757.000000</td>\n",
       "      <td>99205.000000</td>\n",
       "      <td>12.000000</td>\n",
       "      <td>48.781933</td>\n",
       "      <td>115.263077</td>\n",
       "      <td>20757.000000</td>\n",
       "      <td>77204.000000</td>\n",
       "      <td>1363.000000</td>\n",
       "      <td>500.000000</td>\n",
       "      <td>0.250000</td>\n",
       "      <td>180519.000000</td>\n",
       "      <td>1999.989990</td>\n",
       "      <td>0.500000</td>\n",
       "      <td>5.000000</td>\n",
       "      <td>1999.989990</td>\n",
       "      <td>1939.989990</td>\n",
       "      <td>911.799988</td>\n",
       "      <td>99301.000000</td>\n",
       "      <td>1363.000000</td>\n",
       "      <td>76.000000</td>\n",
       "      <td>NaN</td>\n",
       "      <td>1999.989990</td>\n",
       "      <td>0.0</td>\n",
       "    </tr>\n",
       "  </tbody>\n",
       "</table>\n",
       "</div>\n",
       "      <button class=\"colab-df-convert\" onclick=\"convertToInteractive('df-7511a94e-abb8-4aeb-95d6-c8c0a3af856f')\"\n",
       "              title=\"Convert this dataframe to an interactive table.\"\n",
       "              style=\"display:none;\">\n",
       "        \n",
       "  <svg xmlns=\"http://www.w3.org/2000/svg\" height=\"24px\"viewBox=\"0 0 24 24\"\n",
       "       width=\"24px\">\n",
       "    <path d=\"M0 0h24v24H0V0z\" fill=\"none\"/>\n",
       "    <path d=\"M18.56 5.44l.94 2.06.94-2.06 2.06-.94-2.06-.94-.94-2.06-.94 2.06-2.06.94zm-11 1L8.5 8.5l.94-2.06 2.06-.94-2.06-.94L8.5 2.5l-.94 2.06-2.06.94zm10 10l.94 2.06.94-2.06 2.06-.94-2.06-.94-.94-2.06-.94 2.06-2.06.94z\"/><path d=\"M17.41 7.96l-1.37-1.37c-.4-.4-.92-.59-1.43-.59-.52 0-1.04.2-1.43.59L10.3 9.45l-7.72 7.72c-.78.78-.78 2.05 0 2.83L4 21.41c.39.39.9.59 1.41.59.51 0 1.02-.2 1.41-.59l7.78-7.78 2.81-2.81c.8-.78.8-2.07 0-2.86zM5.41 20L4 18.59l7.72-7.72 1.47 1.35L5.41 20z\"/>\n",
       "  </svg>\n",
       "      </button>\n",
       "      \n",
       "  <style>\n",
       "    .colab-df-container {\n",
       "      display:flex;\n",
       "      flex-wrap:wrap;\n",
       "      gap: 12px;\n",
       "    }\n",
       "\n",
       "    .colab-df-convert {\n",
       "      background-color: #E8F0FE;\n",
       "      border: none;\n",
       "      border-radius: 50%;\n",
       "      cursor: pointer;\n",
       "      display: none;\n",
       "      fill: #1967D2;\n",
       "      height: 32px;\n",
       "      padding: 0 0 0 0;\n",
       "      width: 32px;\n",
       "    }\n",
       "\n",
       "    .colab-df-convert:hover {\n",
       "      background-color: #E2EBFA;\n",
       "      box-shadow: 0px 1px 2px rgba(60, 64, 67, 0.3), 0px 1px 3px 1px rgba(60, 64, 67, 0.15);\n",
       "      fill: #174EA6;\n",
       "    }\n",
       "\n",
       "    [theme=dark] .colab-df-convert {\n",
       "      background-color: #3B4455;\n",
       "      fill: #D2E3FC;\n",
       "    }\n",
       "\n",
       "    [theme=dark] .colab-df-convert:hover {\n",
       "      background-color: #434B5C;\n",
       "      box-shadow: 0px 1px 3px 1px rgba(0, 0, 0, 0.15);\n",
       "      filter: drop-shadow(0px 1px 2px rgba(0, 0, 0, 0.3));\n",
       "      fill: #FFFFFF;\n",
       "    }\n",
       "  </style>\n",
       "\n",
       "      <script>\n",
       "        const buttonEl =\n",
       "          document.querySelector('#df-7511a94e-abb8-4aeb-95d6-c8c0a3af856f button.colab-df-convert');\n",
       "        buttonEl.style.display =\n",
       "          google.colab.kernel.accessAllowed ? 'block' : 'none';\n",
       "\n",
       "        async function convertToInteractive(key) {\n",
       "          const element = document.querySelector('#df-7511a94e-abb8-4aeb-95d6-c8c0a3af856f');\n",
       "          const dataTable =\n",
       "            await google.colab.kernel.invokeFunction('convertToInteractive',\n",
       "                                                     [key], {});\n",
       "          if (!dataTable) return;\n",
       "\n",
       "          const docLinkHtml = 'Like what you see? Visit the ' +\n",
       "            '<a target=\"_blank\" href=https://colab.research.google.com/notebooks/data_table.ipynb>data table notebook</a>'\n",
       "            + ' to learn more about interactive tables.';\n",
       "          element.innerHTML = '';\n",
       "          dataTable['output_type'] = 'display_data';\n",
       "          await google.colab.output.renderOutput(dataTable, element);\n",
       "          const docLink = document.createElement('div');\n",
       "          docLink.innerHTML = docLinkHtml;\n",
       "          element.appendChild(docLink);\n",
       "        }\n",
       "      </script>\n",
       "    </div>\n",
       "  </div>\n",
       "  "
      ],
      "text/plain": [
       "       Days for shipping (real)  Days for shipment (scheduled)  \\\n",
       "count             180519.000000                  180519.000000   \n",
       "mean                   3.497654                       2.931847   \n",
       "std                    1.623722                       1.374449   \n",
       "min                    0.000000                       0.000000   \n",
       "25%                    2.000000                       2.000000   \n",
       "50%                    3.000000                       4.000000   \n",
       "75%                    5.000000                       4.000000   \n",
       "max                    6.000000                       4.000000   \n",
       "\n",
       "       Benefit per order  Sales per customer  Late_delivery_risk  \\\n",
       "count      180519.000000       180519.000000       180519.000000   \n",
       "mean           21.974989          183.107609            0.548291   \n",
       "std           104.433526          120.043670            0.497664   \n",
       "min         -4274.979980            7.490000            0.000000   \n",
       "25%             7.000000          104.379997            0.000000   \n",
       "50%            31.520000          163.990005            1.000000   \n",
       "75%            64.800003          247.399994            1.000000   \n",
       "max           911.799988         1939.989990            1.000000   \n",
       "\n",
       "         Category Id    Customer Id  Customer Zipcode  Department Id  \\\n",
       "count  180519.000000  180519.000000     180516.000000  180519.000000   \n",
       "mean       31.851451    6691.379495      35921.126914       5.443460   \n",
       "std        15.640064    4162.918106      37542.461122       1.629246   \n",
       "min         2.000000       1.000000        603.000000       2.000000   \n",
       "25%        18.000000    3258.500000        725.000000       4.000000   \n",
       "50%        29.000000    6457.000000      19380.000000       5.000000   \n",
       "75%        45.000000    9779.000000      78207.000000       7.000000   \n",
       "max        76.000000   20757.000000      99205.000000      12.000000   \n",
       "\n",
       "            Latitude      Longitude  Order Customer Id       Order Id  \\\n",
       "count  180519.000000  180519.000000      180519.000000  180519.000000   \n",
       "mean       29.719955     -84.915675        6691.379495   36221.894903   \n",
       "std         9.813646      21.433241        4162.918106   21045.379569   \n",
       "min       -33.937553    -158.025986           1.000000       1.000000   \n",
       "25%        18.265432     -98.446312        3258.500000   18057.000000   \n",
       "50%        33.144863     -76.847908        6457.000000   36140.000000   \n",
       "75%        39.279617     -66.370583        9779.000000   54144.000000   \n",
       "max        48.781933     115.263077       20757.000000   77204.000000   \n",
       "\n",
       "       Order Item Cardprod Id  Order Item Discount  Order Item Discount Rate  \\\n",
       "count           180519.000000        180519.000000             180519.000000   \n",
       "mean               692.509764            20.664741                  0.101668   \n",
       "std                336.446807            21.800901                  0.070415   \n",
       "min                 19.000000             0.000000                  0.000000   \n",
       "25%                403.000000             5.400000                  0.040000   \n",
       "50%                627.000000            14.000000                  0.100000   \n",
       "75%               1004.000000            29.990000                  0.160000   \n",
       "max               1363.000000           500.000000                  0.250000   \n",
       "\n",
       "       Order Item Id  Order Item Product Price  Order Item Profit Ratio  \\\n",
       "count  180519.000000             180519.000000            180519.000000   \n",
       "mean    90260.000000                141.232550                 0.120647   \n",
       "std     52111.490959                139.732492                 0.466796   \n",
       "min         1.000000                  9.990000                -2.750000   \n",
       "25%     45130.500000                 50.000000                 0.080000   \n",
       "50%     90260.000000                 59.990002                 0.270000   \n",
       "75%    135389.500000                199.990005                 0.360000   \n",
       "max    180519.000000               1999.989990                 0.500000   \n",
       "\n",
       "       Order Item Quantity          Sales  Order Item Total  \\\n",
       "count        180519.000000  180519.000000     180519.000000   \n",
       "mean              2.127638     203.772096        183.107609   \n",
       "std               1.453451     132.273077        120.043670   \n",
       "min               1.000000       9.990000          7.490000   \n",
       "25%               1.000000     119.980003        104.379997   \n",
       "50%               1.000000     199.919998        163.990005   \n",
       "75%               3.000000     299.950012        247.399994   \n",
       "max               5.000000    1999.989990       1939.989990   \n",
       "\n",
       "       Order Profit Per Order  Order Zipcode  Product Card Id  \\\n",
       "count           180519.000000   24840.000000    180519.000000   \n",
       "mean                21.974989   55426.132327       692.509764   \n",
       "std                104.433526   31919.279101       336.446807   \n",
       "min              -4274.979980    1040.000000        19.000000   \n",
       "25%                  7.000000   23464.000000       403.000000   \n",
       "50%                 31.520000   59405.000000       627.000000   \n",
       "75%                 64.800003   90008.000000      1004.000000   \n",
       "max                911.799988   99301.000000      1363.000000   \n",
       "\n",
       "       Product Category Id  Product Description  Product Price  Product Status  \n",
       "count        180519.000000                  0.0  180519.000000        180519.0  \n",
       "mean             31.851451                  NaN     141.232550             0.0  \n",
       "std              15.640064                  NaN     139.732492             0.0  \n",
       "min               2.000000                  NaN       9.990000             0.0  \n",
       "25%              18.000000                  NaN      50.000000             0.0  \n",
       "50%              29.000000                  NaN      59.990002             0.0  \n",
       "75%              45.000000                  NaN     199.990005             0.0  \n",
       "max              76.000000                  NaN    1999.989990             0.0  "
      ]
     },
     "execution_count": 159,
     "metadata": {},
     "output_type": "execute_result"
    }
   ],
   "source": [
    "df.describe()"
   ]
  },
  {
   "cell_type": "markdown",
   "metadata": {
    "id": "pH8eEqML0pU7"
   },
   "source": [
    "The describe() method gives the 5 statistical summary of the numerical columns present in the data set. The summary constitutes of the non-null value count, mean value, standard deviation, minimum value, maximum value, median, 25th quartile and 75th quartile values of the entire column."
   ]
  },
  {
   "cell_type": "markdown",
   "metadata": {
    "id": "AWOOleDV0wVE"
   },
   "source": [
    "## **Missing value analysis**"
   ]
  },
  {
   "cell_type": "code",
   "execution_count": 160,
   "metadata": {
    "colab": {
     "base_uri": "https://localhost:8080/"
    },
    "id": "4dZy-qJn01Z5",
    "outputId": "e80c6824-eab3-4454-f3c1-f59962c92120"
   },
   "outputs": [
    {
     "data": {
      "text/plain": [
       "Customer Lname           0.004432\n",
       "Customer Zipcode         0.001662\n",
       "Order Zipcode           86.239676\n",
       "Product Description    100.000000\n",
       "dtype: float64"
      ]
     },
     "execution_count": 160,
     "metadata": {},
     "output_type": "execute_result"
    }
   ],
   "source": [
    "df.isnull().sum()[df.isnull().sum()>0]*100/ len(df)"
   ]
  },
  {
   "cell_type": "markdown",
   "metadata": {
    "id": "VegzLxy108ru"
   },
   "source": [
    "As Product Description has 100% null values we can drop that column. Also for analysis and model building the categorical columns, ie Customer Lname, Customer Zipcode and Order Zipcode won't be needed and hence they can be dropped as well."
   ]
  },
  {
   "cell_type": "markdown",
   "metadata": {
    "id": "33H45eUD1Ee0"
   },
   "source": [
    "## **Duplicate rows and columns**"
   ]
  },
  {
   "cell_type": "code",
   "execution_count": 161,
   "metadata": {
    "colab": {
     "base_uri": "https://localhost:8080/",
     "height": 165
    },
    "id": "MoQxLpHU1LPS",
    "outputId": "06fd3b9f-e936-450e-dcf5-95f193dc2794"
   },
   "outputs": [
    {
     "data": {
      "text/html": [
       "\n",
       "  <div id=\"df-0b90644b-a2d3-4ccc-aa0d-3612eba3d8fe\">\n",
       "    <div class=\"colab-df-container\">\n",
       "      <div>\n",
       "<style scoped>\n",
       "    .dataframe tbody tr th:only-of-type {\n",
       "        vertical-align: middle;\n",
       "    }\n",
       "\n",
       "    .dataframe tbody tr th {\n",
       "        vertical-align: top;\n",
       "    }\n",
       "\n",
       "    .dataframe thead th {\n",
       "        text-align: right;\n",
       "    }\n",
       "</style>\n",
       "<table border=\"1\" class=\"dataframe\">\n",
       "  <thead>\n",
       "    <tr style=\"text-align: right;\">\n",
       "      <th></th>\n",
       "      <th>Type</th>\n",
       "      <th>Days for shipping (real)</th>\n",
       "      <th>Days for shipment (scheduled)</th>\n",
       "      <th>Benefit per order</th>\n",
       "      <th>Sales per customer</th>\n",
       "      <th>Delivery Status</th>\n",
       "      <th>Late_delivery_risk</th>\n",
       "      <th>Category Id</th>\n",
       "      <th>Category Name</th>\n",
       "      <th>Customer City</th>\n",
       "      <th>Customer Country</th>\n",
       "      <th>Customer Email</th>\n",
       "      <th>Customer Fname</th>\n",
       "      <th>Customer Id</th>\n",
       "      <th>Customer Lname</th>\n",
       "      <th>Customer Password</th>\n",
       "      <th>Customer Segment</th>\n",
       "      <th>Customer State</th>\n",
       "      <th>Customer Street</th>\n",
       "      <th>Customer Zipcode</th>\n",
       "      <th>Department Id</th>\n",
       "      <th>Department Name</th>\n",
       "      <th>Latitude</th>\n",
       "      <th>Longitude</th>\n",
       "      <th>Market</th>\n",
       "      <th>Order City</th>\n",
       "      <th>Order Country</th>\n",
       "      <th>Order Customer Id</th>\n",
       "      <th>order date (DateOrders)</th>\n",
       "      <th>Order Id</th>\n",
       "      <th>Order Item Cardprod Id</th>\n",
       "      <th>Order Item Discount</th>\n",
       "      <th>Order Item Discount Rate</th>\n",
       "      <th>Order Item Id</th>\n",
       "      <th>Order Item Product Price</th>\n",
       "      <th>Order Item Profit Ratio</th>\n",
       "      <th>Order Item Quantity</th>\n",
       "      <th>Sales</th>\n",
       "      <th>Order Item Total</th>\n",
       "      <th>Order Profit Per Order</th>\n",
       "      <th>Order Region</th>\n",
       "      <th>Order State</th>\n",
       "      <th>Order Status</th>\n",
       "      <th>Order Zipcode</th>\n",
       "      <th>Product Card Id</th>\n",
       "      <th>Product Category Id</th>\n",
       "      <th>Product Description</th>\n",
       "      <th>Product Image</th>\n",
       "      <th>Product Name</th>\n",
       "      <th>Product Price</th>\n",
       "      <th>Product Status</th>\n",
       "      <th>shipping date (DateOrders)</th>\n",
       "      <th>Shipping Mode</th>\n",
       "    </tr>\n",
       "  </thead>\n",
       "  <tbody>\n",
       "  </tbody>\n",
       "</table>\n",
       "</div>\n",
       "      <button class=\"colab-df-convert\" onclick=\"convertToInteractive('df-0b90644b-a2d3-4ccc-aa0d-3612eba3d8fe')\"\n",
       "              title=\"Convert this dataframe to an interactive table.\"\n",
       "              style=\"display:none;\">\n",
       "        \n",
       "  <svg xmlns=\"http://www.w3.org/2000/svg\" height=\"24px\"viewBox=\"0 0 24 24\"\n",
       "       width=\"24px\">\n",
       "    <path d=\"M0 0h24v24H0V0z\" fill=\"none\"/>\n",
       "    <path d=\"M18.56 5.44l.94 2.06.94-2.06 2.06-.94-2.06-.94-.94-2.06-.94 2.06-2.06.94zm-11 1L8.5 8.5l.94-2.06 2.06-.94-2.06-.94L8.5 2.5l-.94 2.06-2.06.94zm10 10l.94 2.06.94-2.06 2.06-.94-2.06-.94-.94-2.06-.94 2.06-2.06.94z\"/><path d=\"M17.41 7.96l-1.37-1.37c-.4-.4-.92-.59-1.43-.59-.52 0-1.04.2-1.43.59L10.3 9.45l-7.72 7.72c-.78.78-.78 2.05 0 2.83L4 21.41c.39.39.9.59 1.41.59.51 0 1.02-.2 1.41-.59l7.78-7.78 2.81-2.81c.8-.78.8-2.07 0-2.86zM5.41 20L4 18.59l7.72-7.72 1.47 1.35L5.41 20z\"/>\n",
       "  </svg>\n",
       "      </button>\n",
       "      \n",
       "  <style>\n",
       "    .colab-df-container {\n",
       "      display:flex;\n",
       "      flex-wrap:wrap;\n",
       "      gap: 12px;\n",
       "    }\n",
       "\n",
       "    .colab-df-convert {\n",
       "      background-color: #E8F0FE;\n",
       "      border: none;\n",
       "      border-radius: 50%;\n",
       "      cursor: pointer;\n",
       "      display: none;\n",
       "      fill: #1967D2;\n",
       "      height: 32px;\n",
       "      padding: 0 0 0 0;\n",
       "      width: 32px;\n",
       "    }\n",
       "\n",
       "    .colab-df-convert:hover {\n",
       "      background-color: #E2EBFA;\n",
       "      box-shadow: 0px 1px 2px rgba(60, 64, 67, 0.3), 0px 1px 3px 1px rgba(60, 64, 67, 0.15);\n",
       "      fill: #174EA6;\n",
       "    }\n",
       "\n",
       "    [theme=dark] .colab-df-convert {\n",
       "      background-color: #3B4455;\n",
       "      fill: #D2E3FC;\n",
       "    }\n",
       "\n",
       "    [theme=dark] .colab-df-convert:hover {\n",
       "      background-color: #434B5C;\n",
       "      box-shadow: 0px 1px 3px 1px rgba(0, 0, 0, 0.15);\n",
       "      filter: drop-shadow(0px 1px 2px rgba(0, 0, 0, 0.3));\n",
       "      fill: #FFFFFF;\n",
       "    }\n",
       "  </style>\n",
       "\n",
       "      <script>\n",
       "        const buttonEl =\n",
       "          document.querySelector('#df-0b90644b-a2d3-4ccc-aa0d-3612eba3d8fe button.colab-df-convert');\n",
       "        buttonEl.style.display =\n",
       "          google.colab.kernel.accessAllowed ? 'block' : 'none';\n",
       "\n",
       "        async function convertToInteractive(key) {\n",
       "          const element = document.querySelector('#df-0b90644b-a2d3-4ccc-aa0d-3612eba3d8fe');\n",
       "          const dataTable =\n",
       "            await google.colab.kernel.invokeFunction('convertToInteractive',\n",
       "                                                     [key], {});\n",
       "          if (!dataTable) return;\n",
       "\n",
       "          const docLinkHtml = 'Like what you see? Visit the ' +\n",
       "            '<a target=\"_blank\" href=https://colab.research.google.com/notebooks/data_table.ipynb>data table notebook</a>'\n",
       "            + ' to learn more about interactive tables.';\n",
       "          element.innerHTML = '';\n",
       "          dataTable['output_type'] = 'display_data';\n",
       "          await google.colab.output.renderOutput(dataTable, element);\n",
       "          const docLink = document.createElement('div');\n",
       "          docLink.innerHTML = docLinkHtml;\n",
       "          element.appendChild(docLink);\n",
       "        }\n",
       "      </script>\n",
       "    </div>\n",
       "  </div>\n",
       "  "
      ],
      "text/plain": [
       "Empty DataFrame\n",
       "Columns: [Type, Days for shipping (real), Days for shipment (scheduled), Benefit per order, Sales per customer, Delivery Status, Late_delivery_risk, Category Id, Category Name, Customer City, Customer Country, Customer Email, Customer Fname, Customer Id, Customer Lname, Customer Password, Customer Segment, Customer State, Customer Street, Customer Zipcode, Department Id, Department Name, Latitude, Longitude, Market, Order City, Order Country, Order Customer Id, order date (DateOrders), Order Id, Order Item Cardprod Id, Order Item Discount, Order Item Discount Rate, Order Item Id, Order Item Product Price, Order Item Profit Ratio, Order Item Quantity, Sales, Order Item Total, Order Profit Per Order, Order Region, Order State, Order Status, Order Zipcode, Product Card Id, Product Category Id, Product Description, Product Image, Product Name, Product Price, Product Status, shipping date (DateOrders), Shipping Mode]\n",
       "Index: []"
      ]
     },
     "execution_count": 161,
     "metadata": {},
     "output_type": "execute_result"
    }
   ],
   "source": [
    "# Rows\n",
    "\n",
    "df[df.duplicated()]"
   ]
  },
  {
   "cell_type": "markdown",
   "metadata": {
    "id": "eOwZQXom1fdC"
   },
   "source": [
    "None of the rows are duplicated."
   ]
  },
  {
   "cell_type": "code",
   "execution_count": 162,
   "metadata": {
    "colab": {
     "base_uri": "https://localhost:8080/"
    },
    "id": "eGmud6tV1WPP",
    "outputId": "16bcb5ed-2352-442c-bf17-cb0c75cb503e"
   },
   "outputs": [
    {
     "name": "stdout",
     "output_type": "stream",
     "text": [
      "Column Name :  Product Price\n",
      "Column Name :  Order Customer Id\n",
      "Column Name :  Order Profit Per Order\n",
      "Column Name :  Order Item Total\n",
      "Column Name :  Product Card Id\n",
      "Column Name :  Customer Password\n",
      "Column Name :  Product Category Id\n"
     ]
    }
   ],
   "source": [
    "# Columns\n",
    "\n",
    "duplicateColumnNames = set()\n",
    "\n",
    "def getDuplicateColumns(df):\n",
    "    for x in range(df.shape[1]):\n",
    "        col = df.iloc[:, x]\n",
    "        for y in range(x + 1, df.shape[1]):\n",
    "            otherCol = df.iloc[:, y]\n",
    "            if col.equals(otherCol):\n",
    "                duplicateColumnNames.add(df.columns.values[y])\n",
    "    return list(duplicateColumnNames)\n",
    "\n",
    "duplicateColNames = getDuplicateColumns(df)\n",
    "\n",
    "for column in duplicateColNames:\n",
    "    print('Column Name : ', column)"
   ]
  },
  {
   "cell_type": "markdown",
   "metadata": {
    "id": "xRLpLrmX1noO"
   },
   "source": [
    "The corresponding 7 columns are redundant and hence can be dropped for further analysis.\n",
    "\n",
    "Order Profit Per Order- Benefits per order\n",
    "\n",
    "Product Category Id- Category Id\n",
    "\n",
    "Customer Password- Customer Email\n",
    "\n",
    "Order Item Total- Sales per customer\n",
    "\n",
    "Product Card Id- Order Item Product Card Id\n",
    "\n",
    "Order Customer Id- Customer Id\n",
    "\n",
    "Product Price- Order Item Product price"
   ]
  },
  {
   "cell_type": "markdown",
   "metadata": {
    "id": "cxhMtYjE2FiH"
   },
   "source": [
    "## Dropping the redundant columns"
   ]
  },
  {
   "cell_type": "code",
   "execution_count": 163,
   "metadata": {
    "id": "TEYuJ6ag2N_-"
   },
   "outputs": [],
   "source": [
    "df= df.drop(['Order Profit Per Order','Product Category Id','Customer Password','Order Item Total','Product Card Id','Order Customer Id','Product Price','Customer Email',\n",
    "             'Order Item Cardprod Id'],1)"
   ]
  },
  {
   "cell_type": "code",
   "execution_count": 164,
   "metadata": {
    "colab": {
     "base_uri": "https://localhost:8080/",
     "height": 249
    },
    "id": "fc_VQ4vnD2Kg",
    "outputId": "e429be57-eb3a-454e-ab67-a82918d1a70b"
   },
   "outputs": [
    {
     "data": {
      "text/html": [
       "\n",
       "  <div id=\"df-f1d30c92-ccd6-42e8-b59a-b54b1a3ea239\">\n",
       "    <div class=\"colab-df-container\">\n",
       "      <div>\n",
       "<style scoped>\n",
       "    .dataframe tbody tr th:only-of-type {\n",
       "        vertical-align: middle;\n",
       "    }\n",
       "\n",
       "    .dataframe tbody tr th {\n",
       "        vertical-align: top;\n",
       "    }\n",
       "\n",
       "    .dataframe thead th {\n",
       "        text-align: right;\n",
       "    }\n",
       "</style>\n",
       "<table border=\"1\" class=\"dataframe\">\n",
       "  <thead>\n",
       "    <tr style=\"text-align: right;\">\n",
       "      <th></th>\n",
       "      <th>Type</th>\n",
       "      <th>Days for shipping (real)</th>\n",
       "      <th>Days for shipment (scheduled)</th>\n",
       "      <th>Benefit per order</th>\n",
       "      <th>Sales per customer</th>\n",
       "      <th>Delivery Status</th>\n",
       "      <th>Late_delivery_risk</th>\n",
       "      <th>Category Id</th>\n",
       "      <th>Category Name</th>\n",
       "      <th>Customer City</th>\n",
       "      <th>Customer Country</th>\n",
       "      <th>Customer Fname</th>\n",
       "      <th>Customer Id</th>\n",
       "      <th>Customer Lname</th>\n",
       "      <th>Customer Segment</th>\n",
       "      <th>Customer State</th>\n",
       "      <th>Customer Street</th>\n",
       "      <th>Customer Zipcode</th>\n",
       "      <th>Department Id</th>\n",
       "      <th>Department Name</th>\n",
       "      <th>Latitude</th>\n",
       "      <th>Longitude</th>\n",
       "      <th>Market</th>\n",
       "      <th>Order City</th>\n",
       "      <th>Order Country</th>\n",
       "      <th>order date (DateOrders)</th>\n",
       "      <th>Order Id</th>\n",
       "      <th>Order Item Discount</th>\n",
       "      <th>Order Item Discount Rate</th>\n",
       "      <th>Order Item Id</th>\n",
       "      <th>Order Item Product Price</th>\n",
       "      <th>Order Item Profit Ratio</th>\n",
       "      <th>Order Item Quantity</th>\n",
       "      <th>Sales</th>\n",
       "      <th>Order Region</th>\n",
       "      <th>Order State</th>\n",
       "      <th>Order Status</th>\n",
       "      <th>Order Zipcode</th>\n",
       "      <th>Product Description</th>\n",
       "      <th>Product Image</th>\n",
       "      <th>Product Name</th>\n",
       "      <th>Product Status</th>\n",
       "      <th>shipping date (DateOrders)</th>\n",
       "      <th>Shipping Mode</th>\n",
       "    </tr>\n",
       "  </thead>\n",
       "  <tbody>\n",
       "    <tr>\n",
       "      <th>0</th>\n",
       "      <td>DEBIT</td>\n",
       "      <td>3</td>\n",
       "      <td>4</td>\n",
       "      <td>91.25</td>\n",
       "      <td>314.640015</td>\n",
       "      <td>Advance shipping</td>\n",
       "      <td>0</td>\n",
       "      <td>73</td>\n",
       "      <td>Sporting Goods</td>\n",
       "      <td>Caguas</td>\n",
       "      <td>Puerto Rico</td>\n",
       "      <td>Cally</td>\n",
       "      <td>20755</td>\n",
       "      <td>Holloway</td>\n",
       "      <td>Consumer</td>\n",
       "      <td>PR</td>\n",
       "      <td>5365 Noble Nectar Island</td>\n",
       "      <td>725.0</td>\n",
       "      <td>2</td>\n",
       "      <td>Fitness</td>\n",
       "      <td>18.251453</td>\n",
       "      <td>-66.037056</td>\n",
       "      <td>Pacific Asia</td>\n",
       "      <td>Bekasi</td>\n",
       "      <td>Indonesia</td>\n",
       "      <td>1/31/2018 22:56</td>\n",
       "      <td>77202</td>\n",
       "      <td>13.11</td>\n",
       "      <td>0.04</td>\n",
       "      <td>180517</td>\n",
       "      <td>327.75</td>\n",
       "      <td>0.29</td>\n",
       "      <td>1</td>\n",
       "      <td>327.75</td>\n",
       "      <td>Southeast Asia</td>\n",
       "      <td>Java Occidental</td>\n",
       "      <td>COMPLETE</td>\n",
       "      <td>NaN</td>\n",
       "      <td>NaN</td>\n",
       "      <td>http://images.acmesports.sports/Smart+watch</td>\n",
       "      <td>Smart watch</td>\n",
       "      <td>0</td>\n",
       "      <td>2/3/2018 22:56</td>\n",
       "      <td>Standard Class</td>\n",
       "    </tr>\n",
       "  </tbody>\n",
       "</table>\n",
       "</div>\n",
       "      <button class=\"colab-df-convert\" onclick=\"convertToInteractive('df-f1d30c92-ccd6-42e8-b59a-b54b1a3ea239')\"\n",
       "              title=\"Convert this dataframe to an interactive table.\"\n",
       "              style=\"display:none;\">\n",
       "        \n",
       "  <svg xmlns=\"http://www.w3.org/2000/svg\" height=\"24px\"viewBox=\"0 0 24 24\"\n",
       "       width=\"24px\">\n",
       "    <path d=\"M0 0h24v24H0V0z\" fill=\"none\"/>\n",
       "    <path d=\"M18.56 5.44l.94 2.06.94-2.06 2.06-.94-2.06-.94-.94-2.06-.94 2.06-2.06.94zm-11 1L8.5 8.5l.94-2.06 2.06-.94-2.06-.94L8.5 2.5l-.94 2.06-2.06.94zm10 10l.94 2.06.94-2.06 2.06-.94-2.06-.94-.94-2.06-.94 2.06-2.06.94z\"/><path d=\"M17.41 7.96l-1.37-1.37c-.4-.4-.92-.59-1.43-.59-.52 0-1.04.2-1.43.59L10.3 9.45l-7.72 7.72c-.78.78-.78 2.05 0 2.83L4 21.41c.39.39.9.59 1.41.59.51 0 1.02-.2 1.41-.59l7.78-7.78 2.81-2.81c.8-.78.8-2.07 0-2.86zM5.41 20L4 18.59l7.72-7.72 1.47 1.35L5.41 20z\"/>\n",
       "  </svg>\n",
       "      </button>\n",
       "      \n",
       "  <style>\n",
       "    .colab-df-container {\n",
       "      display:flex;\n",
       "      flex-wrap:wrap;\n",
       "      gap: 12px;\n",
       "    }\n",
       "\n",
       "    .colab-df-convert {\n",
       "      background-color: #E8F0FE;\n",
       "      border: none;\n",
       "      border-radius: 50%;\n",
       "      cursor: pointer;\n",
       "      display: none;\n",
       "      fill: #1967D2;\n",
       "      height: 32px;\n",
       "      padding: 0 0 0 0;\n",
       "      width: 32px;\n",
       "    }\n",
       "\n",
       "    .colab-df-convert:hover {\n",
       "      background-color: #E2EBFA;\n",
       "      box-shadow: 0px 1px 2px rgba(60, 64, 67, 0.3), 0px 1px 3px 1px rgba(60, 64, 67, 0.15);\n",
       "      fill: #174EA6;\n",
       "    }\n",
       "\n",
       "    [theme=dark] .colab-df-convert {\n",
       "      background-color: #3B4455;\n",
       "      fill: #D2E3FC;\n",
       "    }\n",
       "\n",
       "    [theme=dark] .colab-df-convert:hover {\n",
       "      background-color: #434B5C;\n",
       "      box-shadow: 0px 1px 3px 1px rgba(0, 0, 0, 0.15);\n",
       "      filter: drop-shadow(0px 1px 2px rgba(0, 0, 0, 0.3));\n",
       "      fill: #FFFFFF;\n",
       "    }\n",
       "  </style>\n",
       "\n",
       "      <script>\n",
       "        const buttonEl =\n",
       "          document.querySelector('#df-f1d30c92-ccd6-42e8-b59a-b54b1a3ea239 button.colab-df-convert');\n",
       "        buttonEl.style.display =\n",
       "          google.colab.kernel.accessAllowed ? 'block' : 'none';\n",
       "\n",
       "        async function convertToInteractive(key) {\n",
       "          const element = document.querySelector('#df-f1d30c92-ccd6-42e8-b59a-b54b1a3ea239');\n",
       "          const dataTable =\n",
       "            await google.colab.kernel.invokeFunction('convertToInteractive',\n",
       "                                                     [key], {});\n",
       "          if (!dataTable) return;\n",
       "\n",
       "          const docLinkHtml = 'Like what you see? Visit the ' +\n",
       "            '<a target=\"_blank\" href=https://colab.research.google.com/notebooks/data_table.ipynb>data table notebook</a>'\n",
       "            + ' to learn more about interactive tables.';\n",
       "          element.innerHTML = '';\n",
       "          dataTable['output_type'] = 'display_data';\n",
       "          await google.colab.output.renderOutput(dataTable, element);\n",
       "          const docLink = document.createElement('div');\n",
       "          docLink.innerHTML = docLinkHtml;\n",
       "          element.appendChild(docLink);\n",
       "        }\n",
       "      </script>\n",
       "    </div>\n",
       "  </div>\n",
       "  "
      ],
      "text/plain": [
       "    Type  Days for shipping (real)  Days for shipment (scheduled)  \\\n",
       "0  DEBIT                         3                              4   \n",
       "\n",
       "   Benefit per order  Sales per customer   Delivery Status  \\\n",
       "0              91.25          314.640015  Advance shipping   \n",
       "\n",
       "   Late_delivery_risk  Category Id   Category Name Customer City  \\\n",
       "0                   0           73  Sporting Goods        Caguas   \n",
       "\n",
       "  Customer Country Customer Fname  Customer Id Customer Lname  \\\n",
       "0      Puerto Rico          Cally        20755       Holloway   \n",
       "\n",
       "  Customer Segment Customer State           Customer Street  Customer Zipcode  \\\n",
       "0         Consumer             PR  5365 Noble Nectar Island             725.0   \n",
       "\n",
       "   Department Id Department Name   Latitude  Longitude        Market  \\\n",
       "0              2         Fitness  18.251453 -66.037056  Pacific Asia   \n",
       "\n",
       "  Order City Order Country order date (DateOrders)  Order Id  \\\n",
       "0     Bekasi     Indonesia         1/31/2018 22:56     77202   \n",
       "\n",
       "   Order Item Discount  Order Item Discount Rate  Order Item Id  \\\n",
       "0                13.11                      0.04         180517   \n",
       "\n",
       "   Order Item Product Price  Order Item Profit Ratio  Order Item Quantity  \\\n",
       "0                    327.75                     0.29                    1   \n",
       "\n",
       "    Sales    Order Region      Order State Order Status  Order Zipcode  \\\n",
       "0  327.75  Southeast Asia  Java Occidental     COMPLETE            NaN   \n",
       "\n",
       "   Product Description                                 Product Image  \\\n",
       "0                  NaN  http://images.acmesports.sports/Smart+watch    \n",
       "\n",
       "   Product Name  Product Status shipping date (DateOrders)   Shipping Mode  \n",
       "0  Smart watch                0             2/3/2018 22:56  Standard Class  "
      ]
     },
     "execution_count": 164,
     "metadata": {},
     "output_type": "execute_result"
    }
   ],
   "source": [
    "df.head(1)"
   ]
  },
  {
   "cell_type": "markdown",
   "metadata": {
    "id": "IY_LHRvY3rfw"
   },
   "source": [
    "## Splitting numeric and categorical columns"
   ]
  },
  {
   "cell_type": "code",
   "execution_count": 165,
   "metadata": {
    "id": "cWbQa9Ch3rKV"
   },
   "outputs": [],
   "source": [
    "num= df.select_dtypes(include= np.number).columns\n",
    "cat= df.select_dtypes(exclude= np.number).columns"
   ]
  },
  {
   "cell_type": "markdown",
   "metadata": {
    "id": "fKvS8seW6t4e"
   },
   "source": [
    "### **Dataset imbalance check**"
   ]
  },
  {
   "cell_type": "code",
   "execution_count": 166,
   "metadata": {
    "colab": {
     "base_uri": "https://localhost:8080/"
    },
    "id": "M8AaGRQl6rNj",
    "outputId": "a2d72d02-a813-4cb8-b551-f57b9186eb3e"
   },
   "outputs": [
    {
     "data": {
      "text/plain": [
       "1    98977\n",
       "0    81542\n",
       "Name: Late_delivery_risk, dtype: int64"
      ]
     },
     "execution_count": 166,
     "metadata": {},
     "output_type": "execute_result"
    }
   ],
   "source": [
    "df.Late_delivery_risk.value_counts()"
   ]
  },
  {
   "cell_type": "code",
   "execution_count": 167,
   "metadata": {
    "colab": {
     "base_uri": "https://localhost:8080/",
     "height": 428
    },
    "id": "hG5cgokE6grt",
    "outputId": "e9f3d633-6cd5-49b0-a9cf-fbf161a03a34"
   },
   "outputs": [
    {
     "data": {
      "text/plain": [
       "<matplotlib.axes._subplots.AxesSubplot at 0x7ff639ba42b0>"
      ]
     },
     "execution_count": 167,
     "metadata": {},
     "output_type": "execute_result"
    },
    {
     "data": {
      "image/png": "[encoded data removed]",
      "text/plain": [
       "<Figure size 1080x504 with 1 Axes>"
      ]
     },
     "metadata": {},
     "output_type": "display_data"
    }
   ],
   "source": [
    "df.Late_delivery_risk.value_counts().plot(kind='pie')\n"
   ]
  },
  {
   "cell_type": "markdown",
   "metadata": {
    "id": "6MwQ8K0N7DVK"
   },
   "source": [
    "The data set is balanced dataset"
   ]
  },
  {
   "cell_type": "markdown",
   "metadata": {
    "id": "b9f6E-QU7H9a"
   },
   "source": [
    "## Univariate Analysis"
   ]
  },
  {
   "cell_type": "code",
   "execution_count": 168,
   "metadata": {
    "colab": {
     "base_uri": "https://localhost:8080/"
    },
    "id": "hBlXXWk0AwhA",
    "outputId": "59b58a6e-3a04-49d2-ba72-47ee828b6660"
   },
   "outputs": [
    {
     "data": {
      "text/plain": [
       "Index(['Days for shipping (real)', 'Days for shipment (scheduled)',\n",
       "       'Benefit per order', 'Sales per customer', 'Late_delivery_risk',\n",
       "       'Category Id', 'Customer Id', 'Customer Zipcode', 'Department Id',\n",
       "       'Latitude', 'Longitude', 'Order Id', 'Order Item Discount',\n",
       "       'Order Item Discount Rate', 'Order Item Id', 'Order Item Product Price',\n",
       "       'Order Item Profit Ratio', 'Order Item Quantity', 'Sales',\n",
       "       'Order Zipcode', 'Product Description', 'Product Status'],\n",
       "      dtype='object')"
      ]
     },
     "execution_count": 168,
     "metadata": {},
     "output_type": "execute_result"
    }
   ],
   "source": [
    "num"
   ]
  },
  {
   "cell_type": "code",
   "execution_count": 169,
   "metadata": {
    "colab": {
     "base_uri": "https://localhost:8080/",
     "height": 370
    },
    "id": "-mhVJ3NV7Mbg",
    "outputId": "ae5d42d7-ea21-4a9b-e7ac-c2607c29d119"
   },
   "outputs": [
    {
     "data": {
      "image/png": "[encoded data removed]",
      "text/plain": [
       "<Figure size 1080x504 with 5 Axes>"
      ]
     },
     "metadata": {
      "needs_background": "light"
     },
     "output_type": "display_data"
    }
   ],
   "source": [
    "# Numeric continuous variables\n",
    "\n",
    "iterator=1\n",
    "for i in [ 'Benefit per order', 'Sales per customer','Order Item Discount','Order Item Product Price', 'Sales']:\n",
    "    plt.subplot(3,3,iterator)\n",
    "    sns.histplot(data=df, x=i)\n",
    "    iterator+=1\n",
    "\n",
    "plt.tight_layout()\n",
    "plt.show()"
   ]
  },
  {
   "cell_type": "code",
   "execution_count": 170,
   "metadata": {
    "colab": {
     "base_uri": "https://localhost:8080/",
     "height": 513
    },
    "id": "EZecwY4YEinI",
    "outputId": "495e47dd-b92b-4f83-e43b-29b7e5689b10"
   },
   "outputs": [
    {
     "data": {
      "image/png": "[encoded data removed]",
      "text/plain": [
       "<Figure size 1080x504 with 6 Axes>"
      ]
     },
     "metadata": {
      "needs_background": "light"
     },
     "output_type": "display_data"
    }
   ],
   "source": [
    "# Numeric discrete variables\n",
    "\n",
    "col1=['Days for shipping (real)', 'Days for shipment (scheduled)','Late_delivery_risk','Order Item Discount Rate','Order Item Quantity','Product Status']\n",
    "\n",
    "iterator=1\n",
    "for i in col1:\n",
    "    plt.subplot(2,3,iterator)\n",
    "    sns.countplot(data=df, x=i)\n",
    "    plt.xticks(rotation=90)\n",
    "    iterator+=1\n",
    "\n",
    "plt.tight_layout()\n",
    "plt.show()"
   ]
  },
  {
   "cell_type": "code",
   "execution_count": 171,
   "metadata": {
    "colab": {
     "base_uri": "https://localhost:8080/"
    },
    "id": "nEQCoD_2BYaV",
    "outputId": "3a438500-16c4-49a4-fe64-5a5c7d9c0509"
   },
   "outputs": [
    {
     "data": {
      "text/plain": [
       "Index(['Type', 'Delivery Status', 'Category Name', 'Customer City',\n",
       "       'Customer Country', 'Customer Fname', 'Customer Lname',\n",
       "       'Customer Segment', 'Customer State', 'Customer Street',\n",
       "       'Department Name', 'Market', 'Order City', 'Order Country',\n",
       "       'order date (DateOrders)', 'Order Region', 'Order State',\n",
       "       'Order Status', 'Product Image', 'Product Name',\n",
       "       'shipping date (DateOrders)', 'Shipping Mode'],\n",
       "      dtype='object')"
      ]
     },
     "execution_count": 171,
     "metadata": {},
     "output_type": "execute_result"
    }
   ],
   "source": [
    "cat"
   ]
  },
  {
   "cell_type": "code",
   "execution_count": 172,
   "metadata": {
    "colab": {
     "base_uri": "https://localhost:8080/",
     "height": 633
    },
    "id": "6Vx2awnUBTo9",
    "outputId": "be260adf-18b5-4f64-81c5-4e6968d533ef"
   },
   "outputs": [
    {
     "data": {
      "image/png": "[encoded data removed]",
      "text/plain": [
       "<Figure size 1080x504 with 8 Axes>"
      ]
     },
     "metadata": {
      "needs_background": "light"
     },
     "output_type": "display_data"
    }
   ],
   "source": [
    "# Categorical variables\n",
    "\n",
    "iterator=1\n",
    "for i in ['Type','Delivery Status', 'Customer Segment', 'Department Name', 'Market', 'Order Region','Order Status', 'Shipping Mode']:\n",
    "    plt.subplot(4,2,iterator)\n",
    "    sns.countplot(data=df, x=i)\n",
    "    plt.xticks(rotation=90)\n",
    "    iterator+=1\n",
    "    plt.tight_layout()\n",
    "plt.show()"
   ]
  },
  {
   "cell_type": "code",
   "execution_count": 173,
   "metadata": {
    "colab": {
     "base_uri": "https://localhost:8080/",
     "height": 512
    },
    "id": "EoilakxZB_U8",
    "outputId": "bb44ce66-c149-4a72-da30-3293e9ae429d"
   },
   "outputs": [
    {
     "data": {
      "text/plain": [
       "<matplotlib.axes._subplots.AxesSubplot at 0x7ff62b7acf10>"
      ]
     },
     "execution_count": 173,
     "metadata": {},
     "output_type": "execute_result"
    },
    {
     "data": {
      "image/png": "[encoded data removed]",
      "text/plain": [
       "<Figure size 1080x504 with 1 Axes>"
      ]
     },
     "metadata": {
      "needs_background": "light"
     },
     "output_type": "display_data"
    }
   ],
   "source": [
    "# Number of orders delivered to top 10 countries\n",
    "\n",
    "df['Order Country'].value_counts()[:10].plot(kind='bar')"
   ]
  },
  {
   "cell_type": "code",
   "execution_count": 174,
   "metadata": {
    "colab": {
     "base_uri": "https://localhost:8080/",
     "height": 549
    },
    "id": "ZeHiU_Y1B_O7",
    "outputId": "c06e2213-5ebc-4216-e052-ffd6fb847bc2"
   },
   "outputs": [
    {
     "data": {
      "text/plain": [
       "<matplotlib.axes._subplots.AxesSubplot at 0x7ff62bc90580>"
      ]
     },
     "execution_count": 174,
     "metadata": {},
     "output_type": "execute_result"
    },
    {
     "data": {
      "image/png": "[encoded data removed]",
      "text/plain": [
       "<Figure size 1080x504 with 1 Axes>"
      ]
     },
     "metadata": {
      "needs_background": "light"
     },
     "output_type": "display_data"
    }
   ],
   "source": [
    "# Demand of items in top 10 categories\n",
    "\n",
    "df['Category Name'].value_counts()[:10].plot(kind='bar')"
   ]
  },
  {
   "cell_type": "code",
   "execution_count": 175,
   "metadata": {
    "colab": {
     "base_uri": "https://localhost:8080/",
     "height": 685
    },
    "id": "ELWt-N_hB_In",
    "outputId": "9f77dbe1-e129-48fe-b51e-275a260b2212"
   },
   "outputs": [
    {
     "data": {
      "text/plain": [
       "<matplotlib.axes._subplots.AxesSubplot at 0x7ff629d5a8e0>"
      ]
     },
     "execution_count": 175,
     "metadata": {},
     "output_type": "execute_result"
    },
    {
     "data": {
      "image/png": "[encoded data removed]",
      "text/plain": [
       "<Figure size 1080x504 with 1 Axes>"
      ]
     },
     "metadata": {
      "needs_background": "light"
     },
     "output_type": "display_data"
    }
   ],
   "source": [
    "# Top 10 products purchased frequently\n",
    "\n",
    "df['Product Name'].value_counts()[:10].plot(kind='bar')"
   ]
  },
  {
   "cell_type": "markdown",
   "metadata": {
    "id": "3zTZE_5liQxf"
   },
   "source": [
    "The Product Status column has only 0, which means product is available. Hence it is not required for further analysis and hence can be dropped."
   ]
  },
  {
   "cell_type": "code",
   "execution_count": 176,
   "metadata": {
    "id": "vlt9XGfeB_CG"
   },
   "outputs": [],
   "source": [
    "# Dropping product status column\n",
    "\n",
    "df= df.drop('Product Status',1)"
   ]
  },
  {
   "cell_type": "markdown",
   "metadata": {
    "id": "9DZ17JexCqvz"
   },
   "source": [
    "## Bivariate Analysis"
   ]
  },
  {
   "cell_type": "code",
   "execution_count": 177,
   "metadata": {
    "colab": {
     "base_uri": "https://localhost:8080/",
     "height": 513
    },
    "id": "vx9_bBCBiNCL",
    "outputId": "2d0eec50-5fe4-4084-f5dd-5e91ee7ebb60"
   },
   "outputs": [
    {
     "data": {
      "image/png": "[encoded data removed]",
      "text/plain": [
       "<Figure size 1080x504 with 5 Axes>"
      ]
     },
     "metadata": {
      "needs_background": "light"
     },
     "output_type": "display_data"
    }
   ],
   "source": [
    "# Numeric continuous columns\n",
    "\n",
    "iterator=1\n",
    "for i in [ 'Benefit per order', 'Sales per customer','Order Item Discount', 'Sales', 'Order Item Product Price']:\n",
    "    plt.subplot(3,2,iterator)\n",
    "    sns.boxplot(data=df, y=i, x='Late_delivery_risk')\n",
    "    iterator+=1\n",
    "    \n",
    "plt.tight_layout()\n",
    "plt.show()"
   ]
  },
  {
   "cell_type": "code",
   "execution_count": 178,
   "metadata": {
    "colab": {
     "base_uri": "https://localhost:8080/",
     "height": 513
    },
    "id": "E0BNey3kltTg",
    "outputId": "4a5073da-33ca-4ed4-f549-fe3e26672080"
   },
   "outputs": [
    {
     "data": {
      "image/png": "[encoded data removed]",
      "text/plain": [
       "<Figure size 1080x504 with 4 Axes>"
      ]
     },
     "metadata": {
      "needs_background": "light"
     },
     "output_type": "display_data"
    }
   ],
   "source": [
    "# Numeric discrete columns\n",
    "\n",
    "iterator=1\n",
    "for i in ['Days for shipping (real)', 'Days for shipment (scheduled)','Order Item Quantity','Department Name']:\n",
    "    plt.subplot(2,2,iterator)\n",
    "    sns.countplot(data=df, x=i, hue='Late_delivery_risk')\n",
    "    plt.xticks(rotation=90)\n",
    "    iterator+=1\n",
    "    \n",
    "plt.tight_layout()\n",
    "plt.show()\n"
   ]
  },
  {
   "cell_type": "code",
   "execution_count": 179,
   "metadata": {
    "colab": {
     "base_uri": "https://localhost:8080/",
     "height": 546
    },
    "id": "1VVG5kYqDuFA",
    "outputId": "71a058fc-45cc-4782-eaea-bdfbc9260e82"
   },
   "outputs": [
    {
     "data": {
      "image/png": "[encoded data removed]",
      "text/plain": [
       "<Figure size 1080x504 with 1 Axes>"
      ]
     },
     "metadata": {
      "needs_background": "light"
     },
     "output_type": "display_data"
    }
   ],
   "source": [
    "# Category name vs late delivery risk\n",
    "\n",
    "sns.countplot(data=df, x='Category Name', hue='Late_delivery_risk')\n",
    "plt.xticks(rotation=90)\n",
    "plt.show()"
   ]
  },
  {
   "cell_type": "code",
   "execution_count": 180,
   "metadata": {
    "colab": {
     "base_uri": "https://localhost:8080/",
     "height": 1000
    },
    "id": "Q3X-PIM-DuCs",
    "outputId": "eee47f9e-c592-482e-a3d0-d104e95b3077"
   },
   "outputs": [
    {
     "data": {
      "image/png": "[encoded data removed]",
      "text/plain": [
       "<Figure size 1440x1080 with 1 Axes>"
      ]
     },
     "metadata": {
      "needs_background": "light"
     },
     "output_type": "display_data"
    },
    {
     "data": {
      "image/png": "[encoded data removed]",
      "text/plain": [
       "<Figure size 1440x1080 with 1 Axes>"
      ]
     },
     "metadata": {
      "needs_background": "light"
     },
     "output_type": "display_data"
    },
    {
     "data": {
      "image/png": "[encoded data removed]",
      "text/plain": [
       "<Figure size 1440x1080 with 1 Axes>"
      ]
     },
     "metadata": {
      "needs_background": "light"
     },
     "output_type": "display_data"
    },
    {
     "data": {
      "image/png": "[encoded data removed]",
      "text/plain": [
       "<Figure size 1440x1080 with 1 Axes>"
      ]
     },
     "metadata": {
      "needs_background": "light"
     },
     "output_type": "display_data"
    },
    {
     "data": {
      "image/png": "[encoded data removed]",
      "text/plain": [
       "<Figure size 1440x1080 with 1 Axes>"
      ]
     },
     "metadata": {
      "needs_background": "light"
     },
     "output_type": "display_data"
    },
    {
     "data": {
      "image/png": "[encoded data removed]",
      "text/plain": [
       "<Figure size 1440x1080 with 1 Axes>"
      ]
     },
     "metadata": {
      "needs_background": "light"
     },
     "output_type": "display_data"
    }
   ],
   "source": [
    "# Categorical variables\n",
    "\n",
    "iterator=1\n",
    "for i in ['Delivery Status', 'Customer Segment', 'Market', 'Order Region', 'Order Status', 'Shipping Mode']:\n",
    "    plt.figure(figsize=(20,15))\n",
    "    plt.subplot(3,3, iterator)\n",
    "    sns.countplot(data=df, x=i, hue='Late_delivery_risk')\n",
    "    plt.xticks(rotation=90)\n",
    "    iterator+=1\n",
    "    \n",
    "plt.tight_layout()\n",
    "plt.show()"
   ]
  },
  {
   "cell_type": "markdown",
   "metadata": {
    "id": "7RmeKgC6EV4k"
   },
   "source": [
    "## Correlation and heatmap"
   ]
  },
  {
   "cell_type": "markdown",
   "metadata": {
    "id": "NA7WaoHvjBXC"
   },
   "source": [
    "The columns containing null values are not required for analysis, also the zipcodes are of no use and hence they have been dropped."
   ]
  },
  {
   "cell_type": "code",
   "execution_count": 181,
   "metadata": {
    "id": "UMD9wLWIEiZe"
   },
   "outputs": [],
   "source": [
    "df=df.drop(['Product Description','Product Image','Customer Lname','Customer Zipcode','Order Zipcode'],1)"
   ]
  },
  {
   "cell_type": "code",
   "execution_count": 182,
   "metadata": {
    "colab": {
     "base_uri": "https://localhost:8080/",
     "height": 869
    },
    "id": "X-bg0ePAEZxu",
    "outputId": "8170bab2-531f-40c2-b1af-5efdd33a934e"
   },
   "outputs": [
    {
     "data": {
      "text/html": [
       "\n",
       "  <div id=\"df-9174832b-9a5a-4d8f-bf0c-3daa391a0a96\">\n",
       "    <div class=\"colab-df-container\">\n",
       "      <div>\n",
       "<style scoped>\n",
       "    .dataframe tbody tr th:only-of-type {\n",
       "        vertical-align: middle;\n",
       "    }\n",
       "\n",
       "    .dataframe tbody tr th {\n",
       "        vertical-align: top;\n",
       "    }\n",
       "\n",
       "    .dataframe thead th {\n",
       "        text-align: right;\n",
       "    }\n",
       "</style>\n",
       "<table border=\"1\" class=\"dataframe\">\n",
       "  <thead>\n",
       "    <tr style=\"text-align: right;\">\n",
       "      <th></th>\n",
       "      <th>Days for shipping (real)</th>\n",
       "      <th>Days for shipment (scheduled)</th>\n",
       "      <th>Benefit per order</th>\n",
       "      <th>Sales per customer</th>\n",
       "      <th>Late_delivery_risk</th>\n",
       "      <th>Category Id</th>\n",
       "      <th>Customer Id</th>\n",
       "      <th>Department Id</th>\n",
       "      <th>Latitude</th>\n",
       "      <th>Longitude</th>\n",
       "      <th>Order Id</th>\n",
       "      <th>Order Item Discount</th>\n",
       "      <th>Order Item Discount Rate</th>\n",
       "      <th>Order Item Id</th>\n",
       "      <th>Order Item Product Price</th>\n",
       "      <th>Order Item Profit Ratio</th>\n",
       "      <th>Order Item Quantity</th>\n",
       "      <th>Sales</th>\n",
       "    </tr>\n",
       "  </thead>\n",
       "  <tbody>\n",
       "    <tr>\n",
       "      <th>Days for shipping (real)</th>\n",
       "      <td>1.000000</td>\n",
       "      <td>0.515880</td>\n",
       "      <td>-0.005101</td>\n",
       "      <td>0.001757</td>\n",
       "      <td>0.401415</td>\n",
       "      <td>-0.000348</td>\n",
       "      <td>0.003432</td>\n",
       "      <td>-0.001631</td>\n",
       "      <td>-0.004073</td>\n",
       "      <td>0.003911</td>\n",
       "      <td>-0.001711</td>\n",
       "      <td>0.002231</td>\n",
       "      <td>0.001467</td>\n",
       "      <td>-0.001769</td>\n",
       "      <td>0.002185</td>\n",
       "      <td>-0.004638</td>\n",
       "      <td>-0.000811</td>\n",
       "      <td>0.001962</td>\n",
       "    </tr>\n",
       "    <tr>\n",
       "      <th>Days for shipment (scheduled)</th>\n",
       "      <td>0.515880</td>\n",
       "      <td>1.000000</td>\n",
       "      <td>-0.000185</td>\n",
       "      <td>0.006445</td>\n",
       "      <td>-0.369352</td>\n",
       "      <td>-0.000367</td>\n",
       "      <td>0.000899</td>\n",
       "      <td>-0.000262</td>\n",
       "      <td>-0.005300</td>\n",
       "      <td>0.003675</td>\n",
       "      <td>-0.001878</td>\n",
       "      <td>0.002897</td>\n",
       "      <td>0.000065</td>\n",
       "      <td>-0.001848</td>\n",
       "      <td>0.006912</td>\n",
       "      <td>-0.001822</td>\n",
       "      <td>-0.002925</td>\n",
       "      <td>0.006327</td>\n",
       "    </tr>\n",
       "    <tr>\n",
       "      <th>Benefit per order</th>\n",
       "      <td>-0.005101</td>\n",
       "      <td>-0.000185</td>\n",
       "      <td>1.000000</td>\n",
       "      <td>0.133484</td>\n",
       "      <td>-0.003727</td>\n",
       "      <td>0.031889</td>\n",
       "      <td>0.009354</td>\n",
       "      <td>0.031442</td>\n",
       "      <td>0.000338</td>\n",
       "      <td>-0.002521</td>\n",
       "      <td>0.013716</td>\n",
       "      <td>0.064756</td>\n",
       "      <td>-0.018644</td>\n",
       "      <td>0.013556</td>\n",
       "      <td>0.103459</td>\n",
       "      <td>0.823689</td>\n",
       "      <td>0.015696</td>\n",
       "      <td>0.131816</td>\n",
       "    </tr>\n",
       "    <tr>\n",
       "      <th>Sales per customer</th>\n",
       "      <td>0.001757</td>\n",
       "      <td>0.006445</td>\n",
       "      <td>0.133484</td>\n",
       "      <td>1.000000</td>\n",
       "      <td>-0.003791</td>\n",
       "      <td>0.225201</td>\n",
       "      <td>0.060181</td>\n",
       "      <td>0.232367</td>\n",
       "      <td>-0.000223</td>\n",
       "      <td>0.001444</td>\n",
       "      <td>0.079000</td>\n",
       "      <td>0.498734</td>\n",
       "      <td>-0.119469</td>\n",
       "      <td>0.078176</td>\n",
       "      <td>0.781781</td>\n",
       "      <td>-0.001439</td>\n",
       "      <td>0.105413</td>\n",
       "      <td>0.989744</td>\n",
       "    </tr>\n",
       "    <tr>\n",
       "      <th>Late_delivery_risk</th>\n",
       "      <td>0.401415</td>\n",
       "      <td>-0.369352</td>\n",
       "      <td>-0.003727</td>\n",
       "      <td>-0.003791</td>\n",
       "      <td>1.000000</td>\n",
       "      <td>0.001752</td>\n",
       "      <td>0.001484</td>\n",
       "      <td>0.001077</td>\n",
       "      <td>0.000679</td>\n",
       "      <td>-0.001915</td>\n",
       "      <td>-0.001293</td>\n",
       "      <td>-0.000750</td>\n",
       "      <td>0.000404</td>\n",
       "      <td>-0.001376</td>\n",
       "      <td>-0.002175</td>\n",
       "      <td>-0.002316</td>\n",
       "      <td>-0.000139</td>\n",
       "      <td>-0.003564</td>\n",
       "    </tr>\n",
       "    <tr>\n",
       "      <th>Category Id</th>\n",
       "      <td>-0.000348</td>\n",
       "      <td>-0.000367</td>\n",
       "      <td>0.031889</td>\n",
       "      <td>0.225201</td>\n",
       "      <td>0.001752</td>\n",
       "      <td>1.000000</td>\n",
       "      <td>0.274633</td>\n",
       "      <td>0.888835</td>\n",
       "      <td>0.002195</td>\n",
       "      <td>-0.002320</td>\n",
       "      <td>0.198496</td>\n",
       "      <td>0.140180</td>\n",
       "      <td>0.000572</td>\n",
       "      <td>0.186796</td>\n",
       "      <td>0.461059</td>\n",
       "      <td>-0.001614</td>\n",
       "      <td>-0.302408</td>\n",
       "      <td>0.227483</td>\n",
       "    </tr>\n",
       "    <tr>\n",
       "      <th>Customer Id</th>\n",
       "      <td>0.003432</td>\n",
       "      <td>0.000899</td>\n",
       "      <td>0.009354</td>\n",
       "      <td>0.060181</td>\n",
       "      <td>0.001484</td>\n",
       "      <td>0.274633</td>\n",
       "      <td>1.000000</td>\n",
       "      <td>0.136897</td>\n",
       "      <td>0.002335</td>\n",
       "      <td>-0.005146</td>\n",
       "      <td>0.204821</td>\n",
       "      <td>0.038490</td>\n",
       "      <td>0.001712</td>\n",
       "      <td>0.191814</td>\n",
       "      <td>0.111118</td>\n",
       "      <td>-0.000337</td>\n",
       "      <td>-0.091328</td>\n",
       "      <td>0.060961</td>\n",
       "    </tr>\n",
       "    <tr>\n",
       "      <th>Department Id</th>\n",
       "      <td>-0.001631</td>\n",
       "      <td>-0.000262</td>\n",
       "      <td>0.031442</td>\n",
       "      <td>0.232367</td>\n",
       "      <td>0.001077</td>\n",
       "      <td>0.888835</td>\n",
       "      <td>0.136897</td>\n",
       "      <td>1.000000</td>\n",
       "      <td>0.002460</td>\n",
       "      <td>-0.002435</td>\n",
       "      <td>0.106757</td>\n",
       "      <td>0.144617</td>\n",
       "      <td>0.000255</td>\n",
       "      <td>0.101676</td>\n",
       "      <td>0.446743</td>\n",
       "      <td>-0.003044</td>\n",
       "      <td>-0.265437</td>\n",
       "      <td>0.234718</td>\n",
       "    </tr>\n",
       "    <tr>\n",
       "      <th>Latitude</th>\n",
       "      <td>-0.004073</td>\n",
       "      <td>-0.005300</td>\n",
       "      <td>0.000338</td>\n",
       "      <td>-0.000223</td>\n",
       "      <td>0.000679</td>\n",
       "      <td>0.002195</td>\n",
       "      <td>0.002335</td>\n",
       "      <td>0.002460</td>\n",
       "      <td>1.000000</td>\n",
       "      <td>-0.525122</td>\n",
       "      <td>-0.002984</td>\n",
       "      <td>-0.002997</td>\n",
       "      <td>-0.003889</td>\n",
       "      <td>-0.003058</td>\n",
       "      <td>0.000471</td>\n",
       "      <td>-0.000081</td>\n",
       "      <td>-0.001853</td>\n",
       "      <td>-0.000696</td>\n",
       "    </tr>\n",
       "    <tr>\n",
       "      <th>Longitude</th>\n",
       "      <td>0.003911</td>\n",
       "      <td>0.003675</td>\n",
       "      <td>-0.002521</td>\n",
       "      <td>0.001444</td>\n",
       "      <td>-0.001915</td>\n",
       "      <td>-0.002320</td>\n",
       "      <td>-0.005146</td>\n",
       "      <td>-0.002435</td>\n",
       "      <td>-0.525122</td>\n",
       "      <td>1.000000</td>\n",
       "      <td>0.002540</td>\n",
       "      <td>0.002343</td>\n",
       "      <td>0.000526</td>\n",
       "      <td>0.002532</td>\n",
       "      <td>-0.000894</td>\n",
       "      <td>-0.003582</td>\n",
       "      <td>0.004467</td>\n",
       "      <td>0.001696</td>\n",
       "    </tr>\n",
       "    <tr>\n",
       "      <th>Order Id</th>\n",
       "      <td>-0.001711</td>\n",
       "      <td>-0.001878</td>\n",
       "      <td>0.013716</td>\n",
       "      <td>0.079000</td>\n",
       "      <td>-0.001293</td>\n",
       "      <td>0.198496</td>\n",
       "      <td>0.204821</td>\n",
       "      <td>0.106757</td>\n",
       "      <td>-0.002984</td>\n",
       "      <td>0.002540</td>\n",
       "      <td>1.000000</td>\n",
       "      <td>0.049385</td>\n",
       "      <td>0.000484</td>\n",
       "      <td>0.999623</td>\n",
       "      <td>0.115324</td>\n",
       "      <td>0.002760</td>\n",
       "      <td>-0.087073</td>\n",
       "      <td>0.079835</td>\n",
       "    </tr>\n",
       "    <tr>\n",
       "      <th>Order Item Discount</th>\n",
       "      <td>0.002231</td>\n",
       "      <td>0.002897</td>\n",
       "      <td>0.064756</td>\n",
       "      <td>0.498734</td>\n",
       "      <td>-0.000750</td>\n",
       "      <td>0.140180</td>\n",
       "      <td>0.038490</td>\n",
       "      <td>0.144617</td>\n",
       "      <td>-0.002997</td>\n",
       "      <td>0.002343</td>\n",
       "      <td>0.049385</td>\n",
       "      <td>1.000000</td>\n",
       "      <td>0.659955</td>\n",
       "      <td>0.048866</td>\n",
       "      <td>0.488101</td>\n",
       "      <td>-0.002788</td>\n",
       "      <td>0.065379</td>\n",
       "      <td>0.617438</td>\n",
       "    </tr>\n",
       "    <tr>\n",
       "      <th>Order Item Discount Rate</th>\n",
       "      <td>0.001467</td>\n",
       "      <td>0.000065</td>\n",
       "      <td>-0.018644</td>\n",
       "      <td>-0.119469</td>\n",
       "      <td>0.000404</td>\n",
       "      <td>0.000572</td>\n",
       "      <td>0.001712</td>\n",
       "      <td>0.000255</td>\n",
       "      <td>-0.003889</td>\n",
       "      <td>0.000526</td>\n",
       "      <td>0.000484</td>\n",
       "      <td>0.659955</td>\n",
       "      <td>1.000000</td>\n",
       "      <td>0.000471</td>\n",
       "      <td>0.000345</td>\n",
       "      <td>-0.002691</td>\n",
       "      <td>-0.000028</td>\n",
       "      <td>0.000346</td>\n",
       "    </tr>\n",
       "    <tr>\n",
       "      <th>Order Item Id</th>\n",
       "      <td>-0.001769</td>\n",
       "      <td>-0.001848</td>\n",
       "      <td>0.013556</td>\n",
       "      <td>0.078176</td>\n",
       "      <td>-0.001376</td>\n",
       "      <td>0.186796</td>\n",
       "      <td>0.191814</td>\n",
       "      <td>0.101676</td>\n",
       "      <td>-0.003058</td>\n",
       "      <td>0.002532</td>\n",
       "      <td>0.999623</td>\n",
       "      <td>0.048866</td>\n",
       "      <td>0.000471</td>\n",
       "      <td>1.000000</td>\n",
       "      <td>0.112448</td>\n",
       "      <td>0.002785</td>\n",
       "      <td>-0.083643</td>\n",
       "      <td>0.079002</td>\n",
       "    </tr>\n",
       "    <tr>\n",
       "      <th>Order Item Product Price</th>\n",
       "      <td>0.002185</td>\n",
       "      <td>0.006912</td>\n",
       "      <td>0.103459</td>\n",
       "      <td>0.781781</td>\n",
       "      <td>-0.002175</td>\n",
       "      <td>0.461059</td>\n",
       "      <td>0.111118</td>\n",
       "      <td>0.446743</td>\n",
       "      <td>0.000471</td>\n",
       "      <td>-0.000894</td>\n",
       "      <td>0.115324</td>\n",
       "      <td>0.488101</td>\n",
       "      <td>0.000345</td>\n",
       "      <td>0.112448</td>\n",
       "      <td>1.000000</td>\n",
       "      <td>-0.002043</td>\n",
       "      <td>-0.476232</td>\n",
       "      <td>0.789948</td>\n",
       "    </tr>\n",
       "    <tr>\n",
       "      <th>Order Item Profit Ratio</th>\n",
       "      <td>-0.004638</td>\n",
       "      <td>-0.001822</td>\n",
       "      <td>0.823689</td>\n",
       "      <td>-0.001439</td>\n",
       "      <td>-0.002316</td>\n",
       "      <td>-0.001614</td>\n",
       "      <td>-0.000337</td>\n",
       "      <td>-0.003044</td>\n",
       "      <td>-0.000081</td>\n",
       "      <td>-0.003582</td>\n",
       "      <td>0.002760</td>\n",
       "      <td>-0.002788</td>\n",
       "      <td>-0.002691</td>\n",
       "      <td>0.002785</td>\n",
       "      <td>-0.002043</td>\n",
       "      <td>1.000000</td>\n",
       "      <td>0.001128</td>\n",
       "      <td>-0.001766</td>\n",
       "    </tr>\n",
       "    <tr>\n",
       "      <th>Order Item Quantity</th>\n",
       "      <td>-0.000811</td>\n",
       "      <td>-0.002925</td>\n",
       "      <td>0.015696</td>\n",
       "      <td>0.105413</td>\n",
       "      <td>-0.000139</td>\n",
       "      <td>-0.302408</td>\n",
       "      <td>-0.091328</td>\n",
       "      <td>-0.265437</td>\n",
       "      <td>-0.001853</td>\n",
       "      <td>0.004467</td>\n",
       "      <td>-0.087073</td>\n",
       "      <td>0.065379</td>\n",
       "      <td>-0.000028</td>\n",
       "      <td>-0.083643</td>\n",
       "      <td>-0.476232</td>\n",
       "      <td>0.001128</td>\n",
       "      <td>1.000000</td>\n",
       "      <td>0.106442</td>\n",
       "    </tr>\n",
       "    <tr>\n",
       "      <th>Sales</th>\n",
       "      <td>0.001962</td>\n",
       "      <td>0.006327</td>\n",
       "      <td>0.131816</td>\n",
       "      <td>0.989744</td>\n",
       "      <td>-0.003564</td>\n",
       "      <td>0.227483</td>\n",
       "      <td>0.060961</td>\n",
       "      <td>0.234718</td>\n",
       "      <td>-0.000696</td>\n",
       "      <td>0.001696</td>\n",
       "      <td>0.079835</td>\n",
       "      <td>0.617438</td>\n",
       "      <td>0.000346</td>\n",
       "      <td>0.079002</td>\n",
       "      <td>0.789948</td>\n",
       "      <td>-0.001766</td>\n",
       "      <td>0.106442</td>\n",
       "      <td>1.000000</td>\n",
       "    </tr>\n",
       "  </tbody>\n",
       "</table>\n",
       "</div>\n",
       "      <button class=\"colab-df-convert\" onclick=\"convertToInteractive('df-9174832b-9a5a-4d8f-bf0c-3daa391a0a96')\"\n",
       "              title=\"Convert this dataframe to an interactive table.\"\n",
       "              style=\"display:none;\">\n",
       "        \n",
       "  <svg xmlns=\"http://www.w3.org/2000/svg\" height=\"24px\"viewBox=\"0 0 24 24\"\n",
       "       width=\"24px\">\n",
       "    <path d=\"M0 0h24v24H0V0z\" fill=\"none\"/>\n",
       "    <path d=\"M18.56 5.44l.94 2.06.94-2.06 2.06-.94-2.06-.94-.94-2.06-.94 2.06-2.06.94zm-11 1L8.5 8.5l.94-2.06 2.06-.94-2.06-.94L8.5 2.5l-.94 2.06-2.06.94zm10 10l.94 2.06.94-2.06 2.06-.94-2.06-.94-.94-2.06-.94 2.06-2.06.94z\"/><path d=\"M17.41 7.96l-1.37-1.37c-.4-.4-.92-.59-1.43-.59-.52 0-1.04.2-1.43.59L10.3 9.45l-7.72 7.72c-.78.78-.78 2.05 0 2.83L4 21.41c.39.39.9.59 1.41.59.51 0 1.02-.2 1.41-.59l7.78-7.78 2.81-2.81c.8-.78.8-2.07 0-2.86zM5.41 20L4 18.59l7.72-7.72 1.47 1.35L5.41 20z\"/>\n",
       "  </svg>\n",
       "      </button>\n",
       "      \n",
       "  <style>\n",
       "    .colab-df-container {\n",
       "      display:flex;\n",
       "      flex-wrap:wrap;\n",
       "      gap: 12px;\n",
       "    }\n",
       "\n",
       "    .colab-df-convert {\n",
       "      background-color: #E8F0FE;\n",
       "      border: none;\n",
       "      border-radius: 50%;\n",
       "      cursor: pointer;\n",
       "      display: none;\n",
       "      fill: #1967D2;\n",
       "      height: 32px;\n",
       "      padding: 0 0 0 0;\n",
       "      width: 32px;\n",
       "    }\n",
       "\n",
       "    .colab-df-convert:hover {\n",
       "      background-color: #E2EBFA;\n",
       "      box-shadow: 0px 1px 2px rgba(60, 64, 67, 0.3), 0px 1px 3px 1px rgba(60, 64, 67, 0.15);\n",
       "      fill: #174EA6;\n",
       "    }\n",
       "\n",
       "    [theme=dark] .colab-df-convert {\n",
       "      background-color: #3B4455;\n",
       "      fill: #D2E3FC;\n",
       "    }\n",
       "\n",
       "    [theme=dark] .colab-df-convert:hover {\n",
       "      background-color: #434B5C;\n",
       "      box-shadow: 0px 1px 3px 1px rgba(0, 0, 0, 0.15);\n",
       "      filter: drop-shadow(0px 1px 2px rgba(0, 0, 0, 0.3));\n",
       "      fill: #FFFFFF;\n",
       "    }\n",
       "  </style>\n",
       "\n",
       "      <script>\n",
       "        const buttonEl =\n",
       "          document.querySelector('#df-9174832b-9a5a-4d8f-bf0c-3daa391a0a96 button.colab-df-convert');\n",
       "        buttonEl.style.display =\n",
       "          google.colab.kernel.accessAllowed ? 'block' : 'none';\n",
       "\n",
       "        async function convertToInteractive(key) {\n",
       "          const element = document.querySelector('#df-9174832b-9a5a-4d8f-bf0c-3daa391a0a96');\n",
       "          const dataTable =\n",
       "            await google.colab.kernel.invokeFunction('convertToInteractive',\n",
       "                                                     [key], {});\n",
       "          if (!dataTable) return;\n",
       "\n",
       "          const docLinkHtml = 'Like what you see? Visit the ' +\n",
       "            '<a target=\"_blank\" href=https://colab.research.google.com/notebooks/data_table.ipynb>data table notebook</a>'\n",
       "            + ' to learn more about interactive tables.';\n",
       "          element.innerHTML = '';\n",
       "          dataTable['output_type'] = 'display_data';\n",
       "          await google.colab.output.renderOutput(dataTable, element);\n",
       "          const docLink = document.createElement('div');\n",
       "          docLink.innerHTML = docLinkHtml;\n",
       "          element.appendChild(docLink);\n",
       "        }\n",
       "      </script>\n",
       "    </div>\n",
       "  </div>\n",
       "  "
      ],
      "text/plain": [
       "                               Days for shipping (real)  \\\n",
       "Days for shipping (real)                       1.000000   \n",
       "Days for shipment (scheduled)                  0.515880   \n",
       "Benefit per order                             -0.005101   \n",
       "Sales per customer                             0.001757   \n",
       "Late_delivery_risk                             0.401415   \n",
       "Category Id                                   -0.000348   \n",
       "Customer Id                                    0.003432   \n",
       "Department Id                                 -0.001631   \n",
       "Latitude                                      -0.004073   \n",
       "Longitude                                      0.003911   \n",
       "Order Id                                      -0.001711   \n",
       "Order Item Discount                            0.002231   \n",
       "Order Item Discount Rate                       0.001467   \n",
       "Order Item Id                                 -0.001769   \n",
       "Order Item Product Price                       0.002185   \n",
       "Order Item Profit Ratio                       -0.004638   \n",
       "Order Item Quantity                           -0.000811   \n",
       "Sales                                          0.001962   \n",
       "\n",
       "                               Days for shipment (scheduled)  \\\n",
       "Days for shipping (real)                            0.515880   \n",
       "Days for shipment (scheduled)                       1.000000   \n",
       "Benefit per order                                  -0.000185   \n",
       "Sales per customer                                  0.006445   \n",
       "Late_delivery_risk                                 -0.369352   \n",
       "Category Id                                        -0.000367   \n",
       "Customer Id                                         0.000899   \n",
       "Department Id                                      -0.000262   \n",
       "Latitude                                           -0.005300   \n",
       "Longitude                                           0.003675   \n",
       "Order Id                                           -0.001878   \n",
       "Order Item Discount                                 0.002897   \n",
       "Order Item Discount Rate                            0.000065   \n",
       "Order Item Id                                      -0.001848   \n",
       "Order Item Product Price                            0.006912   \n",
       "Order Item Profit Ratio                            -0.001822   \n",
       "Order Item Quantity                                -0.002925   \n",
       "Sales                                               0.006327   \n",
       "\n",
       "                               Benefit per order  Sales per customer  \\\n",
       "Days for shipping (real)               -0.005101            0.001757   \n",
       "Days for shipment (scheduled)          -0.000185            0.006445   \n",
       "Benefit per order                       1.000000            0.133484   \n",
       "Sales per customer                      0.133484            1.000000   \n",
       "Late_delivery_risk                     -0.003727           -0.003791   \n",
       "Category Id                             0.031889            0.225201   \n",
       "Customer Id                             0.009354            0.060181   \n",
       "Department Id                           0.031442            0.232367   \n",
       "Latitude                                0.000338           -0.000223   \n",
       "Longitude                              -0.002521            0.001444   \n",
       "Order Id                                0.013716            0.079000   \n",
       "Order Item Discount                     0.064756            0.498734   \n",
       "Order Item Discount Rate               -0.018644           -0.119469   \n",
       "Order Item Id                           0.013556            0.078176   \n",
       "Order Item Product Price                0.103459            0.781781   \n",
       "Order Item Profit Ratio                 0.823689           -0.001439   \n",
       "Order Item Quantity                     0.015696            0.105413   \n",
       "Sales                                   0.131816            0.989744   \n",
       "\n",
       "                               Late_delivery_risk  Category Id  Customer Id  \\\n",
       "Days for shipping (real)                 0.401415    -0.000348     0.003432   \n",
       "Days for shipment (scheduled)           -0.369352    -0.000367     0.000899   \n",
       "Benefit per order                       -0.003727     0.031889     0.009354   \n",
       "Sales per customer                      -0.003791     0.225201     0.060181   \n",
       "Late_delivery_risk                       1.000000     0.001752     0.001484   \n",
       "Category Id                              0.001752     1.000000     0.274633   \n",
       "Customer Id                              0.001484     0.274633     1.000000   \n",
       "Department Id                            0.001077     0.888835     0.136897   \n",
       "Latitude                                 0.000679     0.002195     0.002335   \n",
       "Longitude                               -0.001915    -0.002320    -0.005146   \n",
       "Order Id                                -0.001293     0.198496     0.204821   \n",
       "Order Item Discount                     -0.000750     0.140180     0.038490   \n",
       "Order Item Discount Rate                 0.000404     0.000572     0.001712   \n",
       "Order Item Id                           -0.001376     0.186796     0.191814   \n",
       "Order Item Product Price                -0.002175     0.461059     0.111118   \n",
       "Order Item Profit Ratio                 -0.002316    -0.001614    -0.000337   \n",
       "Order Item Quantity                     -0.000139    -0.302408    -0.091328   \n",
       "Sales                                   -0.003564     0.227483     0.060961   \n",
       "\n",
       "                               Department Id  Latitude  Longitude  Order Id  \\\n",
       "Days for shipping (real)           -0.001631 -0.004073   0.003911 -0.001711   \n",
       "Days for shipment (scheduled)      -0.000262 -0.005300   0.003675 -0.001878   \n",
       "Benefit per order                   0.031442  0.000338  -0.002521  0.013716   \n",
       "Sales per customer                  0.232367 -0.000223   0.001444  0.079000   \n",
       "Late_delivery_risk                  0.001077  0.000679  -0.001915 -0.001293   \n",
       "Category Id                         0.888835  0.002195  -0.002320  0.198496   \n",
       "Customer Id                         0.136897  0.002335  -0.005146  0.204821   \n",
       "Department Id                       1.000000  0.002460  -0.002435  0.106757   \n",
       "Latitude                            0.002460  1.000000  -0.525122 -0.002984   \n",
       "Longitude                          -0.002435 -0.525122   1.000000  0.002540   \n",
       "Order Id                            0.106757 -0.002984   0.002540  1.000000   \n",
       "Order Item Discount                 0.144617 -0.002997   0.002343  0.049385   \n",
       "Order Item Discount Rate            0.000255 -0.003889   0.000526  0.000484   \n",
       "Order Item Id                       0.101676 -0.003058   0.002532  0.999623   \n",
       "Order Item Product Price            0.446743  0.000471  -0.000894  0.115324   \n",
       "Order Item Profit Ratio            -0.003044 -0.000081  -0.003582  0.002760   \n",
       "Order Item Quantity                -0.265437 -0.001853   0.004467 -0.087073   \n",
       "Sales                               0.234718 -0.000696   0.001696  0.079835   \n",
       "\n",
       "                               Order Item Discount  Order Item Discount Rate  \\\n",
       "Days for shipping (real)                  0.002231                  0.001467   \n",
       "Days for shipment (scheduled)             0.002897                  0.000065   \n",
       "Benefit per order                         0.064756                 -0.018644   \n",
       "Sales per customer                        0.498734                 -0.119469   \n",
       "Late_delivery_risk                       -0.000750                  0.000404   \n",
       "Category Id                               0.140180                  0.000572   \n",
       "Customer Id                               0.038490                  0.001712   \n",
       "Department Id                             0.144617                  0.000255   \n",
       "Latitude                                 -0.002997                 -0.003889   \n",
       "Longitude                                 0.002343                  0.000526   \n",
       "Order Id                                  0.049385                  0.000484   \n",
       "Order Item Discount                       1.000000                  0.659955   \n",
       "Order Item Discount Rate                  0.659955                  1.000000   \n",
       "Order Item Id                             0.048866                  0.000471   \n",
       "Order Item Product Price                  0.488101                  0.000345   \n",
       "Order Item Profit Ratio                  -0.002788                 -0.002691   \n",
       "Order Item Quantity                       0.065379                 -0.000028   \n",
       "Sales                                     0.617438                  0.000346   \n",
       "\n",
       "                               Order Item Id  Order Item Product Price  \\\n",
       "Days for shipping (real)           -0.001769                  0.002185   \n",
       "Days for shipment (scheduled)      -0.001848                  0.006912   \n",
       "Benefit per order                   0.013556                  0.103459   \n",
       "Sales per customer                  0.078176                  0.781781   \n",
       "Late_delivery_risk                 -0.001376                 -0.002175   \n",
       "Category Id                         0.186796                  0.461059   \n",
       "Customer Id                         0.191814                  0.111118   \n",
       "Department Id                       0.101676                  0.446743   \n",
       "Latitude                           -0.003058                  0.000471   \n",
       "Longitude                           0.002532                 -0.000894   \n",
       "Order Id                            0.999623                  0.115324   \n",
       "Order Item Discount                 0.048866                  0.488101   \n",
       "Order Item Discount Rate            0.000471                  0.000345   \n",
       "Order Item Id                       1.000000                  0.112448   \n",
       "Order Item Product Price            0.112448                  1.000000   \n",
       "Order Item Profit Ratio             0.002785                 -0.002043   \n",
       "Order Item Quantity                -0.083643                 -0.476232   \n",
       "Sales                               0.079002                  0.789948   \n",
       "\n",
       "                               Order Item Profit Ratio  Order Item Quantity  \\\n",
       "Days for shipping (real)                     -0.004638            -0.000811   \n",
       "Days for shipment (scheduled)                -0.001822            -0.002925   \n",
       "Benefit per order                             0.823689             0.015696   \n",
       "Sales per customer                           -0.001439             0.105413   \n",
       "Late_delivery_risk                           -0.002316            -0.000139   \n",
       "Category Id                                  -0.001614            -0.302408   \n",
       "Customer Id                                  -0.000337            -0.091328   \n",
       "Department Id                                -0.003044            -0.265437   \n",
       "Latitude                                     -0.000081            -0.001853   \n",
       "Longitude                                    -0.003582             0.004467   \n",
       "Order Id                                      0.002760            -0.087073   \n",
       "Order Item Discount                          -0.002788             0.065379   \n",
       "Order Item Discount Rate                     -0.002691            -0.000028   \n",
       "Order Item Id                                 0.002785            -0.083643   \n",
       "Order Item Product Price                     -0.002043            -0.476232   \n",
       "Order Item Profit Ratio                       1.000000             0.001128   \n",
       "Order Item Quantity                           0.001128             1.000000   \n",
       "Sales                                        -0.001766             0.106442   \n",
       "\n",
       "                                  Sales  \n",
       "Days for shipping (real)       0.001962  \n",
       "Days for shipment (scheduled)  0.006327  \n",
       "Benefit per order              0.131816  \n",
       "Sales per customer             0.989744  \n",
       "Late_delivery_risk            -0.003564  \n",
       "Category Id                    0.227483  \n",
       "Customer Id                    0.060961  \n",
       "Department Id                  0.234718  \n",
       "Latitude                      -0.000696  \n",
       "Longitude                      0.001696  \n",
       "Order Id                       0.079835  \n",
       "Order Item Discount            0.617438  \n",
       "Order Item Discount Rate       0.000346  \n",
       "Order Item Id                  0.079002  \n",
       "Order Item Product Price       0.789948  \n",
       "Order Item Profit Ratio       -0.001766  \n",
       "Order Item Quantity            0.106442  \n",
       "Sales                          1.000000  "
      ]
     },
     "execution_count": 182,
     "metadata": {},
     "output_type": "execute_result"
    }
   ],
   "source": [
    "df.corr()"
   ]
  },
  {
   "cell_type": "code",
   "execution_count": 183,
   "metadata": {
    "colab": {
     "base_uri": "https://localhost:8080/",
     "height": 593
    },
    "id": "7r7HI-trEZuU",
    "outputId": "2d6d8e71-12dc-4871-8675-cebedca79798"
   },
   "outputs": [
    {
     "data": {
      "text/plain": [
       "<matplotlib.axes._subplots.AxesSubplot at 0x7ff62bbf4d90>"
      ]
     },
     "execution_count": 183,
     "metadata": {},
     "output_type": "execute_result"
    },
    {
     "data": {
      "image/png": "[encoded data removed]",
      "text/plain": [
       "<Figure size 1080x504 with 2 Axes>"
      ]
     },
     "metadata": {
      "needs_background": "light"
     },
     "output_type": "display_data"
    }
   ],
   "source": [
    "sns.heatmap(df.corr(), annot=True)"
   ]
  },
  {
   "cell_type": "markdown",
   "metadata": {
    "id": "Ud25URMwp1_k"
   },
   "source": [
    "## **Statistical Analysis**"
   ]
  },
  {
   "cell_type": "code",
   "execution_count": 184,
   "metadata": {
    "id": "Jsuyxzwgpp8U"
   },
   "outputs": [],
   "source": [
    "# Target variable is taken as categorical.\n",
    "\n",
    "from scipy import stats\n",
    "\n",
    "cat=['Type','Delivery Status','Category Name','Customer Segment','Department Name','Market', 'Order City','Order Country','order date (DateOrders)','Order Region',\n",
    "     'Order State', 'Order Status','Product Name', 'shipping date (DateOrders)', 'Shipping Mode' ]\n",
    "num=['Days for shipping (real)', 'Days for shipment (scheduled)','Benefit per order', 'Sales per customer','Order Id', 'Order Item Discount',\n",
    "     'Order Item Discount Rate', 'Order Item Id', 'Order Item Product Price', 'Order Item Profit Ratio', 'Order Item Quantity', 'Sales']"
   ]
  },
  {
   "cell_type": "markdown",
   "metadata": {
    "id": "F5BDOGOYp7vP"
   },
   "source": [
    "## Chi Square test\n",
    "\n",
    "---\n",
    "\n"
   ]
  },
  {
   "cell_type": "code",
   "execution_count": 185,
   "metadata": {
    "colab": {
     "base_uri": "https://localhost:8080/"
    },
    "id": "B3PPQrJBodru",
    "outputId": "af853660-a114-4214-dff4-78766af0f8a4"
   },
   "outputs": [
    {
     "name": "stdout",
     "output_type": "stream",
     "text": [
      "pvalue of Type 5.128672571053333e-239\n",
      "pvalue of Delivery Status 0.0\n",
      "pvalue of Category Name 0.7179808169070767\n",
      "pvalue of Customer Segment 0.5990740516327164\n",
      "pvalue of Department Name 0.7564916045517328\n",
      "pvalue of Market 0.07044822520489222\n",
      "pvalue of Order City 0.0\n",
      "pvalue of Order Country 4.0108437231692065e-48\n",
      "pvalue of order date (DateOrders) 0.0\n",
      "pvalue of Order Region 1.083129807862368e-07\n",
      "pvalue of Order State 0.0\n",
      "pvalue of Order Status 0.0\n",
      "pvalue of Product Name 0.8164060393259804\n",
      "pvalue of shipping date (DateOrders) 0.0\n",
      "pvalue of Shipping Mode 0.0\n"
     ]
    }
   ],
   "source": [
    "# Ho: The predictor is independent of the target variable\n",
    "# Ha: The predictor is dependent of the target variable\n",
    "for i in cat:\n",
    "  tbl= pd.crosstab(df[i], df['Late_delivery_risk'])\n",
    "  t_stat, pval, dof, exp= stats.chi2_contingency(tbl)\n",
    "  print('pvalue of',i, pval)"
   ]
  },
  {
   "cell_type": "markdown",
   "metadata": {
    "id": "vY_S77roO3uC"
   },
   "source": [
    "Values greater than 0.05 will tell that the Ho hypothesis is correct.\n",
    "\n",
    "Columns that are independent of the target variable: Category name, customer segment, Deartment name, Market, Product name\n",
    "\n",
    "Columns that tell that there is relation between target and predictor: Type, Delivery Status, Order City, Order Country, order date, Order Region, Order state, Order Status, shipping date, Shipping mode."
   ]
  },
  {
   "cell_type": "markdown",
   "metadata": {
    "id": "GfxNILHkQqDj"
   },
   "source": [
    "## Two sample independent t-test"
   ]
  },
  {
   "cell_type": "code",
   "execution_count": 186,
   "metadata": {
    "colab": {
     "base_uri": "https://localhost:8080/"
    },
    "id": "a7tHF_VEQorm",
    "outputId": "c047d7be-4a9f-4568-f4c6-9ce06298a2f5"
   },
   "outputs": [
    {
     "name": "stdout",
     "output_type": "stream",
     "text": [
      "P value for Days for shipping (real) 0.0\n",
      "P value for Days for shipment (scheduled) 0.0\n",
      "P value for Benefit per order 0.11330685383692102\n",
      "P value for Sales per customer 0.1072215944768319\n",
      "P value for Order Id 0.5828667507113456\n",
      "P value for Order Item Discount 0.7500182396319447\n",
      "P value for Order Item Discount Rate 0.8636143943179868\n",
      "P value for Order Item Id 0.5588832018589043\n",
      "P value for Order Item Product Price 0.35537999034926193\n",
      "P value for Order Item Profit Ratio 0.32521697385298587\n",
      "P value for Order Item Quantity 0.9528277233341732\n",
      "P value for Sales 0.12992366469657712\n"
     ]
    }
   ],
   "source": [
    "for i in num:\n",
    "  zero= df.loc[df['Late_delivery_risk']==0,i]\n",
    "  one= df.loc[df['Late_delivery_risk']==1,i]\n",
    "\n",
    "  t_stat, pval= stats.ttest_ind(zero, one)\n",
    "  print('P value for',i, pval)"
   ]
  },
  {
   "cell_type": "markdown",
   "metadata": {
    "id": "yaup2pOVRuHA"
   },
   "source": [
    "Values greater than 0.05 will tell that the Ho hypothesis is correct.\n",
    "\n",
    "Columns that are independent of the target variable: Benefits per order, Sales per customer, Order Id, Order item discount, Order item discount rate, Order item id, Order item product price, Order item profit ratio, Order item quantity, Sales\n",
    "\n",
    "Columns that tell that there is relation between target and predictor: Days for shipping, Days for shipment"
   ]
  },
  {
   "cell_type": "markdown",
   "metadata": {
    "id": "uDJU8m61S_pX"
   },
   "source": [
    "## **Base model**"
   ]
  },
  {
   "cell_type": "markdown",
   "metadata": {
    "id": "qLs5qgQRjWL9"
   },
   "source": [
    "We will drop those variables which are causing multi collinearity and have no significant correlation with the target variable."
   ]
  },
  {
   "cell_type": "code",
   "execution_count": 187,
   "metadata": {
    "colab": {
     "base_uri": "https://localhost:8080/"
    },
    "id": "rQvTMvIIkooQ",
    "outputId": "0272a8e7-2264-4f75-d147-f0a6f53ae5ae"
   },
   "outputs": [
    {
     "data": {
      "text/plain": [
       "Index(['Type', 'Days for shipping (real)', 'Days for shipment (scheduled)',\n",
       "       'Benefit per order', 'Sales per customer', 'Delivery Status',\n",
       "       'Late_delivery_risk', 'Category Id', 'Category Name', 'Customer City',\n",
       "       'Customer Country', 'Customer Fname', 'Customer Id', 'Customer Segment',\n",
       "       'Customer State', 'Customer Street', 'Department Id', 'Department Name',\n",
       "       'Latitude', 'Longitude', 'Market', 'Order City', 'Order Country',\n",
       "       'order date (DateOrders)', 'Order Id', 'Order Item Discount',\n",
       "       'Order Item Discount Rate', 'Order Item Id', 'Order Item Product Price',\n",
       "       'Order Item Profit Ratio', 'Order Item Quantity', 'Sales',\n",
       "       'Order Region', 'Order State', 'Order Status', 'Product Name',\n",
       "       'shipping date (DateOrders)', 'Shipping Mode'],\n",
       "      dtype='object')"
      ]
     },
     "execution_count": 187,
     "metadata": {},
     "output_type": "execute_result"
    }
   ],
   "source": [
    "df.columns"
   ]
  },
  {
   "cell_type": "code",
   "execution_count": 188,
   "metadata": {
    "id": "y4zAaYMNkD5D"
   },
   "outputs": [],
   "source": [
    "data= df.drop(['Delivery Status','Category Name', 'Customer City', 'Customer Country',  'Sales per customer','Customer Fname',  'Customer Segment',\n",
    "       'Customer State', 'Customer Street', 'Department Name', 'Latitude', 'Longitude', 'Department Id', 'Order City', 'Order Country', 'order date (DateOrders)', \n",
    "       'Order Item Discount', 'Order Item Id', 'Order Item Profit Ratio', 'Order Item Quantity', 'Sales', 'Order State', 'Order Status', 'Product Name',\n",
    "        'shipping date (DateOrders)'],1)"
   ]
  },
  {
   "cell_type": "code",
   "execution_count": 189,
   "metadata": {
    "id": "Cs2yjZOSTF7i"
   },
   "outputs": [],
   "source": [
    "# Splitting the data\n",
    "\n",
    "\n",
    "x= data.drop(['Late_delivery_risk'],1)\n",
    "y= df.Late_delivery_risk"
   ]
  },
  {
   "cell_type": "markdown",
   "metadata": {
    "id": "aCOUHJVjwqpk"
   },
   "source": [
    "One hot encoding has been used for the categorical variables\n",
    "\n"
   ]
  },
  {
   "cell_type": "markdown",
   "metadata": {
    "id": "n9evlnrEaUyD"
   },
   "source": [
    "## Encoding"
   ]
  },
  {
   "cell_type": "code",
   "execution_count": 190,
   "metadata": {
    "id": "dHdleAswVmVk"
   },
   "outputs": [],
   "source": [
    "x= pd.get_dummies(x, drop_first=True)"
   ]
  },
  {
   "cell_type": "markdown",
   "metadata": {
    "id": "Vt99Xupy2RJr"
   },
   "source": [
    "### Train test split"
   ]
  },
  {
   "cell_type": "code",
   "execution_count": 191,
   "metadata": {
    "id": "c_5SvSvu2UO8"
   },
   "outputs": [],
   "source": [
    "from sklearn.model_selection import train_test_split"
   ]
  },
  {
   "cell_type": "code",
   "execution_count": 192,
   "metadata": {
    "id": "zAXkrp-z2fbz"
   },
   "outputs": [],
   "source": [
    "xtrain, xtest, ytrain, ytest= train_test_split(x,y, test_size=0.3, random_state=10)"
   ]
  },
  {
   "cell_type": "markdown",
   "metadata": {
    "id": "g_JXp5u61cWW"
   },
   "source": [
    "## Logistic regression model"
   ]
  },
  {
   "cell_type": "code",
   "execution_count": 193,
   "metadata": {
    "id": "UGyXSAUA1iT-"
   },
   "outputs": [],
   "source": [
    "from sklearn.linear_model import LogisticRegression\n",
    "from sklearn.metrics import classification_report"
   ]
  },
  {
   "cell_type": "code",
   "execution_count": 194,
   "metadata": {
    "colab": {
     "base_uri": "https://localhost:8080/"
    },
    "id": "tkXfRiFH2IuX",
    "outputId": "31cdb20c-a1c4-455a-e245-e7075f3b4c4c"
   },
   "outputs": [
    {
     "name": "stdout",
     "output_type": "stream",
     "text": [
      "              precision    recall  f1-score   support\n",
      "\n",
      "           0       0.90      0.78      0.83     24321\n",
      "           1       0.84      0.93      0.88     29835\n",
      "\n",
      "    accuracy                           0.86     54156\n",
      "   macro avg       0.87      0.85      0.86     54156\n",
      "weighted avg       0.87      0.86      0.86     54156\n",
      "\n",
      "Training accuracy 0.8632431961887578\n",
      "Test accuracy 0.860994165004801\n"
     ]
    }
   ],
   "source": [
    "lr= LogisticRegression()\n",
    "lr.fit(xtrain, ytrain)\n",
    "ypred= lr.predict(xtest)\n",
    "print(classification_report(ytest, ypred))\n",
    "print(\"Training accuracy\", lr.score(xtrain, ytrain))\n",
    "print(\"Test accuracy\", lr.score(xtest, ytest))"
   ]
  },
  {
   "cell_type": "markdown",
   "metadata": {
    "id": "5B-ncvjk8B9h"
   },
   "source": [
    "## Feature engineering"
   ]
  },
  {
   "cell_type": "markdown",
   "metadata": {
    "id": "f1W0M-1SoDAs"
   },
   "source": [
    "Various new features have been created. Based on its correlation with the target variable it will be decied whether to use it for model building or drop it."
   ]
  },
  {
   "cell_type": "code",
   "execution_count": 195,
   "metadata": {
    "id": "IFaM6va-5dm-"
   },
   "outputs": [],
   "source": [
    "# Type of payment\n",
    "\n",
    "a=['TRANSFER','DEBIT','PAYMENT']\n",
    "def payment(x):\n",
    "  if x in a:\n",
    "    return('Online')\n",
    "  else:\n",
    "    return('Offline')\n",
    "\n",
    "data['payment_mode']=data['Type'].apply(payment)"
   ]
  },
  {
   "cell_type": "code",
   "execution_count": 196,
   "metadata": {
    "id": "16En8JO-7uDq"
   },
   "outputs": [],
   "source": [
    "# Benefit per order- Loss or profit\n",
    "\n",
    "def benefit(x):\n",
    "  if x>0:\n",
    "    return('Profit')\n",
    "  if x==0:\n",
    "    return('Break even')\n",
    "  if x<0:\n",
    "    return('Loss')\n",
    "\n",
    "data['Profit_loss']=data['Benefit per order'].apply(benefit)"
   ]
  },
  {
   "cell_type": "code",
   "execution_count": 197,
   "metadata": {
    "id": "LVo6JU0MArQ1"
   },
   "outputs": [],
   "source": [
    "# Top 10 categories\n",
    "\n",
    "top10_cat=df['Category Id'].value_counts()[:10].index\n",
    "\n",
    "def cat10 (x):\n",
    "  if x in top10_cat:\n",
    "    return('Top 10')\n",
    "  else:\n",
    "    return('Others')\n",
    "\n",
    "data['Cat_class']=data['Category Id'].apply(cat10)"
   ]
  },
  {
   "cell_type": "code",
   "execution_count": 198,
   "metadata": {
    "id": "sBO3_-T27TZ8"
   },
   "outputs": [],
   "source": [
    "# finding the day for shipping day, month and year\n",
    "\n",
    "data['Shipping_month']=pd.to_datetime(df['shipping date (DateOrders)']).dt.month\n",
    "data['Shipping_year']=pd.to_datetime(df['shipping date (DateOrders)']).dt.year"
   ]
  },
  {
   "cell_type": "code",
   "execution_count": 199,
   "metadata": {
    "id": "vZTUkNfl6ZUm"
   },
   "outputs": [],
   "source": [
    "# Finding the order month, year\n",
    "\n",
    "data['Order_month']=pd.to_datetime(df['order date (DateOrders)']).dt.month\n",
    "data['Order_year']=pd.to_datetime(df['order date (DateOrders)']).dt.year"
   ]
  },
  {
   "cell_type": "code",
   "execution_count": 200,
   "metadata": {
    "id": "kuOEau1GM0dN"
   },
   "outputs": [],
   "source": [
    "# Count of orders basis customer id\n",
    "\n",
    "data['Customerwise_order_count']=data.groupby(['Customer Id'])['Order Id'].transform('nunique')"
   ]
  },
  {
   "cell_type": "code",
   "execution_count": 201,
   "metadata": {
    "id": "7NIzc8zQdgNs"
   },
   "outputs": [],
   "source": [
    "# Count of order item basis market\n",
    "\n",
    "data['Marketwise_order_count']=data.groupby(['Market'])['Order Id'].transform('nunique')"
   ]
  },
  {
   "cell_type": "code",
   "execution_count": 202,
   "metadata": {
    "id": "e-ugTj2ndgKt"
   },
   "outputs": [],
   "source": [
    "# Count of order basis shipping mode\n",
    "\n",
    "data['Shippingmode_order_count']=data.groupby(['Shipping Mode'])['Order Id'].transform('nunique')"
   ]
  },
  {
   "cell_type": "code",
   "execution_count": 203,
   "metadata": {
    "id": "ZRKWri3KdgE_"
   },
   "outputs": [],
   "source": [
    "# Count of order basis shipping mode and market\n",
    "\n",
    "data['Mode_market_order_count']=data.groupby(['Shipping Mode', 'Market'])['Order Id'].transform('nunique')"
   ]
  },
  {
   "cell_type": "code",
   "execution_count": 204,
   "metadata": {
    "id": "ZCweqVnjpiKO"
   },
   "outputs": [],
   "source": [
    "# Count of order basis order month\n",
    "\n",
    "data['Monthly_order']=data.groupby(['Order_month'])['Order Id'].transform('nunique')\n"
   ]
  },
  {
   "cell_type": "code",
   "execution_count": 205,
   "metadata": {
    "id": "w8Uw_wU6pxNv"
   },
   "outputs": [],
   "source": [
    "# Count of order basis order year\n",
    "\n",
    "data['Year_order']=data.groupby(['Order_year'])['Order Id'].transform('nunique')"
   ]
  },
  {
   "cell_type": "code",
   "execution_count": 206,
   "metadata": {
    "id": "Osw8rP-np24_"
   },
   "outputs": [],
   "source": [
    "# Count of order basis shipping month\n",
    "\n",
    "data['Monthly_shipping']=data.groupby(['Shipping_month'])['Order Id'].transform('nunique')"
   ]
  },
  {
   "cell_type": "code",
   "execution_count": 207,
   "metadata": {
    "id": "fEwFsBOup2yT"
   },
   "outputs": [],
   "source": [
    "# Count of order basis shipping year\n",
    "\n",
    "data['Year_shipping']=data.groupby(['Shipping_year'])['Order Id'].transform('nunique')"
   ]
  },
  {
   "cell_type": "code",
   "execution_count": 208,
   "metadata": {
    "colab": {
     "base_uri": "https://localhost:8080/",
     "height": 841
    },
    "id": "GwPojcvkdf8N",
    "outputId": "d9737fc9-b4af-4bb4-e099-1a8188793200"
   },
   "outputs": [
    {
     "data": {
      "text/html": [
       "\n",
       "  <div id=\"df-2a3d34c6-c88a-4f16-9e48-90152bddb6dc\">\n",
       "    <div class=\"colab-df-container\">\n",
       "      <div>\n",
       "<style scoped>\n",
       "    .dataframe tbody tr th:only-of-type {\n",
       "        vertical-align: middle;\n",
       "    }\n",
       "\n",
       "    .dataframe tbody tr th {\n",
       "        vertical-align: top;\n",
       "    }\n",
       "\n",
       "    .dataframe thead th {\n",
       "        text-align: right;\n",
       "    }\n",
       "</style>\n",
       "<table border=\"1\" class=\"dataframe\">\n",
       "  <thead>\n",
       "    <tr style=\"text-align: right;\">\n",
       "      <th></th>\n",
       "      <th>Days for shipping (real)</th>\n",
       "      <th>Days for shipment (scheduled)</th>\n",
       "      <th>Benefit per order</th>\n",
       "      <th>Late_delivery_risk</th>\n",
       "      <th>Category Id</th>\n",
       "      <th>Customer Id</th>\n",
       "      <th>Order Id</th>\n",
       "      <th>Order Item Discount Rate</th>\n",
       "      <th>Order Item Product Price</th>\n",
       "      <th>Shipping_month</th>\n",
       "      <th>Shipping_year</th>\n",
       "      <th>Order_month</th>\n",
       "      <th>Order_year</th>\n",
       "      <th>Customerwise_order_count</th>\n",
       "      <th>Marketwise_order_count</th>\n",
       "      <th>Shippingmode_order_count</th>\n",
       "      <th>Mode_market_order_count</th>\n",
       "      <th>Monthly_order</th>\n",
       "      <th>Year_order</th>\n",
       "      <th>Monthly_shipping</th>\n",
       "      <th>Year_shipping</th>\n",
       "    </tr>\n",
       "  </thead>\n",
       "  <tbody>\n",
       "    <tr>\n",
       "      <th>Days for shipping (real)</th>\n",
       "      <td>1.000000</td>\n",
       "      <td>0.515880</td>\n",
       "      <td>-0.005101</td>\n",
       "      <td>0.401415</td>\n",
       "      <td>-0.000348</td>\n",
       "      <td>0.003432</td>\n",
       "      <td>-0.001711</td>\n",
       "      <td>0.001467</td>\n",
       "      <td>0.002185</td>\n",
       "      <td>-0.005040</td>\n",
       "      <td>0.005414</td>\n",
       "      <td>-0.007593</td>\n",
       "      <td>0.000842</td>\n",
       "      <td>-0.003424</td>\n",
       "      <td>0.000098</td>\n",
       "      <td>0.432647</td>\n",
       "      <td>0.365324</td>\n",
       "      <td>0.003479</td>\n",
       "      <td>0.000004</td>\n",
       "      <td>-0.002312</td>\n",
       "      <td>-0.005437</td>\n",
       "    </tr>\n",
       "    <tr>\n",
       "      <th>Days for shipment (scheduled)</th>\n",
       "      <td>0.515880</td>\n",
       "      <td>1.000000</td>\n",
       "      <td>-0.000185</td>\n",
       "      <td>-0.369352</td>\n",
       "      <td>-0.000367</td>\n",
       "      <td>0.000899</td>\n",
       "      <td>-0.001878</td>\n",
       "      <td>0.000065</td>\n",
       "      <td>0.006912</td>\n",
       "      <td>-0.006171</td>\n",
       "      <td>0.003176</td>\n",
       "      <td>-0.007458</td>\n",
       "      <td>0.000656</td>\n",
       "      <td>-0.003177</td>\n",
       "      <td>-0.000450</td>\n",
       "      <td>0.978859</td>\n",
       "      <td>0.828762</td>\n",
       "      <td>0.004956</td>\n",
       "      <td>0.004015</td>\n",
       "      <td>0.003619</td>\n",
       "      <td>0.000205</td>\n",
       "    </tr>\n",
       "    <tr>\n",
       "      <th>Benefit per order</th>\n",
       "      <td>-0.005101</td>\n",
       "      <td>-0.000185</td>\n",
       "      <td>1.000000</td>\n",
       "      <td>-0.003727</td>\n",
       "      <td>0.031889</td>\n",
       "      <td>0.009354</td>\n",
       "      <td>0.013716</td>\n",
       "      <td>-0.018644</td>\n",
       "      <td>0.103459</td>\n",
       "      <td>0.009361</td>\n",
       "      <td>0.010567</td>\n",
       "      <td>0.009064</td>\n",
       "      <td>0.010703</td>\n",
       "      <td>-0.008422</td>\n",
       "      <td>0.001602</td>\n",
       "      <td>0.000312</td>\n",
       "      <td>0.000785</td>\n",
       "      <td>-0.002692</td>\n",
       "      <td>0.009424</td>\n",
       "      <td>-0.003169</td>\n",
       "      <td>0.007988</td>\n",
       "    </tr>\n",
       "    <tr>\n",
       "      <th>Late_delivery_risk</th>\n",
       "      <td>0.401415</td>\n",
       "      <td>-0.369352</td>\n",
       "      <td>-0.003727</td>\n",
       "      <td>1.000000</td>\n",
       "      <td>0.001752</td>\n",
       "      <td>0.001484</td>\n",
       "      <td>-0.001293</td>\n",
       "      <td>0.000404</td>\n",
       "      <td>-0.002175</td>\n",
       "      <td>0.003688</td>\n",
       "      <td>-0.000448</td>\n",
       "      <td>0.002587</td>\n",
       "      <td>-0.002181</td>\n",
       "      <td>0.002703</td>\n",
       "      <td>0.001825</td>\n",
       "      <td>-0.391541</td>\n",
       "      <td>-0.331060</td>\n",
       "      <td>-0.000592</td>\n",
       "      <td>-0.004150</td>\n",
       "      <td>-0.004026</td>\n",
       "      <td>-0.005162</td>\n",
       "    </tr>\n",
       "    <tr>\n",
       "      <th>Category Id</th>\n",
       "      <td>-0.000348</td>\n",
       "      <td>-0.000367</td>\n",
       "      <td>0.031889</td>\n",
       "      <td>0.001752</td>\n",
       "      <td>1.000000</td>\n",
       "      <td>0.274633</td>\n",
       "      <td>0.198496</td>\n",
       "      <td>0.000572</td>\n",
       "      <td>0.461059</td>\n",
       "      <td>0.053605</td>\n",
       "      <td>0.182126</td>\n",
       "      <td>0.062451</td>\n",
       "      <td>0.179645</td>\n",
       "      <td>-0.210644</td>\n",
       "      <td>0.057045</td>\n",
       "      <td>-0.000400</td>\n",
       "      <td>0.026646</td>\n",
       "      <td>0.104662</td>\n",
       "      <td>-0.257233</td>\n",
       "      <td>0.103102</td>\n",
       "      <td>-0.268598</td>\n",
       "    </tr>\n",
       "    <tr>\n",
       "      <th>Customer Id</th>\n",
       "      <td>0.003432</td>\n",
       "      <td>0.000899</td>\n",
       "      <td>0.009354</td>\n",
       "      <td>0.001484</td>\n",
       "      <td>0.274633</td>\n",
       "      <td>1.000000</td>\n",
       "      <td>0.204821</td>\n",
       "      <td>0.001712</td>\n",
       "      <td>0.111118</td>\n",
       "      <td>0.040902</td>\n",
       "      <td>0.192829</td>\n",
       "      <td>0.050955</td>\n",
       "      <td>0.189759</td>\n",
       "      <td>-0.223728</td>\n",
       "      <td>0.057187</td>\n",
       "      <td>0.001508</td>\n",
       "      <td>0.029242</td>\n",
       "      <td>0.124521</td>\n",
       "      <td>-0.307404</td>\n",
       "      <td>0.120832</td>\n",
       "      <td>-0.323849</td>\n",
       "    </tr>\n",
       "    <tr>\n",
       "      <th>Order Id</th>\n",
       "      <td>-0.001711</td>\n",
       "      <td>-0.001878</td>\n",
       "      <td>0.013716</td>\n",
       "      <td>-0.001293</td>\n",
       "      <td>0.198496</td>\n",
       "      <td>0.204821</td>\n",
       "      <td>1.000000</td>\n",
       "      <td>0.000484</td>\n",
       "      <td>0.115324</td>\n",
       "      <td>0.198402</td>\n",
       "      <td>0.942353</td>\n",
       "      <td>0.206579</td>\n",
       "      <td>0.941952</td>\n",
       "      <td>-0.163784</td>\n",
       "      <td>-0.085112</td>\n",
       "      <td>-0.001320</td>\n",
       "      <td>-0.042313</td>\n",
       "      <td>-0.026822</td>\n",
       "      <td>-0.041485</td>\n",
       "      <td>-0.021096</td>\n",
       "      <td>-0.028773</td>\n",
       "    </tr>\n",
       "    <tr>\n",
       "      <th>Order Item Discount Rate</th>\n",
       "      <td>0.001467</td>\n",
       "      <td>0.000065</td>\n",
       "      <td>-0.018644</td>\n",
       "      <td>0.000404</td>\n",
       "      <td>0.000572</td>\n",
       "      <td>0.001712</td>\n",
       "      <td>0.000484</td>\n",
       "      <td>1.000000</td>\n",
       "      <td>0.000345</td>\n",
       "      <td>0.001026</td>\n",
       "      <td>0.000149</td>\n",
       "      <td>0.001107</td>\n",
       "      <td>0.000078</td>\n",
       "      <td>-0.000299</td>\n",
       "      <td>0.000478</td>\n",
       "      <td>-0.000452</td>\n",
       "      <td>0.000567</td>\n",
       "      <td>-0.001213</td>\n",
       "      <td>-0.000767</td>\n",
       "      <td>-0.001624</td>\n",
       "      <td>-0.000599</td>\n",
       "    </tr>\n",
       "    <tr>\n",
       "      <th>Order Item Product Price</th>\n",
       "      <td>0.002185</td>\n",
       "      <td>0.006912</td>\n",
       "      <td>0.103459</td>\n",
       "      <td>-0.002175</td>\n",
       "      <td>0.461059</td>\n",
       "      <td>0.111118</td>\n",
       "      <td>0.115324</td>\n",
       "      <td>0.000345</td>\n",
       "      <td>1.000000</td>\n",
       "      <td>0.067144</td>\n",
       "      <td>0.093509</td>\n",
       "      <td>0.070348</td>\n",
       "      <td>0.091843</td>\n",
       "      <td>-0.101006</td>\n",
       "      <td>0.041259</td>\n",
       "      <td>0.006584</td>\n",
       "      <td>0.025017</td>\n",
       "      <td>0.006784</td>\n",
       "      <td>0.011315</td>\n",
       "      <td>0.008778</td>\n",
       "      <td>-0.003772</td>\n",
       "    </tr>\n",
       "    <tr>\n",
       "      <th>Shipping_month</th>\n",
       "      <td>-0.005040</td>\n",
       "      <td>-0.006171</td>\n",
       "      <td>0.009361</td>\n",
       "      <td>0.003688</td>\n",
       "      <td>0.053605</td>\n",
       "      <td>0.040902</td>\n",
       "      <td>0.198402</td>\n",
       "      <td>0.001026</td>\n",
       "      <td>0.067144</td>\n",
       "      <td>1.000000</td>\n",
       "      <td>-0.139725</td>\n",
       "      <td>0.952179</td>\n",
       "      <td>-0.124770</td>\n",
       "      <td>-0.052410</td>\n",
       "      <td>-0.104796</td>\n",
       "      <td>-0.004909</td>\n",
       "      <td>-0.055518</td>\n",
       "      <td>-0.288712</td>\n",
       "      <td>0.140107</td>\n",
       "      <td>-0.301679</td>\n",
       "      <td>0.147368</td>\n",
       "    </tr>\n",
       "    <tr>\n",
       "      <th>Shipping_year</th>\n",
       "      <td>0.005414</td>\n",
       "      <td>0.003176</td>\n",
       "      <td>0.010567</td>\n",
       "      <td>-0.000448</td>\n",
       "      <td>0.182126</td>\n",
       "      <td>0.192829</td>\n",
       "      <td>0.942353</td>\n",
       "      <td>0.000149</td>\n",
       "      <td>0.093509</td>\n",
       "      <td>-0.139725</td>\n",
       "      <td>1.000000</td>\n",
       "      <td>-0.115471</td>\n",
       "      <td>0.994073</td>\n",
       "      <td>-0.147639</td>\n",
       "      <td>-0.049902</td>\n",
       "      <td>0.002845</td>\n",
       "      <td>-0.021557</td>\n",
       "      <td>0.069891</td>\n",
       "      <td>-0.089270</td>\n",
       "      <td>0.079714</td>\n",
       "      <td>-0.079406</td>\n",
       "    </tr>\n",
       "    <tr>\n",
       "      <th>Order_month</th>\n",
       "      <td>-0.007593</td>\n",
       "      <td>-0.007458</td>\n",
       "      <td>0.009064</td>\n",
       "      <td>0.002587</td>\n",
       "      <td>0.062451</td>\n",
       "      <td>0.050955</td>\n",
       "      <td>0.206579</td>\n",
       "      <td>0.001107</td>\n",
       "      <td>0.070348</td>\n",
       "      <td>0.952179</td>\n",
       "      <td>-0.115471</td>\n",
       "      <td>1.000000</td>\n",
       "      <td>-0.132679</td>\n",
       "      <td>-0.058475</td>\n",
       "      <td>-0.111440</td>\n",
       "      <td>-0.005942</td>\n",
       "      <td>-0.059585</td>\n",
       "      <td>-0.279908</td>\n",
       "      <td>0.141240</td>\n",
       "      <td>-0.213297</td>\n",
       "      <td>0.114571</td>\n",
       "    </tr>\n",
       "    <tr>\n",
       "      <th>Order_year</th>\n",
       "      <td>0.000842</td>\n",
       "      <td>0.000656</td>\n",
       "      <td>0.010703</td>\n",
       "      <td>-0.002181</td>\n",
       "      <td>0.179645</td>\n",
       "      <td>0.189759</td>\n",
       "      <td>0.941952</td>\n",
       "      <td>0.000078</td>\n",
       "      <td>0.091843</td>\n",
       "      <td>-0.124770</td>\n",
       "      <td>0.994073</td>\n",
       "      <td>-0.132679</td>\n",
       "      <td>1.000000</td>\n",
       "      <td>-0.145903</td>\n",
       "      <td>-0.048117</td>\n",
       "      <td>0.000701</td>\n",
       "      <td>-0.022527</td>\n",
       "      <td>0.067313</td>\n",
       "      <td>-0.089987</td>\n",
       "      <td>0.050857</td>\n",
       "      <td>-0.067561</td>\n",
       "    </tr>\n",
       "    <tr>\n",
       "      <th>Customerwise_order_count</th>\n",
       "      <td>-0.003424</td>\n",
       "      <td>-0.003177</td>\n",
       "      <td>-0.008422</td>\n",
       "      <td>0.002703</td>\n",
       "      <td>-0.210644</td>\n",
       "      <td>-0.223728</td>\n",
       "      <td>-0.163784</td>\n",
       "      <td>-0.000299</td>\n",
       "      <td>-0.101006</td>\n",
       "      <td>-0.052410</td>\n",
       "      <td>-0.147639</td>\n",
       "      <td>-0.058475</td>\n",
       "      <td>-0.145903</td>\n",
       "      <td>1.000000</td>\n",
       "      <td>-0.037967</td>\n",
       "      <td>-0.002695</td>\n",
       "      <td>-0.019887</td>\n",
       "      <td>-0.077109</td>\n",
       "      <td>0.178373</td>\n",
       "      <td>-0.076915</td>\n",
       "      <td>0.190067</td>\n",
       "    </tr>\n",
       "    <tr>\n",
       "      <th>Marketwise_order_count</th>\n",
       "      <td>0.000098</td>\n",
       "      <td>-0.000450</td>\n",
       "      <td>0.001602</td>\n",
       "      <td>0.001825</td>\n",
       "      <td>0.057045</td>\n",
       "      <td>0.057187</td>\n",
       "      <td>-0.085112</td>\n",
       "      <td>0.000478</td>\n",
       "      <td>0.041259</td>\n",
       "      <td>-0.104796</td>\n",
       "      <td>-0.049902</td>\n",
       "      <td>-0.111440</td>\n",
       "      <td>-0.048117</td>\n",
       "      <td>-0.037967</td>\n",
       "      <td>1.000000</td>\n",
       "      <td>-0.001186</td>\n",
       "      <td>0.472614</td>\n",
       "      <td>0.036444</td>\n",
       "      <td>0.015639</td>\n",
       "      <td>0.030189</td>\n",
       "      <td>-0.013624</td>\n",
       "    </tr>\n",
       "    <tr>\n",
       "      <th>Shippingmode_order_count</th>\n",
       "      <td>0.432647</td>\n",
       "      <td>0.978859</td>\n",
       "      <td>0.000312</td>\n",
       "      <td>-0.391541</td>\n",
       "      <td>-0.000400</td>\n",
       "      <td>0.001508</td>\n",
       "      <td>-0.001320</td>\n",
       "      <td>-0.000452</td>\n",
       "      <td>0.006584</td>\n",
       "      <td>-0.004909</td>\n",
       "      <td>0.002845</td>\n",
       "      <td>-0.005942</td>\n",
       "      <td>0.000701</td>\n",
       "      <td>-0.002695</td>\n",
       "      <td>-0.001186</td>\n",
       "      <td>1.000000</td>\n",
       "      <td>0.846511</td>\n",
       "      <td>0.003778</td>\n",
       "      <td>0.004504</td>\n",
       "      <td>0.003227</td>\n",
       "      <td>0.001127</td>\n",
       "    </tr>\n",
       "    <tr>\n",
       "      <th>Mode_market_order_count</th>\n",
       "      <td>0.365324</td>\n",
       "      <td>0.828762</td>\n",
       "      <td>0.000785</td>\n",
       "      <td>-0.331060</td>\n",
       "      <td>0.026646</td>\n",
       "      <td>0.029242</td>\n",
       "      <td>-0.042313</td>\n",
       "      <td>0.000567</td>\n",
       "      <td>0.025017</td>\n",
       "      <td>-0.055518</td>\n",
       "      <td>-0.021557</td>\n",
       "      <td>-0.059585</td>\n",
       "      <td>-0.022527</td>\n",
       "      <td>-0.019887</td>\n",
       "      <td>0.472614</td>\n",
       "      <td>0.846511</td>\n",
       "      <td>1.000000</td>\n",
       "      <td>0.019371</td>\n",
       "      <td>0.011940</td>\n",
       "      <td>0.014993</td>\n",
       "      <td>-0.005219</td>\n",
       "    </tr>\n",
       "    <tr>\n",
       "      <th>Monthly_order</th>\n",
       "      <td>0.003479</td>\n",
       "      <td>0.004956</td>\n",
       "      <td>-0.002692</td>\n",
       "      <td>-0.000592</td>\n",
       "      <td>0.104662</td>\n",
       "      <td>0.124521</td>\n",
       "      <td>-0.026822</td>\n",
       "      <td>-0.001213</td>\n",
       "      <td>0.006784</td>\n",
       "      <td>-0.288712</td>\n",
       "      <td>0.069891</td>\n",
       "      <td>-0.279908</td>\n",
       "      <td>0.067313</td>\n",
       "      <td>-0.077109</td>\n",
       "      <td>0.036444</td>\n",
       "      <td>0.003778</td>\n",
       "      <td>0.019371</td>\n",
       "      <td>1.000000</td>\n",
       "      <td>-0.307766</td>\n",
       "      <td>0.888526</td>\n",
       "      <td>-0.294391</td>\n",
       "    </tr>\n",
       "    <tr>\n",
       "      <th>Year_order</th>\n",
       "      <td>0.000004</td>\n",
       "      <td>0.004015</td>\n",
       "      <td>0.009424</td>\n",
       "      <td>-0.004150</td>\n",
       "      <td>-0.257233</td>\n",
       "      <td>-0.307404</td>\n",
       "      <td>-0.041485</td>\n",
       "      <td>-0.000767</td>\n",
       "      <td>0.011315</td>\n",
       "      <td>0.140107</td>\n",
       "      <td>-0.089270</td>\n",
       "      <td>0.141240</td>\n",
       "      <td>-0.089987</td>\n",
       "      <td>0.178373</td>\n",
       "      <td>0.015639</td>\n",
       "      <td>0.004504</td>\n",
       "      <td>0.011940</td>\n",
       "      <td>-0.307766</td>\n",
       "      <td>1.000000</td>\n",
       "      <td>-0.272827</td>\n",
       "      <td>0.943237</td>\n",
       "    </tr>\n",
       "    <tr>\n",
       "      <th>Monthly_shipping</th>\n",
       "      <td>-0.002312</td>\n",
       "      <td>0.003619</td>\n",
       "      <td>-0.003169</td>\n",
       "      <td>-0.004026</td>\n",
       "      <td>0.103102</td>\n",
       "      <td>0.120832</td>\n",
       "      <td>-0.021096</td>\n",
       "      <td>-0.001624</td>\n",
       "      <td>0.008778</td>\n",
       "      <td>-0.301679</td>\n",
       "      <td>0.079714</td>\n",
       "      <td>-0.213297</td>\n",
       "      <td>0.050857</td>\n",
       "      <td>-0.076915</td>\n",
       "      <td>0.030189</td>\n",
       "      <td>0.003227</td>\n",
       "      <td>0.014993</td>\n",
       "      <td>0.888526</td>\n",
       "      <td>-0.272827</td>\n",
       "      <td>1.000000</td>\n",
       "      <td>-0.288950</td>\n",
       "    </tr>\n",
       "    <tr>\n",
       "      <th>Year_shipping</th>\n",
       "      <td>-0.005437</td>\n",
       "      <td>0.000205</td>\n",
       "      <td>0.007988</td>\n",
       "      <td>-0.005162</td>\n",
       "      <td>-0.268598</td>\n",
       "      <td>-0.323849</td>\n",
       "      <td>-0.028773</td>\n",
       "      <td>-0.000599</td>\n",
       "      <td>-0.003772</td>\n",
       "      <td>0.147368</td>\n",
       "      <td>-0.079406</td>\n",
       "      <td>0.114571</td>\n",
       "      <td>-0.067561</td>\n",
       "      <td>0.190067</td>\n",
       "      <td>-0.013624</td>\n",
       "      <td>0.001127</td>\n",
       "      <td>-0.005219</td>\n",
       "      <td>-0.294391</td>\n",
       "      <td>0.943237</td>\n",
       "      <td>-0.288950</td>\n",
       "      <td>1.000000</td>\n",
       "    </tr>\n",
       "  </tbody>\n",
       "</table>\n",
       "</div>\n",
       "      <button class=\"colab-df-convert\" onclick=\"convertToInteractive('df-2a3d34c6-c88a-4f16-9e48-90152bddb6dc')\"\n",
       "              title=\"Convert this dataframe to an interactive table.\"\n",
       "              style=\"display:none;\">\n",
       "        \n",
       "  <svg xmlns=\"http://www.w3.org/2000/svg\" height=\"24px\"viewBox=\"0 0 24 24\"\n",
       "       width=\"24px\">\n",
       "    <path d=\"M0 0h24v24H0V0z\" fill=\"none\"/>\n",
       "    <path d=\"M18.56 5.44l.94 2.06.94-2.06 2.06-.94-2.06-.94-.94-2.06-.94 2.06-2.06.94zm-11 1L8.5 8.5l.94-2.06 2.06-.94-2.06-.94L8.5 2.5l-.94 2.06-2.06.94zm10 10l.94 2.06.94-2.06 2.06-.94-2.06-.94-.94-2.06-.94 2.06-2.06.94z\"/><path d=\"M17.41 7.96l-1.37-1.37c-.4-.4-.92-.59-1.43-.59-.52 0-1.04.2-1.43.59L10.3 9.45l-7.72 7.72c-.78.78-.78 2.05 0 2.83L4 21.41c.39.39.9.59 1.41.59.51 0 1.02-.2 1.41-.59l7.78-7.78 2.81-2.81c.8-.78.8-2.07 0-2.86zM5.41 20L4 18.59l7.72-7.72 1.47 1.35L5.41 20z\"/>\n",
       "  </svg>\n",
       "      </button>\n",
       "      \n",
       "  <style>\n",
       "    .colab-df-container {\n",
       "      display:flex;\n",
       "      flex-wrap:wrap;\n",
       "      gap: 12px;\n",
       "    }\n",
       "\n",
       "    .colab-df-convert {\n",
       "      background-color: #E8F0FE;\n",
       "      border: none;\n",
       "      border-radius: 50%;\n",
       "      cursor: pointer;\n",
       "      display: none;\n",
       "      fill: #1967D2;\n",
       "      height: 32px;\n",
       "      padding: 0 0 0 0;\n",
       "      width: 32px;\n",
       "    }\n",
       "\n",
       "    .colab-df-convert:hover {\n",
       "      background-color: #E2EBFA;\n",
       "      box-shadow: 0px 1px 2px rgba(60, 64, 67, 0.3), 0px 1px 3px 1px rgba(60, 64, 67, 0.15);\n",
       "      fill: #174EA6;\n",
       "    }\n",
       "\n",
       "    [theme=dark] .colab-df-convert {\n",
       "      background-color: #3B4455;\n",
       "      fill: #D2E3FC;\n",
       "    }\n",
       "\n",
       "    [theme=dark] .colab-df-convert:hover {\n",
       "      background-color: #434B5C;\n",
       "      box-shadow: 0px 1px 3px 1px rgba(0, 0, 0, 0.15);\n",
       "      filter: drop-shadow(0px 1px 2px rgba(0, 0, 0, 0.3));\n",
       "      fill: #FFFFFF;\n",
       "    }\n",
       "  </style>\n",
       "\n",
       "      <script>\n",
       "        const buttonEl =\n",
       "          document.querySelector('#df-2a3d34c6-c88a-4f16-9e48-90152bddb6dc button.colab-df-convert');\n",
       "        buttonEl.style.display =\n",
       "          google.colab.kernel.accessAllowed ? 'block' : 'none';\n",
       "\n",
       "        async function convertToInteractive(key) {\n",
       "          const element = document.querySelector('#df-2a3d34c6-c88a-4f16-9e48-90152bddb6dc');\n",
       "          const dataTable =\n",
       "            await google.colab.kernel.invokeFunction('convertToInteractive',\n",
       "                                                     [key], {});\n",
       "          if (!dataTable) return;\n",
       "\n",
       "          const docLinkHtml = 'Like what you see? Visit the ' +\n",
       "            '<a target=\"_blank\" href=https://colab.research.google.com/notebooks/data_table.ipynb>data table notebook</a>'\n",
       "            + ' to learn more about interactive tables.';\n",
       "          element.innerHTML = '';\n",
       "          dataTable['output_type'] = 'display_data';\n",
       "          await google.colab.output.renderOutput(dataTable, element);\n",
       "          const docLink = document.createElement('div');\n",
       "          docLink.innerHTML = docLinkHtml;\n",
       "          element.appendChild(docLink);\n",
       "        }\n",
       "      </script>\n",
       "    </div>\n",
       "  </div>\n",
       "  "
      ],
      "text/plain": [
       "                               Days for shipping (real)  \\\n",
       "Days for shipping (real)                       1.000000   \n",
       "Days for shipment (scheduled)                  0.515880   \n",
       "Benefit per order                             -0.005101   \n",
       "Late_delivery_risk                             0.401415   \n",
       "Category Id                                   -0.000348   \n",
       "Customer Id                                    0.003432   \n",
       "Order Id                                      -0.001711   \n",
       "Order Item Discount Rate                       0.001467   \n",
       "Order Item Product Price                       0.002185   \n",
       "Shipping_month                                -0.005040   \n",
       "Shipping_year                                  0.005414   \n",
       "Order_month                                   -0.007593   \n",
       "Order_year                                     0.000842   \n",
       "Customerwise_order_count                      -0.003424   \n",
       "Marketwise_order_count                         0.000098   \n",
       "Shippingmode_order_count                       0.432647   \n",
       "Mode_market_order_count                        0.365324   \n",
       "Monthly_order                                  0.003479   \n",
       "Year_order                                     0.000004   \n",
       "Monthly_shipping                              -0.002312   \n",
       "Year_shipping                                 -0.005437   \n",
       "\n",
       "                               Days for shipment (scheduled)  \\\n",
       "Days for shipping (real)                            0.515880   \n",
       "Days for shipment (scheduled)                       1.000000   \n",
       "Benefit per order                                  -0.000185   \n",
       "Late_delivery_risk                                 -0.369352   \n",
       "Category Id                                        -0.000367   \n",
       "Customer Id                                         0.000899   \n",
       "Order Id                                           -0.001878   \n",
       "Order Item Discount Rate                            0.000065   \n",
       "Order Item Product Price                            0.006912   \n",
       "Shipping_month                                     -0.006171   \n",
       "Shipping_year                                       0.003176   \n",
       "Order_month                                        -0.007458   \n",
       "Order_year                                          0.000656   \n",
       "Customerwise_order_count                           -0.003177   \n",
       "Marketwise_order_count                             -0.000450   \n",
       "Shippingmode_order_count                            0.978859   \n",
       "Mode_market_order_count                             0.828762   \n",
       "Monthly_order                                       0.004956   \n",
       "Year_order                                          0.004015   \n",
       "Monthly_shipping                                    0.003619   \n",
       "Year_shipping                                       0.000205   \n",
       "\n",
       "                               Benefit per order  Late_delivery_risk  \\\n",
       "Days for shipping (real)               -0.005101            0.401415   \n",
       "Days for shipment (scheduled)          -0.000185           -0.369352   \n",
       "Benefit per order                       1.000000           -0.003727   \n",
       "Late_delivery_risk                     -0.003727            1.000000   \n",
       "Category Id                             0.031889            0.001752   \n",
       "Customer Id                             0.009354            0.001484   \n",
       "Order Id                                0.013716           -0.001293   \n",
       "Order Item Discount Rate               -0.018644            0.000404   \n",
       "Order Item Product Price                0.103459           -0.002175   \n",
       "Shipping_month                          0.009361            0.003688   \n",
       "Shipping_year                           0.010567           -0.000448   \n",
       "Order_month                             0.009064            0.002587   \n",
       "Order_year                              0.010703           -0.002181   \n",
       "Customerwise_order_count               -0.008422            0.002703   \n",
       "Marketwise_order_count                  0.001602            0.001825   \n",
       "Shippingmode_order_count                0.000312           -0.391541   \n",
       "Mode_market_order_count                 0.000785           -0.331060   \n",
       "Monthly_order                          -0.002692           -0.000592   \n",
       "Year_order                              0.009424           -0.004150   \n",
       "Monthly_shipping                       -0.003169           -0.004026   \n",
       "Year_shipping                           0.007988           -0.005162   \n",
       "\n",
       "                               Category Id  Customer Id  Order Id  \\\n",
       "Days for shipping (real)         -0.000348     0.003432 -0.001711   \n",
       "Days for shipment (scheduled)    -0.000367     0.000899 -0.001878   \n",
       "Benefit per order                 0.031889     0.009354  0.013716   \n",
       "Late_delivery_risk                0.001752     0.001484 -0.001293   \n",
       "Category Id                       1.000000     0.274633  0.198496   \n",
       "Customer Id                       0.274633     1.000000  0.204821   \n",
       "Order Id                          0.198496     0.204821  1.000000   \n",
       "Order Item Discount Rate          0.000572     0.001712  0.000484   \n",
       "Order Item Product Price          0.461059     0.111118  0.115324   \n",
       "Shipping_month                    0.053605     0.040902  0.198402   \n",
       "Shipping_year                     0.182126     0.192829  0.942353   \n",
       "Order_month                       0.062451     0.050955  0.206579   \n",
       "Order_year                        0.179645     0.189759  0.941952   \n",
       "Customerwise_order_count         -0.210644    -0.223728 -0.163784   \n",
       "Marketwise_order_count            0.057045     0.057187 -0.085112   \n",
       "Shippingmode_order_count         -0.000400     0.001508 -0.001320   \n",
       "Mode_market_order_count           0.026646     0.029242 -0.042313   \n",
       "Monthly_order                     0.104662     0.124521 -0.026822   \n",
       "Year_order                       -0.257233    -0.307404 -0.041485   \n",
       "Monthly_shipping                  0.103102     0.120832 -0.021096   \n",
       "Year_shipping                    -0.268598    -0.323849 -0.028773   \n",
       "\n",
       "                               Order Item Discount Rate  \\\n",
       "Days for shipping (real)                       0.001467   \n",
       "Days for shipment (scheduled)                  0.000065   \n",
       "Benefit per order                             -0.018644   \n",
       "Late_delivery_risk                             0.000404   \n",
       "Category Id                                    0.000572   \n",
       "Customer Id                                    0.001712   \n",
       "Order Id                                       0.000484   \n",
       "Order Item Discount Rate                       1.000000   \n",
       "Order Item Product Price                       0.000345   \n",
       "Shipping_month                                 0.001026   \n",
       "Shipping_year                                  0.000149   \n",
       "Order_month                                    0.001107   \n",
       "Order_year                                     0.000078   \n",
       "Customerwise_order_count                      -0.000299   \n",
       "Marketwise_order_count                         0.000478   \n",
       "Shippingmode_order_count                      -0.000452   \n",
       "Mode_market_order_count                        0.000567   \n",
       "Monthly_order                                 -0.001213   \n",
       "Year_order                                    -0.000767   \n",
       "Monthly_shipping                              -0.001624   \n",
       "Year_shipping                                 -0.000599   \n",
       "\n",
       "                               Order Item Product Price  Shipping_month  \\\n",
       "Days for shipping (real)                       0.002185       -0.005040   \n",
       "Days for shipment (scheduled)                  0.006912       -0.006171   \n",
       "Benefit per order                              0.103459        0.009361   \n",
       "Late_delivery_risk                            -0.002175        0.003688   \n",
       "Category Id                                    0.461059        0.053605   \n",
       "Customer Id                                    0.111118        0.040902   \n",
       "Order Id                                       0.115324        0.198402   \n",
       "Order Item Discount Rate                       0.000345        0.001026   \n",
       "Order Item Product Price                       1.000000        0.067144   \n",
       "Shipping_month                                 0.067144        1.000000   \n",
       "Shipping_year                                  0.093509       -0.139725   \n",
       "Order_month                                    0.070348        0.952179   \n",
       "Order_year                                     0.091843       -0.124770   \n",
       "Customerwise_order_count                      -0.101006       -0.052410   \n",
       "Marketwise_order_count                         0.041259       -0.104796   \n",
       "Shippingmode_order_count                       0.006584       -0.004909   \n",
       "Mode_market_order_count                        0.025017       -0.055518   \n",
       "Monthly_order                                  0.006784       -0.288712   \n",
       "Year_order                                     0.011315        0.140107   \n",
       "Monthly_shipping                               0.008778       -0.301679   \n",
       "Year_shipping                                 -0.003772        0.147368   \n",
       "\n",
       "                               Shipping_year  Order_month  Order_year  \\\n",
       "Days for shipping (real)            0.005414    -0.007593    0.000842   \n",
       "Days for shipment (scheduled)       0.003176    -0.007458    0.000656   \n",
       "Benefit per order                   0.010567     0.009064    0.010703   \n",
       "Late_delivery_risk                 -0.000448     0.002587   -0.002181   \n",
       "Category Id                         0.182126     0.062451    0.179645   \n",
       "Customer Id                         0.192829     0.050955    0.189759   \n",
       "Order Id                            0.942353     0.206579    0.941952   \n",
       "Order Item Discount Rate            0.000149     0.001107    0.000078   \n",
       "Order Item Product Price            0.093509     0.070348    0.091843   \n",
       "Shipping_month                     -0.139725     0.952179   -0.124770   \n",
       "Shipping_year                       1.000000    -0.115471    0.994073   \n",
       "Order_month                        -0.115471     1.000000   -0.132679   \n",
       "Order_year                          0.994073    -0.132679    1.000000   \n",
       "Customerwise_order_count           -0.147639    -0.058475   -0.145903   \n",
       "Marketwise_order_count             -0.049902    -0.111440   -0.048117   \n",
       "Shippingmode_order_count            0.002845    -0.005942    0.000701   \n",
       "Mode_market_order_count            -0.021557    -0.059585   -0.022527   \n",
       "Monthly_order                       0.069891    -0.279908    0.067313   \n",
       "Year_order                         -0.089270     0.141240   -0.089987   \n",
       "Monthly_shipping                    0.079714    -0.213297    0.050857   \n",
       "Year_shipping                      -0.079406     0.114571   -0.067561   \n",
       "\n",
       "                               Customerwise_order_count  \\\n",
       "Days for shipping (real)                      -0.003424   \n",
       "Days for shipment (scheduled)                 -0.003177   \n",
       "Benefit per order                             -0.008422   \n",
       "Late_delivery_risk                             0.002703   \n",
       "Category Id                                   -0.210644   \n",
       "Customer Id                                   -0.223728   \n",
       "Order Id                                      -0.163784   \n",
       "Order Item Discount Rate                      -0.000299   \n",
       "Order Item Product Price                      -0.101006   \n",
       "Shipping_month                                -0.052410   \n",
       "Shipping_year                                 -0.147639   \n",
       "Order_month                                   -0.058475   \n",
       "Order_year                                    -0.145903   \n",
       "Customerwise_order_count                       1.000000   \n",
       "Marketwise_order_count                        -0.037967   \n",
       "Shippingmode_order_count                      -0.002695   \n",
       "Mode_market_order_count                       -0.019887   \n",
       "Monthly_order                                 -0.077109   \n",
       "Year_order                                     0.178373   \n",
       "Monthly_shipping                              -0.076915   \n",
       "Year_shipping                                  0.190067   \n",
       "\n",
       "                               Marketwise_order_count  \\\n",
       "Days for shipping (real)                     0.000098   \n",
       "Days for shipment (scheduled)               -0.000450   \n",
       "Benefit per order                            0.001602   \n",
       "Late_delivery_risk                           0.001825   \n",
       "Category Id                                  0.057045   \n",
       "Customer Id                                  0.057187   \n",
       "Order Id                                    -0.085112   \n",
       "Order Item Discount Rate                     0.000478   \n",
       "Order Item Product Price                     0.041259   \n",
       "Shipping_month                              -0.104796   \n",
       "Shipping_year                               -0.049902   \n",
       "Order_month                                 -0.111440   \n",
       "Order_year                                  -0.048117   \n",
       "Customerwise_order_count                    -0.037967   \n",
       "Marketwise_order_count                       1.000000   \n",
       "Shippingmode_order_count                    -0.001186   \n",
       "Mode_market_order_count                      0.472614   \n",
       "Monthly_order                                0.036444   \n",
       "Year_order                                   0.015639   \n",
       "Monthly_shipping                             0.030189   \n",
       "Year_shipping                               -0.013624   \n",
       "\n",
       "                               Shippingmode_order_count  \\\n",
       "Days for shipping (real)                       0.432647   \n",
       "Days for shipment (scheduled)                  0.978859   \n",
       "Benefit per order                              0.000312   \n",
       "Late_delivery_risk                            -0.391541   \n",
       "Category Id                                   -0.000400   \n",
       "Customer Id                                    0.001508   \n",
       "Order Id                                      -0.001320   \n",
       "Order Item Discount Rate                      -0.000452   \n",
       "Order Item Product Price                       0.006584   \n",
       "Shipping_month                                -0.004909   \n",
       "Shipping_year                                  0.002845   \n",
       "Order_month                                   -0.005942   \n",
       "Order_year                                     0.000701   \n",
       "Customerwise_order_count                      -0.002695   \n",
       "Marketwise_order_count                        -0.001186   \n",
       "Shippingmode_order_count                       1.000000   \n",
       "Mode_market_order_count                        0.846511   \n",
       "Monthly_order                                  0.003778   \n",
       "Year_order                                     0.004504   \n",
       "Monthly_shipping                               0.003227   \n",
       "Year_shipping                                  0.001127   \n",
       "\n",
       "                               Mode_market_order_count  Monthly_order  \\\n",
       "Days for shipping (real)                      0.365324       0.003479   \n",
       "Days for shipment (scheduled)                 0.828762       0.004956   \n",
       "Benefit per order                             0.000785      -0.002692   \n",
       "Late_delivery_risk                           -0.331060      -0.000592   \n",
       "Category Id                                   0.026646       0.104662   \n",
       "Customer Id                                   0.029242       0.124521   \n",
       "Order Id                                     -0.042313      -0.026822   \n",
       "Order Item Discount Rate                      0.000567      -0.001213   \n",
       "Order Item Product Price                      0.025017       0.006784   \n",
       "Shipping_month                               -0.055518      -0.288712   \n",
       "Shipping_year                                -0.021557       0.069891   \n",
       "Order_month                                  -0.059585      -0.279908   \n",
       "Order_year                                   -0.022527       0.067313   \n",
       "Customerwise_order_count                     -0.019887      -0.077109   \n",
       "Marketwise_order_count                        0.472614       0.036444   \n",
       "Shippingmode_order_count                      0.846511       0.003778   \n",
       "Mode_market_order_count                       1.000000       0.019371   \n",
       "Monthly_order                                 0.019371       1.000000   \n",
       "Year_order                                    0.011940      -0.307766   \n",
       "Monthly_shipping                              0.014993       0.888526   \n",
       "Year_shipping                                -0.005219      -0.294391   \n",
       "\n",
       "                               Year_order  Monthly_shipping  Year_shipping  \n",
       "Days for shipping (real)         0.000004         -0.002312      -0.005437  \n",
       "Days for shipment (scheduled)    0.004015          0.003619       0.000205  \n",
       "Benefit per order                0.009424         -0.003169       0.007988  \n",
       "Late_delivery_risk              -0.004150         -0.004026      -0.005162  \n",
       "Category Id                     -0.257233          0.103102      -0.268598  \n",
       "Customer Id                     -0.307404          0.120832      -0.323849  \n",
       "Order Id                        -0.041485         -0.021096      -0.028773  \n",
       "Order Item Discount Rate        -0.000767         -0.001624      -0.000599  \n",
       "Order Item Product Price         0.011315          0.008778      -0.003772  \n",
       "Shipping_month                   0.140107         -0.301679       0.147368  \n",
       "Shipping_year                   -0.089270          0.079714      -0.079406  \n",
       "Order_month                      0.141240         -0.213297       0.114571  \n",
       "Order_year                      -0.089987          0.050857      -0.067561  \n",
       "Customerwise_order_count         0.178373         -0.076915       0.190067  \n",
       "Marketwise_order_count           0.015639          0.030189      -0.013624  \n",
       "Shippingmode_order_count         0.004504          0.003227       0.001127  \n",
       "Mode_market_order_count          0.011940          0.014993      -0.005219  \n",
       "Monthly_order                   -0.307766          0.888526      -0.294391  \n",
       "Year_order                       1.000000         -0.272827       0.943237  \n",
       "Monthly_shipping                -0.272827          1.000000      -0.288950  \n",
       "Year_shipping                    0.943237         -0.288950       1.000000  "
      ]
     },
     "execution_count": 208,
     "metadata": {},
     "output_type": "execute_result"
    }
   ],
   "source": [
    "data.corr()"
   ]
  },
  {
   "cell_type": "code",
   "execution_count": 209,
   "metadata": {
    "id": "PwUejRNVos1o"
   },
   "outputs": [],
   "source": [
    "# Dropping all the unnecessary columns created.\n",
    "\n",
    "data= data.drop(['Benefit per order','Type','Category Id','Shipping_month','Shipping_year','Order_month','Order_year','Customerwise_order_count','Marketwise_order_count',\n",
    "                 'Monthly_order','Year_order','Monthly_shipping','Year_shipping'],1)"
   ]
  },
  {
   "cell_type": "markdown",
   "metadata": {
    "id": "dOstHSxSeKAd"
   },
   "source": [
    "## **Model Building**"
   ]
  },
  {
   "cell_type": "code",
   "execution_count": 210,
   "metadata": {
    "colab": {
     "base_uri": "https://localhost:8080/"
    },
    "id": "2T8m5TN7ooAG",
    "outputId": "45f63550-cb2a-4693-ecb3-24807de39d0c"
   },
   "outputs": [
    {
     "data": {
      "text/plain": [
       "Index(['Days for shipping (real)', 'Days for shipment (scheduled)',\n",
       "       'Late_delivery_risk', 'Customer Id', 'Market', 'Order Id',\n",
       "       'Order Item Discount Rate', 'Order Item Product Price', 'Order Region',\n",
       "       'Shipping Mode', 'payment_mode', 'Profit_loss', 'Cat_class',\n",
       "       'Shippingmode_order_count', 'Mode_market_order_count'],\n",
       "      dtype='object')"
      ]
     },
     "execution_count": 210,
     "metadata": {},
     "output_type": "execute_result"
    }
   ],
   "source": [
    "data.columns"
   ]
  },
  {
   "cell_type": "code",
   "execution_count": 211,
   "metadata": {
    "id": "e0oJ_HsITc3q"
   },
   "outputs": [],
   "source": [
    "x1=data.drop(['Late_delivery_risk'],1)\n",
    "y1=data.Late_delivery_risk"
   ]
  },
  {
   "cell_type": "code",
   "execution_count": 212,
   "metadata": {
    "id": "ylqZtjZgTc0h"
   },
   "outputs": [],
   "source": [
    "x1=pd.get_dummies(x1, drop_first=True)"
   ]
  },
  {
   "cell_type": "markdown",
   "metadata": {
    "id": "uLESbZOiUeoc"
   },
   "source": [
    "## Logistic Regression"
   ]
  },
  {
   "cell_type": "code",
   "execution_count": 213,
   "metadata": {
    "colab": {
     "base_uri": "https://localhost:8080/"
    },
    "id": "O4M_Ja54Tctc",
    "outputId": "c0e1eb1a-9985-4bc3-b6ac-3357400f2c9d"
   },
   "outputs": [
    {
     "name": "stdout",
     "output_type": "stream",
     "text": [
      "              precision    recall  f1-score   support\n",
      "\n",
      "           0       0.98      0.86      0.92     24321\n",
      "           1       0.90      0.99      0.94     29835\n",
      "\n",
      "    accuracy                           0.93     54156\n",
      "   macro avg       0.94      0.92      0.93     54156\n",
      "weighted avg       0.93      0.93      0.93     54156\n",
      "\n",
      "Training accuracy 0.9309133211462216\n",
      "Test accuracy 0.9300908486594284\n"
     ]
    }
   ],
   "source": [
    "xtrain, xtest, ytrain, ytest= train_test_split(x1,y1, test_size=0.3, random_state=10)\n",
    "lr= LogisticRegression()\n",
    "lr.fit(xtrain, ytrain)\n",
    "ypred= lr.predict(xtest)\n",
    "print(classification_report(ytest, ypred))\n",
    "print(\"Training accuracy\", lr.score(xtrain, ytrain))\n",
    "print(\"Test accuracy\", lr.score(xtest, ytest))"
   ]
  },
  {
   "cell_type": "code",
   "execution_count": 214,
   "metadata": {
    "colab": {
     "base_uri": "https://localhost:8080/"
    },
    "id": "Mo7YHMaX3p5j",
    "outputId": "c57e979c-6423-4e83-c9c5-2379367f9b92"
   },
   "outputs": [
    {
     "name": "stdout",
     "output_type": "stream",
     "text": [
      "              precision    recall  f1-score   support\n",
      "\n",
      "           0       0.98      0.86      0.92     24321\n",
      "           1       0.90      0.99      0.94     29835\n",
      "\n",
      "    accuracy                           0.93     54156\n",
      "   macro avg       0.94      0.92      0.93     54156\n",
      "weighted avg       0.93      0.93      0.93     54156\n",
      "\n",
      "Training accuracy 1.0\n",
      "Test accuracy 0.9794297954058645\n"
     ]
    }
   ],
   "source": [
    "from sklearn.tree import DecisionTreeClassifier\n",
    "\n",
    "dt= DecisionTreeClassifier(random_state=10)\n",
    "dt.fit(xtrain, ytrain)\n",
    "pred= dt.predict(xtest)\n",
    "print(classification_report(ytest, ypred))\n",
    "print(\"Training accuracy\", dt.score(xtrain, ytrain))\n",
    "print(\"Test accuracy\", dt.score(xtest, ytest))"
   ]
  },
  {
   "cell_type": "code",
   "execution_count": 215,
   "metadata": {
    "id": "bB1-SP4bRlXG"
   },
   "outputs": [],
   "source": [
    "from sklearn import tree\n",
    "features= xtrain.columns\n",
    "dt_file1= open('dt.dot','w')\n",
    "dot_data= tree.export_graphviz(dt, out_file=dt_file1, feature_names= features, class_names=['0','1'], filled=True, rounded=True)\n",
    "dt_file1.close()"
   ]
  },
  {
   "cell_type": "code",
   "execution_count": 216,
   "metadata": {
    "colab": {
     "base_uri": "https://localhost:8080/"
    },
    "id": "0puGJW6OrRC9",
    "outputId": "3b0d1f6d-a6e6-4ad6-fa5b-db6b6465afe9"
   },
   "outputs": [
    {
     "name": "stdout",
     "output_type": "stream",
     "text": [
      "              precision    recall  f1-score   support\n",
      "\n",
      "           0       0.98      0.86      0.92     24321\n",
      "           1       0.90      0.99      0.94     29835\n",
      "\n",
      "    accuracy                           0.93     54156\n",
      "   macro avg       0.94      0.92      0.93     54156\n",
      "weighted avg       0.93      0.93      0.93     54156\n",
      "\n",
      "Training accuracy 0.999992086291082\n",
      "Test accuracy 0.9761060639633651\n"
     ]
    }
   ],
   "source": [
    "from sklearn.ensemble import RandomForestClassifier\n",
    "rf= RandomForestClassifier(random_state=10)\n",
    "rf.fit(xtrain, ytrain)\n",
    "pred= rf.predict(xtest)\n",
    "print(classification_report(ytest, ypred))\n",
    "print(\"Training accuracy\", rf.score(xtrain, ytrain))\n",
    "print(\"Test accuracy\", rf.score(xtest, ytest))"
   ]
  },
  {
   "cell_type": "code",
   "execution_count": 217,
   "metadata": {
    "colab": {
     "base_uri": "https://localhost:8080/"
    },
    "id": "gJyELCx5HbtV",
    "outputId": "1e2fea82-d289-4908-ba25-b6058d54896d"
   },
   "outputs": [
    {
     "name": "stdout",
     "output_type": "stream",
     "text": [
      "              precision    recall  f1-score   support\n",
      "\n",
      "           0       0.72      0.74      0.73     24321\n",
      "           1       0.78      0.76      0.77     29835\n",
      "\n",
      "    accuracy                           0.75     54156\n",
      "   macro avg       0.75      0.75      0.75     54156\n",
      "weighted avg       0.75      0.75      0.75     54156\n",
      "\n",
      "Training score: 0.8552107816370298\n",
      "Test score: 0.7519019129920969\n"
     ]
    }
   ],
   "source": [
    "from sklearn.neighbors import KNeighborsClassifier\n",
    "knn= KNeighborsClassifier()\n",
    "knn.fit(xtrain, ytrain)\n",
    "\n",
    "ypred= knn.predict(xtest)\n",
    "print(classification_report(ytest, ypred))\n",
    "print('Training score:', knn.score(xtrain, ytrain))\n",
    "print('Test score:', knn.score(xtest, ytest))    "
   ]
  },
  {
   "cell_type": "code",
   "execution_count": 218,
   "metadata": {
    "colab": {
     "base_uri": "https://localhost:8080/"
    },
    "id": "XmPBuT6_tCjf",
    "outputId": "ffd4dbb1-20b8-4900-8cb6-e38b7a93f08c"
   },
   "outputs": [
    {
     "name": "stdout",
     "output_type": "stream",
     "text": [
      "              precision    recall  f1-score   support\n",
      "\n",
      "           0       1.00      0.94      0.97     24321\n",
      "           1       0.96      1.00      0.98     29835\n",
      "\n",
      "    accuracy                           0.98     54156\n",
      "   macro avg       0.98      0.97      0.97     54156\n",
      "weighted avg       0.98      0.98      0.97     54156\n",
      "\n",
      "Training score: 0.9756811724951133\n",
      "Test score: 0.9750720141812541\n"
     ]
    }
   ],
   "source": [
    "from sklearn.ensemble import AdaBoostClassifier\n",
    "\n",
    "ada= AdaBoostClassifier()\n",
    "ada.fit(xtrain, ytrain)\n",
    "ypred= ada.predict(xtest)\n",
    "print(classification_report(ytest, ypred))\n",
    "print('Training score:', ada.score(xtrain, ytrain))\n",
    "print('Test score:', ada.score(xtest, ytest))"
   ]
  },
  {
   "cell_type": "code",
   "execution_count": 219,
   "metadata": {
    "colab": {
     "base_uri": "https://localhost:8080/"
    },
    "id": "128fkJH4tFRq",
    "outputId": "822ef9ed-923f-4800-f24d-84aedf51c63c"
   },
   "outputs": [
    {
     "name": "stdout",
     "output_type": "stream",
     "text": [
      "              precision    recall  f1-score   support\n",
      "\n",
      "           0       1.00      0.94      0.97     24321\n",
      "           1       0.96      1.00      0.98     29835\n",
      "\n",
      "    accuracy                           0.98     54156\n",
      "   macro avg       0.98      0.97      0.97     54156\n",
      "weighted avg       0.98      0.98      0.97     54156\n",
      "\n",
      "Training score: 0.9756811724951133\n",
      "Test score: 0.9750720141812541\n"
     ]
    }
   ],
   "source": [
    "from xgboost import XGBClassifier\n",
    "\n",
    "xg= XGBClassifier()\n",
    "xg.fit(xtrain,ytrain)\n",
    "ypred= xg.predict(xtest)\n",
    "print(classification_report(ytest, ypred))\n",
    "print('Training score:', xg.score(xtrain, ytrain))\n",
    "print('Test score:', xg.score(xtest, ytest))"
   ]
  },
  {
   "cell_type": "code",
   "execution_count": 220,
   "metadata": {
    "colab": {
     "base_uri": "https://localhost:8080/"
    },
    "id": "_shx3tgDtKcn",
    "outputId": "7f94e612-b950-4185-fede-9e129865591b"
   },
   "outputs": [
    {
     "name": "stdout",
     "output_type": "stream",
     "text": [
      "              precision    recall  f1-score   support\n",
      "\n",
      "           0       1.00      0.94      0.97     24321\n",
      "           1       0.96      1.00      0.98     29835\n",
      "\n",
      "    accuracy                           0.98     54156\n",
      "   macro avg       0.98      0.97      0.97     54156\n",
      "weighted avg       0.98      0.98      0.97     54156\n",
      "\n",
      "Training score: 0.9756811724951133\n",
      "Test score: 0.9750720141812541\n"
     ]
    }
   ],
   "source": [
    "from sklearn.ensemble import GradientBoostingClassifier\n",
    "\n",
    "gb= GradientBoostingClassifier()\n",
    "gb.fit(xtrain, ytrain)\n",
    "ypred= gb.predict(xtest)\n",
    "print(classification_report(ytest, ypred))\n",
    "print('Training score:', gb.score(xtrain, ytrain))\n",
    "print('Test score:', gb.score(xtest, ytest))"
   ]
  },
  {
   "cell_type": "code",
   "execution_count": 221,
   "metadata": {
    "id": "6XTmikXotLWL"
   },
   "outputs": [],
   "source": [
    "from sklearn.naive_bayes import BernoulliNB, GaussianNB, MultinomialNB\n",
    "\n",
    "bnb= BernoulliNB()\n",
    "gnb= GaussianNB()\n",
    "mnb= MultinomialNB()"
   ]
  },
  {
   "cell_type": "code",
   "execution_count": 222,
   "metadata": {
    "colab": {
     "base_uri": "https://localhost:8080/"
    },
    "id": "SEUvPymOtjga",
    "outputId": "f2acf6d5-beb6-4e3b-9fe9-f0b3dc968c28"
   },
   "outputs": [
    {
     "name": "stdout",
     "output_type": "stream",
     "text": [
      "              precision    recall  f1-score   support\n",
      "\n",
      "           0       0.63      0.88      0.74     24321\n",
      "           1       0.86      0.58      0.69     29835\n",
      "\n",
      "    accuracy                           0.72     54156\n",
      "   macro avg       0.74      0.73      0.71     54156\n",
      "weighted avg       0.76      0.72      0.71     54156\n",
      "\n",
      "Training score: 0.7198626180131842\n",
      "Test score: 0.7164303124307556\n"
     ]
    }
   ],
   "source": [
    "# Bernoulli\n",
    "\n",
    "bnb.fit(xtrain, ytrain)\n",
    "ypred= bnb.predict(xtest)\n",
    "print(classification_report(ytest, ypred))\n",
    "print('Training score:', bnb.score(xtrain, ytrain))\n",
    "print('Test score:', bnb.score(xtest, ytest))"
   ]
  },
  {
   "cell_type": "code",
   "execution_count": 223,
   "metadata": {
    "colab": {
     "base_uri": "https://localhost:8080/"
    },
    "id": "xqqGonpgtr7W",
    "outputId": "342925dd-7713-4531-fdce-7ac830b9d180"
   },
   "outputs": [
    {
     "name": "stdout",
     "output_type": "stream",
     "text": [
      "              precision    recall  f1-score   support\n",
      "\n",
      "           0       0.65      0.81      0.72     24321\n",
      "           1       0.81      0.64      0.71     29835\n",
      "\n",
      "    accuracy                           0.72     54156\n",
      "   macro avg       0.73      0.73      0.72     54156\n",
      "weighted avg       0.73      0.72      0.72     54156\n",
      "\n",
      "Training score: 0.7219122686229356\n",
      "Test score: 0.7165411034788389\n"
     ]
    }
   ],
   "source": [
    "# Gaussian\n",
    "\n",
    "gnb.fit(xtrain, ytrain)\n",
    "ypred= gnb.predict(xtest)\n",
    "print(classification_report(ytest, ypred))\n",
    "print('Training score:', gnb.score(xtrain, ytrain))\n",
    "print('Test score:', gnb.score(xtest, ytest))"
   ]
  },
  {
   "cell_type": "code",
   "execution_count": 224,
   "metadata": {
    "colab": {
     "base_uri": "https://localhost:8080/"
    },
    "id": "95kCAwNYtyPy",
    "outputId": "fc70e829-3098-4444-bd03-8fd4b2406cdd"
   },
   "outputs": [
    {
     "name": "stdout",
     "output_type": "stream",
     "text": [
      "              precision    recall  f1-score   support\n",
      "\n",
      "           0       0.56      0.62      0.59     24321\n",
      "           1       0.66      0.60      0.63     29835\n",
      "\n",
      "    accuracy                           0.61     54156\n",
      "   macro avg       0.61      0.61      0.61     54156\n",
      "weighted avg       0.62      0.61      0.61     54156\n",
      "\n",
      "Training score: 0.6147606498737763\n",
      "Test score: 0.6124159834552035\n"
     ]
    }
   ],
   "source": [
    "# Multinomial\n",
    "\n",
    "mnb.fit(xtrain, ytrain)\n",
    "ypred= mnb.predict(xtest)\n",
    "print(classification_report(ytest, ypred))\n",
    "print('Training score:', mnb.score(xtrain, ytrain))\n",
    "print('Test score:', mnb.score(xtest, ytest))"
   ]
  },
  {
   "cell_type": "markdown",
   "metadata": {
    "id": "a7NZ5xNUt-ZS"
   },
   "source": [
    "### With hyper tuning"
   ]
  },
  {
   "cell_type": "code",
   "execution_count": 225,
   "metadata": {
    "colab": {
     "base_uri": "https://localhost:8080/"
    },
    "id": "Y_FpSo8gt4lW",
    "outputId": "cc8a034b-ff06-4c59-a372-4289a9d33452"
   },
   "outputs": [
    {
     "data": {
      "text/plain": [
       "{'criterion': 'gini',\n",
       " 'max_depth': 5,\n",
       " 'min_samples_leaf': 3,\n",
       " 'min_samples_split': 3}"
      ]
     },
     "execution_count": 225,
     "metadata": {},
     "output_type": "execute_result"
    }
   ],
   "source": [
    "from sklearn. model_selection import GridSearchCV\n",
    "params={'max_depth':[5,4,3], 'criterion':['entropy','gini'],'min_samples_leaf':[2,3,5,7],'min_samples_split':[3,5,7]}\n",
    "\n",
    "dtree= DecisionTreeClassifier(random_state=10)\n",
    "dtree_cv=GridSearchCV(dtree, params, cv=5,scoring='precision')\n",
    "dtree_cv.fit(x,y)\n",
    "dtree_cv.best_params_"
   ]
  },
  {
   "cell_type": "code",
   "execution_count": 226,
   "metadata": {
    "colab": {
     "base_uri": "https://localhost:8080/"
    },
    "id": "cWWrqjVwuGJV",
    "outputId": "407b6785-ab7d-4ee1-b443-25028e16d873"
   },
   "outputs": [
    {
     "name": "stdout",
     "output_type": "stream",
     "text": [
      "              precision    recall  f1-score   support\n",
      "\n",
      "           0       1.00      0.94      0.97     24321\n",
      "           1       0.96      1.00      0.98     29835\n",
      "\n",
      "    accuracy                           0.98     54156\n",
      "   macro avg       0.98      0.97      0.97     54156\n",
      "weighted avg       0.98      0.98      0.98     54156\n",
      "\n",
      "Training score: 0.9757444821664569\n",
      "Test score: 0.9750904793559347\n"
     ]
    }
   ],
   "source": [
    "dtt= DecisionTreeClassifier(max_depth=5, criterion='gini',min_samples_leaf=3, min_samples_split=3 , random_state=10)\n",
    "dtt.fit(xtrain, ytrain)\n",
    "ypred= dtt.predict(xtest)\n",
    "print(classification_report(ytest, ypred))\n",
    "print('Training score:', dtt.score(xtrain, ytrain))\n",
    "print('Test score:', dtt.score(xtest, ytest))"
   ]
  },
  {
   "cell_type": "code",
   "execution_count": 227,
   "metadata": {
    "colab": {
     "base_uri": "https://localhost:8080/"
    },
    "id": "m7axBOHauJXM",
    "outputId": "e7faa54d-b4d3-4c9d-bb9e-e8daf2fb693e"
   },
   "outputs": [
    {
     "data": {
      "text/plain": [
       "{'max_depth': 6, 'max_features': 'sqrt', 'n_estimators': 35}"
      ]
     },
     "execution_count": 227,
     "metadata": {},
     "output_type": "execute_result"
    }
   ],
   "source": [
    "from sklearn. model_selection import GridSearchCV\n",
    "params={'max_features':['sqrt','log2'], 'n_estimators':[20,30,35,40,45,50,60],'max_depth':[2,3,5,6]}\n",
    "\n",
    "rfh= RandomForestClassifier(random_state=10)\n",
    "rfh_cv=GridSearchCV(rfh, params, cv=5,scoring='precision')\n",
    "rfh_cv.fit(x,y)\n",
    "rfh_cv.best_params_"
   ]
  },
  {
   "cell_type": "code",
   "execution_count": 228,
   "metadata": {
    "colab": {
     "base_uri": "https://localhost:8080/"
    },
    "id": "usCoAixwvGAm",
    "outputId": "0e6bee72-9f1c-4f63-ade6-a8282184d61a"
   },
   "outputs": [
    {
     "name": "stdout",
     "output_type": "stream",
     "text": [
      "              precision    recall  f1-score   support\n",
      "\n",
      "           0       1.00      0.88      0.93     24321\n",
      "           1       0.91      1.00      0.95     29835\n",
      "\n",
      "    accuracy                           0.94     54156\n",
      "   macro avg       0.95      0.94      0.94     54156\n",
      "weighted avg       0.95      0.94      0.94     54156\n",
      "\n",
      "Training score: 0.9451026012361213\n",
      "Test score: 0.9444567545608982\n"
     ]
    }
   ],
   "source": [
    "rft= RandomForestClassifier(max_features='sqrt', n_estimators=35, max_depth=6, oob_score=True, random_state=10)\n",
    "rft.fit(xtrain, ytrain)\n",
    "ypred= rft.predict(xtest)\n",
    "print(classification_report(ytest, ypred))\n",
    "print('Training score:', rft.score(xtrain, ytrain))\n",
    "print('Test score:', rft.score(xtest, ytest))"
   ]
  },
  {
   "cell_type": "code",
   "execution_count": 228,
   "metadata": {
    "id": "-R5ETqw66VzM"
   },
   "outputs": [],
   "source": []
  }
 ],
 "metadata": {
  "colab": {
   "provenance": []
  },
  "kernelspec": {
   "display_name": "Python 3 (ipykernel)",
   "language": "python",
   "name": "python3"
  },
  "language_info": {
   "codemirror_mode": {
    "name": "ipython",
    "version": 3
   },
   "file_extension": ".py",
   "mimetype": "text/x-python",
   "name": "python",
   "nbconvert_exporter": "python",
   "pygments_lexer": "ipython3",
   "version": "3.9.12"
  }
 },
 "nbformat": 4,
 "nbformat_minor": 1
}
