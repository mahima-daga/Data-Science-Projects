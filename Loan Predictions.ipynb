{
 "cells": [
  {
   "cell_type": "markdown",
   "id": "a6540e06",
   "metadata": {},
   "source": [
    "## Predict Loan Eligibility for Dream Housing Finance company\n",
    "Dream Housing Finance company deals in all kinds of home loans. They have presence across all urban, semi urban and rural areas. Customer first applies for home loan and after that company validates the customer eligibility for loan.\n",
    "\n",
    "Company wants to automate the loan eligibility process (real time) based on customer detail provided while filling online application form. These details are Gender, Marital Status, Education, Number of Dependents, Income, Loan Amount, Credit History and others. To automate this process, they have provided a dataset to identify the customers segments that are eligible for loan amount so that they can specifically target these customers."
   ]
  },
  {
   "cell_type": "code",
   "execution_count": 62,
   "id": "ad83d80b",
   "metadata": {},
   "outputs": [],
   "source": [
    "import numpy as np\n",
    "import pandas as pd\n",
    "import seaborn as sns\n",
    "import matplotlib.pyplot as plt\n",
    "\n",
    "plt.rcParams['figure.figsize']=[15,7]\n",
    "\n",
    "import warnings\n",
    "warnings.filterwarnings('ignore')"
   ]
  },
  {
   "cell_type": "code",
   "execution_count": 63,
   "id": "cff28933",
   "metadata": {},
   "outputs": [],
   "source": [
    "sub=pd.read_csv('sample_submission_49d68Cx.csv')"
   ]
  },
  {
   "cell_type": "code",
   "execution_count": 64,
   "id": "8c87b76a",
   "metadata": {},
   "outputs": [
    {
     "data": {
      "text/html": [
       "<div>\n",
       "<style scoped>\n",
       "    .dataframe tbody tr th:only-of-type {\n",
       "        vertical-align: middle;\n",
       "    }\n",
       "\n",
       "    .dataframe tbody tr th {\n",
       "        vertical-align: top;\n",
       "    }\n",
       "\n",
       "    .dataframe thead th {\n",
       "        text-align: right;\n",
       "    }\n",
       "</style>\n",
       "<table border=\"1\" class=\"dataframe\">\n",
       "  <thead>\n",
       "    <tr style=\"text-align: right;\">\n",
       "      <th></th>\n",
       "      <th>Loan_ID</th>\n",
       "      <th>Gender</th>\n",
       "      <th>Married</th>\n",
       "      <th>Dependents</th>\n",
       "      <th>Education</th>\n",
       "      <th>Self_Employed</th>\n",
       "      <th>ApplicantIncome</th>\n",
       "      <th>CoapplicantIncome</th>\n",
       "      <th>LoanAmount</th>\n",
       "      <th>Loan_Amount_Term</th>\n",
       "      <th>Credit_History</th>\n",
       "      <th>Property_Area</th>\n",
       "      <th>Loan_Status</th>\n",
       "    </tr>\n",
       "  </thead>\n",
       "  <tbody>\n",
       "    <tr>\n",
       "      <th>0</th>\n",
       "      <td>LP001002</td>\n",
       "      <td>Male</td>\n",
       "      <td>No</td>\n",
       "      <td>0</td>\n",
       "      <td>Graduate</td>\n",
       "      <td>No</td>\n",
       "      <td>5849</td>\n",
       "      <td>0.0</td>\n",
       "      <td>NaN</td>\n",
       "      <td>360.0</td>\n",
       "      <td>1.0</td>\n",
       "      <td>Urban</td>\n",
       "      <td>Y</td>\n",
       "    </tr>\n",
       "    <tr>\n",
       "      <th>1</th>\n",
       "      <td>LP001003</td>\n",
       "      <td>Male</td>\n",
       "      <td>Yes</td>\n",
       "      <td>1</td>\n",
       "      <td>Graduate</td>\n",
       "      <td>No</td>\n",
       "      <td>4583</td>\n",
       "      <td>1508.0</td>\n",
       "      <td>128.0</td>\n",
       "      <td>360.0</td>\n",
       "      <td>1.0</td>\n",
       "      <td>Rural</td>\n",
       "      <td>N</td>\n",
       "    </tr>\n",
       "    <tr>\n",
       "      <th>2</th>\n",
       "      <td>LP001005</td>\n",
       "      <td>Male</td>\n",
       "      <td>Yes</td>\n",
       "      <td>0</td>\n",
       "      <td>Graduate</td>\n",
       "      <td>Yes</td>\n",
       "      <td>3000</td>\n",
       "      <td>0.0</td>\n",
       "      <td>66.0</td>\n",
       "      <td>360.0</td>\n",
       "      <td>1.0</td>\n",
       "      <td>Urban</td>\n",
       "      <td>Y</td>\n",
       "    </tr>\n",
       "    <tr>\n",
       "      <th>3</th>\n",
       "      <td>LP001006</td>\n",
       "      <td>Male</td>\n",
       "      <td>Yes</td>\n",
       "      <td>0</td>\n",
       "      <td>Not Graduate</td>\n",
       "      <td>No</td>\n",
       "      <td>2583</td>\n",
       "      <td>2358.0</td>\n",
       "      <td>120.0</td>\n",
       "      <td>360.0</td>\n",
       "      <td>1.0</td>\n",
       "      <td>Urban</td>\n",
       "      <td>Y</td>\n",
       "    </tr>\n",
       "    <tr>\n",
       "      <th>4</th>\n",
       "      <td>LP001008</td>\n",
       "      <td>Male</td>\n",
       "      <td>No</td>\n",
       "      <td>0</td>\n",
       "      <td>Graduate</td>\n",
       "      <td>No</td>\n",
       "      <td>6000</td>\n",
       "      <td>0.0</td>\n",
       "      <td>141.0</td>\n",
       "      <td>360.0</td>\n",
       "      <td>1.0</td>\n",
       "      <td>Urban</td>\n",
       "      <td>Y</td>\n",
       "    </tr>\n",
       "  </tbody>\n",
       "</table>\n",
       "</div>"
      ],
      "text/plain": [
       "    Loan_ID Gender Married Dependents     Education Self_Employed  \\\n",
       "0  LP001002   Male      No          0      Graduate            No   \n",
       "1  LP001003   Male     Yes          1      Graduate            No   \n",
       "2  LP001005   Male     Yes          0      Graduate           Yes   \n",
       "3  LP001006   Male     Yes          0  Not Graduate            No   \n",
       "4  LP001008   Male      No          0      Graduate            No   \n",
       "\n",
       "   ApplicantIncome  CoapplicantIncome  LoanAmount  Loan_Amount_Term  \\\n",
       "0             5849                0.0         NaN             360.0   \n",
       "1             4583             1508.0       128.0             360.0   \n",
       "2             3000                0.0        66.0             360.0   \n",
       "3             2583             2358.0       120.0             360.0   \n",
       "4             6000                0.0       141.0             360.0   \n",
       "\n",
       "   Credit_History Property_Area Loan_Status  \n",
       "0             1.0         Urban           Y  \n",
       "1             1.0         Rural           N  \n",
       "2             1.0         Urban           Y  \n",
       "3             1.0         Urban           Y  \n",
       "4             1.0         Urban           Y  "
      ]
     },
     "execution_count": 64,
     "metadata": {},
     "output_type": "execute_result"
    }
   ],
   "source": [
    "train=pd.read_csv('train_ctrUa4K.csv')\n",
    "test=pd.read_csv('test_lAUu6dG.csv')\n",
    "train.head()"
   ]
  },
  {
   "cell_type": "code",
   "execution_count": 65,
   "id": "10d65d48",
   "metadata": {},
   "outputs": [
    {
     "data": {
      "text/html": [
       "<div>\n",
       "<style scoped>\n",
       "    .dataframe tbody tr th:only-of-type {\n",
       "        vertical-align: middle;\n",
       "    }\n",
       "\n",
       "    .dataframe tbody tr th {\n",
       "        vertical-align: top;\n",
       "    }\n",
       "\n",
       "    .dataframe thead th {\n",
       "        text-align: right;\n",
       "    }\n",
       "</style>\n",
       "<table border=\"1\" class=\"dataframe\">\n",
       "  <thead>\n",
       "    <tr style=\"text-align: right;\">\n",
       "      <th></th>\n",
       "      <th>Loan_ID</th>\n",
       "      <th>Gender</th>\n",
       "      <th>Married</th>\n",
       "      <th>Dependents</th>\n",
       "      <th>Education</th>\n",
       "      <th>Self_Employed</th>\n",
       "      <th>ApplicantIncome</th>\n",
       "      <th>CoapplicantIncome</th>\n",
       "      <th>LoanAmount</th>\n",
       "      <th>Loan_Amount_Term</th>\n",
       "      <th>Credit_History</th>\n",
       "      <th>Property_Area</th>\n",
       "    </tr>\n",
       "  </thead>\n",
       "  <tbody>\n",
       "    <tr>\n",
       "      <th>0</th>\n",
       "      <td>LP001015</td>\n",
       "      <td>Male</td>\n",
       "      <td>Yes</td>\n",
       "      <td>0</td>\n",
       "      <td>Graduate</td>\n",
       "      <td>No</td>\n",
       "      <td>5720</td>\n",
       "      <td>0</td>\n",
       "      <td>110.0</td>\n",
       "      <td>360.0</td>\n",
       "      <td>1.0</td>\n",
       "      <td>Urban</td>\n",
       "    </tr>\n",
       "    <tr>\n",
       "      <th>1</th>\n",
       "      <td>LP001022</td>\n",
       "      <td>Male</td>\n",
       "      <td>Yes</td>\n",
       "      <td>1</td>\n",
       "      <td>Graduate</td>\n",
       "      <td>No</td>\n",
       "      <td>3076</td>\n",
       "      <td>1500</td>\n",
       "      <td>126.0</td>\n",
       "      <td>360.0</td>\n",
       "      <td>1.0</td>\n",
       "      <td>Urban</td>\n",
       "    </tr>\n",
       "    <tr>\n",
       "      <th>2</th>\n",
       "      <td>LP001031</td>\n",
       "      <td>Male</td>\n",
       "      <td>Yes</td>\n",
       "      <td>2</td>\n",
       "      <td>Graduate</td>\n",
       "      <td>No</td>\n",
       "      <td>5000</td>\n",
       "      <td>1800</td>\n",
       "      <td>208.0</td>\n",
       "      <td>360.0</td>\n",
       "      <td>1.0</td>\n",
       "      <td>Urban</td>\n",
       "    </tr>\n",
       "    <tr>\n",
       "      <th>3</th>\n",
       "      <td>LP001035</td>\n",
       "      <td>Male</td>\n",
       "      <td>Yes</td>\n",
       "      <td>2</td>\n",
       "      <td>Graduate</td>\n",
       "      <td>No</td>\n",
       "      <td>2340</td>\n",
       "      <td>2546</td>\n",
       "      <td>100.0</td>\n",
       "      <td>360.0</td>\n",
       "      <td>NaN</td>\n",
       "      <td>Urban</td>\n",
       "    </tr>\n",
       "    <tr>\n",
       "      <th>4</th>\n",
       "      <td>LP001051</td>\n",
       "      <td>Male</td>\n",
       "      <td>No</td>\n",
       "      <td>0</td>\n",
       "      <td>Not Graduate</td>\n",
       "      <td>No</td>\n",
       "      <td>3276</td>\n",
       "      <td>0</td>\n",
       "      <td>78.0</td>\n",
       "      <td>360.0</td>\n",
       "      <td>1.0</td>\n",
       "      <td>Urban</td>\n",
       "    </tr>\n",
       "  </tbody>\n",
       "</table>\n",
       "</div>"
      ],
      "text/plain": [
       "    Loan_ID Gender Married Dependents     Education Self_Employed  \\\n",
       "0  LP001015   Male     Yes          0      Graduate            No   \n",
       "1  LP001022   Male     Yes          1      Graduate            No   \n",
       "2  LP001031   Male     Yes          2      Graduate            No   \n",
       "3  LP001035   Male     Yes          2      Graduate            No   \n",
       "4  LP001051   Male      No          0  Not Graduate            No   \n",
       "\n",
       "   ApplicantIncome  CoapplicantIncome  LoanAmount  Loan_Amount_Term  \\\n",
       "0             5720                  0       110.0             360.0   \n",
       "1             3076               1500       126.0             360.0   \n",
       "2             5000               1800       208.0             360.0   \n",
       "3             2340               2546       100.0             360.0   \n",
       "4             3276                  0        78.0             360.0   \n",
       "\n",
       "   Credit_History Property_Area  \n",
       "0             1.0         Urban  \n",
       "1             1.0         Urban  \n",
       "2             1.0         Urban  \n",
       "3             NaN         Urban  \n",
       "4             1.0         Urban  "
      ]
     },
     "execution_count": 65,
     "metadata": {},
     "output_type": "execute_result"
    }
   ],
   "source": [
    "test.head()"
   ]
  },
  {
   "cell_type": "code",
   "execution_count": 66,
   "id": "43144985",
   "metadata": {},
   "outputs": [
    {
     "data": {
      "text/plain": [
       "((614, 13), (367, 12))"
      ]
     },
     "execution_count": 66,
     "metadata": {},
     "output_type": "execute_result"
    }
   ],
   "source": [
    "train.shape,test.shape"
   ]
  },
  {
   "cell_type": "code",
   "execution_count": 67,
   "id": "96c6ee55",
   "metadata": {},
   "outputs": [
    {
     "data": {
      "text/html": [
       "<div>\n",
       "<style scoped>\n",
       "    .dataframe tbody tr th:only-of-type {\n",
       "        vertical-align: middle;\n",
       "    }\n",
       "\n",
       "    .dataframe tbody tr th {\n",
       "        vertical-align: top;\n",
       "    }\n",
       "\n",
       "    .dataframe thead th {\n",
       "        text-align: right;\n",
       "    }\n",
       "</style>\n",
       "<table border=\"1\" class=\"dataframe\">\n",
       "  <thead>\n",
       "    <tr style=\"text-align: right;\">\n",
       "      <th></th>\n",
       "      <th>Loan_ID</th>\n",
       "      <th>Gender</th>\n",
       "      <th>Married</th>\n",
       "      <th>Dependents</th>\n",
       "      <th>Education</th>\n",
       "      <th>Self_Employed</th>\n",
       "      <th>ApplicantIncome</th>\n",
       "      <th>CoapplicantIncome</th>\n",
       "      <th>LoanAmount</th>\n",
       "      <th>Loan_Amount_Term</th>\n",
       "      <th>Credit_History</th>\n",
       "      <th>Property_Area</th>\n",
       "      <th>Loan_Status</th>\n",
       "    </tr>\n",
       "  </thead>\n",
       "  <tbody>\n",
       "    <tr>\n",
       "      <th>0</th>\n",
       "      <td>LP001002</td>\n",
       "      <td>Male</td>\n",
       "      <td>No</td>\n",
       "      <td>0</td>\n",
       "      <td>Graduate</td>\n",
       "      <td>No</td>\n",
       "      <td>5849</td>\n",
       "      <td>0.0</td>\n",
       "      <td>NaN</td>\n",
       "      <td>360.0</td>\n",
       "      <td>1.0</td>\n",
       "      <td>Urban</td>\n",
       "      <td>Y</td>\n",
       "    </tr>\n",
       "    <tr>\n",
       "      <th>1</th>\n",
       "      <td>LP001003</td>\n",
       "      <td>Male</td>\n",
       "      <td>Yes</td>\n",
       "      <td>1</td>\n",
       "      <td>Graduate</td>\n",
       "      <td>No</td>\n",
       "      <td>4583</td>\n",
       "      <td>1508.0</td>\n",
       "      <td>128.0</td>\n",
       "      <td>360.0</td>\n",
       "      <td>1.0</td>\n",
       "      <td>Rural</td>\n",
       "      <td>N</td>\n",
       "    </tr>\n",
       "    <tr>\n",
       "      <th>2</th>\n",
       "      <td>LP001005</td>\n",
       "      <td>Male</td>\n",
       "      <td>Yes</td>\n",
       "      <td>0</td>\n",
       "      <td>Graduate</td>\n",
       "      <td>Yes</td>\n",
       "      <td>3000</td>\n",
       "      <td>0.0</td>\n",
       "      <td>66.0</td>\n",
       "      <td>360.0</td>\n",
       "      <td>1.0</td>\n",
       "      <td>Urban</td>\n",
       "      <td>Y</td>\n",
       "    </tr>\n",
       "    <tr>\n",
       "      <th>3</th>\n",
       "      <td>LP001006</td>\n",
       "      <td>Male</td>\n",
       "      <td>Yes</td>\n",
       "      <td>0</td>\n",
       "      <td>Not Graduate</td>\n",
       "      <td>No</td>\n",
       "      <td>2583</td>\n",
       "      <td>2358.0</td>\n",
       "      <td>120.0</td>\n",
       "      <td>360.0</td>\n",
       "      <td>1.0</td>\n",
       "      <td>Urban</td>\n",
       "      <td>Y</td>\n",
       "    </tr>\n",
       "    <tr>\n",
       "      <th>4</th>\n",
       "      <td>LP001008</td>\n",
       "      <td>Male</td>\n",
       "      <td>No</td>\n",
       "      <td>0</td>\n",
       "      <td>Graduate</td>\n",
       "      <td>No</td>\n",
       "      <td>6000</td>\n",
       "      <td>0.0</td>\n",
       "      <td>141.0</td>\n",
       "      <td>360.0</td>\n",
       "      <td>1.0</td>\n",
       "      <td>Urban</td>\n",
       "      <td>Y</td>\n",
       "    </tr>\n",
       "  </tbody>\n",
       "</table>\n",
       "</div>"
      ],
      "text/plain": [
       "    Loan_ID Gender Married Dependents     Education Self_Employed  \\\n",
       "0  LP001002   Male      No          0      Graduate            No   \n",
       "1  LP001003   Male     Yes          1      Graduate            No   \n",
       "2  LP001005   Male     Yes          0      Graduate           Yes   \n",
       "3  LP001006   Male     Yes          0  Not Graduate            No   \n",
       "4  LP001008   Male      No          0      Graduate            No   \n",
       "\n",
       "   ApplicantIncome  CoapplicantIncome  LoanAmount  Loan_Amount_Term  \\\n",
       "0             5849                0.0         NaN             360.0   \n",
       "1             4583             1508.0       128.0             360.0   \n",
       "2             3000                0.0        66.0             360.0   \n",
       "3             2583             2358.0       120.0             360.0   \n",
       "4             6000                0.0       141.0             360.0   \n",
       "\n",
       "   Credit_History Property_Area Loan_Status  \n",
       "0             1.0         Urban           Y  \n",
       "1             1.0         Rural           N  \n",
       "2             1.0         Urban           Y  \n",
       "3             1.0         Urban           Y  \n",
       "4             1.0         Urban           Y  "
      ]
     },
     "execution_count": 67,
     "metadata": {},
     "output_type": "execute_result"
    }
   ],
   "source": [
    "# Combining the dataset\n",
    "combined=pd.concat([train,test],ignore_index=True)\n",
    "combined.head()"
   ]
  },
  {
   "cell_type": "code",
   "execution_count": 68,
   "id": "0b4d6334",
   "metadata": {},
   "outputs": [
    {
     "data": {
      "text/plain": [
       "(981, 13)"
      ]
     },
     "execution_count": 68,
     "metadata": {},
     "output_type": "execute_result"
    }
   ],
   "source": [
    "combined.shape"
   ]
  },
  {
   "cell_type": "code",
   "execution_count": 69,
   "id": "c8aec15d",
   "metadata": {},
   "outputs": [
    {
     "name": "stdout",
     "output_type": "stream",
     "text": [
      "<class 'pandas.core.frame.DataFrame'>\n",
      "RangeIndex: 981 entries, 0 to 980\n",
      "Data columns (total 13 columns):\n",
      " #   Column             Non-Null Count  Dtype  \n",
      "---  ------             --------------  -----  \n",
      " 0   Loan_ID            981 non-null    object \n",
      " 1   Gender             957 non-null    object \n",
      " 2   Married            978 non-null    object \n",
      " 3   Dependents         956 non-null    object \n",
      " 4   Education          981 non-null    object \n",
      " 5   Self_Employed      926 non-null    object \n",
      " 6   ApplicantIncome    981 non-null    int64  \n",
      " 7   CoapplicantIncome  981 non-null    float64\n",
      " 8   LoanAmount         954 non-null    float64\n",
      " 9   Loan_Amount_Term   961 non-null    float64\n",
      " 10  Credit_History     902 non-null    float64\n",
      " 11  Property_Area      981 non-null    object \n",
      " 12  Loan_Status        614 non-null    object \n",
      "dtypes: float64(4), int64(1), object(8)\n",
      "memory usage: 99.8+ KB\n"
     ]
    }
   ],
   "source": [
    "combined.info()"
   ]
  },
  {
   "cell_type": "code",
   "execution_count": 70,
   "id": "8f9bc35e",
   "metadata": {},
   "outputs": [],
   "source": [
    "# changing to correct dtypes\n",
    "combined.Credit_History=combined.Credit_History.astype('O')"
   ]
  },
  {
   "cell_type": "code",
   "execution_count": 71,
   "id": "4993f380",
   "metadata": {},
   "outputs": [
    {
     "data": {
      "text/html": [
       "<div>\n",
       "<style scoped>\n",
       "    .dataframe tbody tr th:only-of-type {\n",
       "        vertical-align: middle;\n",
       "    }\n",
       "\n",
       "    .dataframe tbody tr th {\n",
       "        vertical-align: top;\n",
       "    }\n",
       "\n",
       "    .dataframe thead th {\n",
       "        text-align: right;\n",
       "    }\n",
       "</style>\n",
       "<table border=\"1\" class=\"dataframe\">\n",
       "  <thead>\n",
       "    <tr style=\"text-align: right;\">\n",
       "      <th></th>\n",
       "      <th>ApplicantIncome</th>\n",
       "      <th>CoapplicantIncome</th>\n",
       "      <th>LoanAmount</th>\n",
       "      <th>Loan_Amount_Term</th>\n",
       "    </tr>\n",
       "  </thead>\n",
       "  <tbody>\n",
       "    <tr>\n",
       "      <th>count</th>\n",
       "      <td>981.000000</td>\n",
       "      <td>981.000000</td>\n",
       "      <td>954.000000</td>\n",
       "      <td>961.000000</td>\n",
       "    </tr>\n",
       "    <tr>\n",
       "      <th>mean</th>\n",
       "      <td>5179.795107</td>\n",
       "      <td>1601.916330</td>\n",
       "      <td>142.511530</td>\n",
       "      <td>342.201873</td>\n",
       "    </tr>\n",
       "    <tr>\n",
       "      <th>std</th>\n",
       "      <td>5695.104533</td>\n",
       "      <td>2718.772806</td>\n",
       "      <td>77.421743</td>\n",
       "      <td>65.100602</td>\n",
       "    </tr>\n",
       "    <tr>\n",
       "      <th>min</th>\n",
       "      <td>0.000000</td>\n",
       "      <td>0.000000</td>\n",
       "      <td>9.000000</td>\n",
       "      <td>6.000000</td>\n",
       "    </tr>\n",
       "    <tr>\n",
       "      <th>25%</th>\n",
       "      <td>2875.000000</td>\n",
       "      <td>0.000000</td>\n",
       "      <td>100.000000</td>\n",
       "      <td>360.000000</td>\n",
       "    </tr>\n",
       "    <tr>\n",
       "      <th>50%</th>\n",
       "      <td>3800.000000</td>\n",
       "      <td>1110.000000</td>\n",
       "      <td>126.000000</td>\n",
       "      <td>360.000000</td>\n",
       "    </tr>\n",
       "    <tr>\n",
       "      <th>75%</th>\n",
       "      <td>5516.000000</td>\n",
       "      <td>2365.000000</td>\n",
       "      <td>162.000000</td>\n",
       "      <td>360.000000</td>\n",
       "    </tr>\n",
       "    <tr>\n",
       "      <th>max</th>\n",
       "      <td>81000.000000</td>\n",
       "      <td>41667.000000</td>\n",
       "      <td>700.000000</td>\n",
       "      <td>480.000000</td>\n",
       "    </tr>\n",
       "  </tbody>\n",
       "</table>\n",
       "</div>"
      ],
      "text/plain": [
       "       ApplicantIncome  CoapplicantIncome  LoanAmount  Loan_Amount_Term\n",
       "count       981.000000         981.000000  954.000000        961.000000\n",
       "mean       5179.795107        1601.916330  142.511530        342.201873\n",
       "std        5695.104533        2718.772806   77.421743         65.100602\n",
       "min           0.000000           0.000000    9.000000          6.000000\n",
       "25%        2875.000000           0.000000  100.000000        360.000000\n",
       "50%        3800.000000        1110.000000  126.000000        360.000000\n",
       "75%        5516.000000        2365.000000  162.000000        360.000000\n",
       "max       81000.000000       41667.000000  700.000000        480.000000"
      ]
     },
     "execution_count": 71,
     "metadata": {},
     "output_type": "execute_result"
    }
   ],
   "source": [
    "combined.describe()"
   ]
  },
  {
   "cell_type": "code",
   "execution_count": 72,
   "id": "4a664253",
   "metadata": {},
   "outputs": [
    {
     "data": {
      "text/html": [
       "<div>\n",
       "<style scoped>\n",
       "    .dataframe tbody tr th:only-of-type {\n",
       "        vertical-align: middle;\n",
       "    }\n",
       "\n",
       "    .dataframe tbody tr th {\n",
       "        vertical-align: top;\n",
       "    }\n",
       "\n",
       "    .dataframe thead th {\n",
       "        text-align: right;\n",
       "    }\n",
       "</style>\n",
       "<table border=\"1\" class=\"dataframe\">\n",
       "  <thead>\n",
       "    <tr style=\"text-align: right;\">\n",
       "      <th></th>\n",
       "      <th>count</th>\n",
       "      <th>unique</th>\n",
       "      <th>top</th>\n",
       "      <th>freq</th>\n",
       "    </tr>\n",
       "  </thead>\n",
       "  <tbody>\n",
       "    <tr>\n",
       "      <th>Loan_ID</th>\n",
       "      <td>981</td>\n",
       "      <td>981</td>\n",
       "      <td>LP001002</td>\n",
       "      <td>1</td>\n",
       "    </tr>\n",
       "    <tr>\n",
       "      <th>Gender</th>\n",
       "      <td>957</td>\n",
       "      <td>2</td>\n",
       "      <td>Male</td>\n",
       "      <td>775</td>\n",
       "    </tr>\n",
       "    <tr>\n",
       "      <th>Married</th>\n",
       "      <td>978</td>\n",
       "      <td>2</td>\n",
       "      <td>Yes</td>\n",
       "      <td>631</td>\n",
       "    </tr>\n",
       "    <tr>\n",
       "      <th>Dependents</th>\n",
       "      <td>956</td>\n",
       "      <td>4</td>\n",
       "      <td>0</td>\n",
       "      <td>545</td>\n",
       "    </tr>\n",
       "    <tr>\n",
       "      <th>Education</th>\n",
       "      <td>981</td>\n",
       "      <td>2</td>\n",
       "      <td>Graduate</td>\n",
       "      <td>763</td>\n",
       "    </tr>\n",
       "    <tr>\n",
       "      <th>Self_Employed</th>\n",
       "      <td>926</td>\n",
       "      <td>2</td>\n",
       "      <td>No</td>\n",
       "      <td>807</td>\n",
       "    </tr>\n",
       "    <tr>\n",
       "      <th>Credit_History</th>\n",
       "      <td>902.0</td>\n",
       "      <td>2.0</td>\n",
       "      <td>1.0</td>\n",
       "      <td>754.0</td>\n",
       "    </tr>\n",
       "    <tr>\n",
       "      <th>Property_Area</th>\n",
       "      <td>981</td>\n",
       "      <td>3</td>\n",
       "      <td>Semiurban</td>\n",
       "      <td>349</td>\n",
       "    </tr>\n",
       "    <tr>\n",
       "      <th>Loan_Status</th>\n",
       "      <td>614</td>\n",
       "      <td>2</td>\n",
       "      <td>Y</td>\n",
       "      <td>422</td>\n",
       "    </tr>\n",
       "  </tbody>\n",
       "</table>\n",
       "</div>"
      ],
      "text/plain": [
       "                count unique        top   freq\n",
       "Loan_ID           981    981   LP001002      1\n",
       "Gender            957      2       Male    775\n",
       "Married           978      2        Yes    631\n",
       "Dependents        956      4          0    545\n",
       "Education         981      2   Graduate    763\n",
       "Self_Employed     926      2         No    807\n",
       "Credit_History  902.0    2.0        1.0  754.0\n",
       "Property_Area     981      3  Semiurban    349\n",
       "Loan_Status       614      2          Y    422"
      ]
     },
     "execution_count": 72,
     "metadata": {},
     "output_type": "execute_result"
    }
   ],
   "source": [
    "combined.describe(include=object).T"
   ]
  },
  {
   "cell_type": "markdown",
   "id": "15f032e9",
   "metadata": {},
   "source": [
    "# Univariate Analysis"
   ]
  },
  {
   "cell_type": "code",
   "execution_count": 73,
   "id": "8a21f217",
   "metadata": {},
   "outputs": [
    {
     "data": {
      "text/plain": [
       "Index(['ApplicantIncome', 'CoapplicantIncome', 'LoanAmount',\n",
       "       'Loan_Amount_Term'],\n",
       "      dtype='object')"
      ]
     },
     "execution_count": 73,
     "metadata": {},
     "output_type": "execute_result"
    }
   ],
   "source": [
    "# Numerical columns\n",
    "num_cols=combined.select_dtypes(include=np.number).columns\n",
    "num_cols"
   ]
  },
  {
   "cell_type": "code",
   "execution_count": 74,
   "id": "caa0dc12",
   "metadata": {},
   "outputs": [
    {
     "data": {
      "image/png": "[encoded data removed]",
      "text/plain": [
       "<Figure size 1080x504 with 4 Axes>"
      ]
     },
     "metadata": {
      "needs_background": "light"
     },
     "output_type": "display_data"
    }
   ],
   "source": [
    "# Numerical columns\n",
    "it=1\n",
    "for i in num_cols:\n",
    "    plt.subplot(2,2,it)\n",
    "    sns.distplot(combined.loc[:,i])\n",
    "    it+=1\n",
    "plt.tight_layout()\n",
    "plt.show()"
   ]
  },
  {
   "cell_type": "code",
   "execution_count": 75,
   "id": "20138f98",
   "metadata": {},
   "outputs": [
    {
     "data": {
      "text/plain": [
       "Index(['Loan_ID', 'Gender', 'Married', 'Dependents', 'Education',\n",
       "       'Self_Employed', 'Credit_History', 'Property_Area', 'Loan_Status'],\n",
       "      dtype='object')"
      ]
     },
     "execution_count": 75,
     "metadata": {},
     "output_type": "execute_result"
    }
   ],
   "source": [
    "# Categorical columns\n",
    "cat_cols=combined.select_dtypes(exclude=np.number).columns\n",
    "cat_cols"
   ]
  },
  {
   "cell_type": "code",
   "execution_count": 76,
   "id": "281946fb",
   "metadata": {},
   "outputs": [
    {
     "data": {
      "image/png": "[encoded data removed]",
      "text/plain": [
       "<Figure size 1080x504 with 8 Axes>"
      ]
     },
     "metadata": {
      "needs_background": "light"
     },
     "output_type": "display_data"
    }
   ],
   "source": [
    "# categorical columns\n",
    "cat_cols=['Gender', 'Married', 'Dependents', 'Education',\n",
    "       'Self_Employed', 'Property_Area', 'Loan_Status','Credit_History']\n",
    "it=1\n",
    "for i in cat_cols:\n",
    "    plt.subplot(4,2,it)\n",
    "    sns.countplot(combined.loc[:,i])\n",
    "    it+=1\n",
    "plt.tight_layout()\n",
    "plt.show()"
   ]
  },
  {
   "cell_type": "markdown",
   "id": "7312eba4",
   "metadata": {},
   "source": [
    "# Bivariate analysis"
   ]
  },
  {
   "cell_type": "code",
   "execution_count": 77,
   "id": "77ab89b0",
   "metadata": {},
   "outputs": [
    {
     "data": {
      "image/png": "[encoded data removed]",
      "text/plain": [
       "<Figure size 1080x504 with 4 Axes>"
      ]
     },
     "metadata": {
      "needs_background": "light"
     },
     "output_type": "display_data"
    }
   ],
   "source": [
    "# Num vs cat\n",
    "it=1\n",
    "for i in num_cols:\n",
    "    plt.subplot(2,2,it)\n",
    "    sns.barplot(combined.Loan_Status,combined.loc[:,i])\n",
    "    it+=1\n",
    "plt.tight_layout()\n",
    "plt.show()"
   ]
  },
  {
   "cell_type": "code",
   "execution_count": 78,
   "id": "441cd90b",
   "metadata": {},
   "outputs": [
    {
     "data": {
      "image/png": "[encoded data removed]",
      "text/plain": [
       "<Figure size 1080x504 with 4 Axes>"
      ]
     },
     "metadata": {
      "needs_background": "light"
     },
     "output_type": "display_data"
    }
   ],
   "source": [
    "# Num vs Cat\n",
    "it=1\n",
    "for i in num_cols:\n",
    "    plt.subplot(2,2,it)\n",
    "    sns.boxplot(combined.Loan_Status,combined.loc[:,i])\n",
    "    it+=1\n",
    "plt.tight_layout()\n",
    "plt.show()"
   ]
  },
  {
   "cell_type": "code",
   "execution_count": 79,
   "id": "78f81769",
   "metadata": {},
   "outputs": [
    {
     "data": {
      "image/png": "[encoded data removed]",
      "text/plain": [
       "<Figure size 1080x504 with 8 Axes>"
      ]
     },
     "metadata": {
      "needs_background": "light"
     },
     "output_type": "display_data"
    }
   ],
   "source": [
    "# cat vs cat\n",
    "it=1\n",
    "for i in cat_cols:\n",
    "    plt.subplot(4,2,it)\n",
    "    sns.countplot(combined.loc[:,i],hue=combined.Loan_Status)\n",
    "    it+=1\n",
    "plt.tight_layout()\n",
    "plt.show()"
   ]
  },
  {
   "cell_type": "markdown",
   "id": "e798940a",
   "metadata": {},
   "source": [
    "## Multivariate analysis"
   ]
  },
  {
   "cell_type": "code",
   "execution_count": 80,
   "id": "02cd542d",
   "metadata": {},
   "outputs": [
    {
     "data": {
      "text/plain": [
       "<seaborn.axisgrid.PairGrid at 0x19f093c3640>"
      ]
     },
     "execution_count": 80,
     "metadata": {},
     "output_type": "execute_result"
    },
    {
     "data": {
      "image/png": "[encoded data removed]",
      "text/plain": [
       "<Figure size 900x900 with 30 Axes>"
      ]
     },
     "metadata": {
      "needs_background": "light"
     },
     "output_type": "display_data"
    }
   ],
   "source": [
    "sns.pairplot(combined)"
   ]
  },
  {
   "cell_type": "code",
   "execution_count": 81,
   "id": "59e55052",
   "metadata": {},
   "outputs": [
    {
     "data": {
      "text/plain": [
       "<AxesSubplot:>"
      ]
     },
     "execution_count": 81,
     "metadata": {},
     "output_type": "execute_result"
    },
    {
     "data": {
      "image/png": "[encoded data removed]",
      "text/plain": [
       "<Figure size 1080x504 with 2 Axes>"
      ]
     },
     "metadata": {
      "needs_background": "light"
     },
     "output_type": "display_data"
    }
   ],
   "source": [
    "sns.heatmap(combined.corr(),annot=True)"
   ]
  },
  {
   "cell_type": "markdown",
   "id": "3df07099",
   "metadata": {},
   "source": [
    "# Missing value"
   ]
  },
  {
   "cell_type": "code",
   "execution_count": 82,
   "id": "86d5e45e",
   "metadata": {},
   "outputs": [
    {
     "data": {
      "text/plain": [
       "Gender               24\n",
       "Married               3\n",
       "Dependents           25\n",
       "Self_Employed        55\n",
       "LoanAmount           27\n",
       "Loan_Amount_Term     20\n",
       "Credit_History       79\n",
       "Loan_Status         367\n",
       "dtype: int64"
      ]
     },
     "execution_count": 82,
     "metadata": {},
     "output_type": "execute_result"
    }
   ],
   "source": [
    "combined.isnull().sum()[combined.isnull().sum()!=0]"
   ]
  },
  {
   "cell_type": "code",
   "execution_count": 83,
   "id": "1fdaa298",
   "metadata": {},
   "outputs": [
    {
     "data": {
      "text/plain": [
       "Gender              0.024465\n",
       "Married             0.003058\n",
       "Dependents          0.025484\n",
       "Self_Employed       0.056065\n",
       "LoanAmount          0.027523\n",
       "Loan_Amount_Term    0.020387\n",
       "Credit_History      0.080530\n",
       "Loan_Status         0.374108\n",
       "dtype: float64"
      ]
     },
     "execution_count": 83,
     "metadata": {},
     "output_type": "execute_result"
    }
   ],
   "source": [
    "(combined.isnull().sum()/len(combined))[(combined.isnull().sum()/len(combined))!=0]"
   ]
  },
  {
   "cell_type": "code",
   "execution_count": 84,
   "id": "ba6092bc",
   "metadata": {},
   "outputs": [
    {
     "data": {
      "text/html": [
       "<div>\n",
       "<style scoped>\n",
       "    .dataframe tbody tr th:only-of-type {\n",
       "        vertical-align: middle;\n",
       "    }\n",
       "\n",
       "    .dataframe tbody tr th {\n",
       "        vertical-align: top;\n",
       "    }\n",
       "\n",
       "    .dataframe thead th {\n",
       "        text-align: right;\n",
       "    }\n",
       "</style>\n",
       "<table border=\"1\" class=\"dataframe\">\n",
       "  <thead>\n",
       "    <tr style=\"text-align: right;\">\n",
       "      <th></th>\n",
       "      <th>Loan_ID</th>\n",
       "      <th>Gender</th>\n",
       "      <th>Married</th>\n",
       "      <th>Dependents</th>\n",
       "      <th>Education</th>\n",
       "      <th>Self_Employed</th>\n",
       "      <th>ApplicantIncome</th>\n",
       "      <th>CoapplicantIncome</th>\n",
       "      <th>LoanAmount</th>\n",
       "      <th>Loan_Amount_Term</th>\n",
       "      <th>Credit_History</th>\n",
       "      <th>Property_Area</th>\n",
       "      <th>Loan_Status</th>\n",
       "    </tr>\n",
       "  </thead>\n",
       "  <tbody>\n",
       "  </tbody>\n",
       "</table>\n",
       "</div>"
      ],
      "text/plain": [
       "Empty DataFrame\n",
       "Columns: [Loan_ID, Gender, Married, Dependents, Education, Self_Employed, ApplicantIncome, CoapplicantIncome, LoanAmount, Loan_Amount_Term, Credit_History, Property_Area, Loan_Status]\n",
       "Index: []"
      ]
     },
     "execution_count": 84,
     "metadata": {},
     "output_type": "execute_result"
    }
   ],
   "source": [
    "# No dupicated rows\n",
    "combined[combined.duplicated()]"
   ]
  },
  {
   "cell_type": "code",
   "execution_count": 85,
   "id": "0bf6aec8",
   "metadata": {},
   "outputs": [],
   "source": [
    "# Gender imputing with ffill\n",
    "combined.Gender=combined.Gender.ffill()"
   ]
  },
  {
   "cell_type": "code",
   "execution_count": 86,
   "id": "877b79ba",
   "metadata": {},
   "outputs": [],
   "source": [
    "# Married imputing with mode\n",
    "combined.Married=combined.Married.fillna(combined.Married.mode()[0])"
   ]
  },
  {
   "cell_type": "code",
   "execution_count": 87,
   "id": "73df0b4a",
   "metadata": {},
   "outputs": [],
   "source": [
    "# Dependents imputing \n",
    "combined.loc[(combined.Married=='Yes')&(combined.Dependents.isnull()),'Dependents']='2'\n",
    "combined.loc[(combined.Married=='No')&(combined.Dependents.isnull()),'Dependents']='0'"
   ]
  },
  {
   "cell_type": "code",
   "execution_count": 88,
   "id": "c180fcb5",
   "metadata": {},
   "outputs": [],
   "source": [
    "# Self_Employed imputing with mode\n",
    "combined.Self_Employed=combined.Self_Employed.fillna(combined.Self_Employed.mode()[0])"
   ]
  },
  {
   "cell_type": "code",
   "execution_count": 89,
   "id": "8a8347ad",
   "metadata": {},
   "outputs": [],
   "source": [
    "# LoanAmount imputing \n",
    "combined.loc[(combined.Education=='Graduate')&(combined.LoanAmount.isnull()),'LoanAmount']=130.5\n",
    "combined.loc[(combined.Education=='Not Graduate')&(combined.LoanAmount.isnull()),'LoanAmount']=118.0"
   ]
  },
  {
   "cell_type": "code",
   "execution_count": 90,
   "id": "662a9913",
   "metadata": {},
   "outputs": [],
   "source": [
    "# Loan_Amount_Term imputing with mode\n",
    "combined.Loan_Amount_Term=combined.Loan_Amount_Term.fillna(combined.Loan_Amount_Term.mode()[0])"
   ]
  },
  {
   "cell_type": "code",
   "execution_count": 91,
   "id": "3efc864a",
   "metadata": {},
   "outputs": [],
   "source": [
    "# Credit_History imputing \n",
    "combined.loc[(combined.Loan_Status==0)&(combined.Credit_History.isnull()),'Credit_History']=0.0\n",
    "combined.loc[(combined.Loan_Status==1)&(combined.Credit_History.isnull()),'Credit_History']=1.0\n",
    "combined.loc[(combined.Credit_History.isnull()),'Credit_History']=0.0\n"
   ]
  },
  {
   "cell_type": "code",
   "execution_count": 92,
   "id": "b7eef8e1",
   "metadata": {},
   "outputs": [
    {
     "data": {
      "text/plain": [
       "Loan_ID                0\n",
       "Gender                 0\n",
       "Married                0\n",
       "Dependents             0\n",
       "Education              0\n",
       "Self_Employed          0\n",
       "ApplicantIncome        0\n",
       "CoapplicantIncome      0\n",
       "LoanAmount             0\n",
       "Loan_Amount_Term       0\n",
       "Credit_History         0\n",
       "Property_Area          0\n",
       "Loan_Status          367\n",
       "dtype: int64"
      ]
     },
     "execution_count": 92,
     "metadata": {},
     "output_type": "execute_result"
    }
   ],
   "source": [
    "combined.isnull().sum()"
   ]
  },
  {
   "cell_type": "markdown",
   "id": "9ea96b88",
   "metadata": {},
   "source": [
    "# Outliers"
   ]
  },
  {
   "cell_type": "code",
   "execution_count": 93,
   "id": "f59851be",
   "metadata": {},
   "outputs": [
    {
     "data": {
      "image/png": "[encoded data removed]",
      "text/plain": [
       "<Figure size 1080x504 with 4 Axes>"
      ]
     },
     "metadata": {
      "needs_background": "light"
     },
     "output_type": "display_data"
    }
   ],
   "source": [
    "it=1\n",
    "for i in num_cols:\n",
    "    plt.subplot(2,2,it)\n",
    "    sns.boxplot(combined.loc[:,i])\n",
    "    it+=1\n",
    "plt.tight_layout()\n",
    "plt.show()"
   ]
  },
  {
   "cell_type": "markdown",
   "id": "b27e5a68",
   "metadata": {},
   "source": [
    "## Feature Engineering"
   ]
  },
  {
   "cell_type": "code",
   "execution_count": 94,
   "id": "285b387e",
   "metadata": {},
   "outputs": [
    {
     "data": {
      "text/plain": [
       "Index(['Loan_ID', 'Gender', 'Married', 'Dependents', 'Education',\n",
       "       'Self_Employed', 'ApplicantIncome', 'CoapplicantIncome', 'LoanAmount',\n",
       "       'Loan_Amount_Term', 'Credit_History', 'Property_Area', 'Loan_Status'],\n",
       "      dtype='object')"
      ]
     },
     "execution_count": 94,
     "metadata": {},
     "output_type": "execute_result"
    }
   ],
   "source": [
    "combined.columns"
   ]
  },
  {
   "cell_type": "code",
   "execution_count": 95,
   "id": "4c347f8e",
   "metadata": {},
   "outputs": [],
   "source": [
    "# Creating total_income column\n",
    "combined['Total_income']=combined['ApplicantIncome']+combined['CoapplicantIncome']"
   ]
  },
  {
   "cell_type": "code",
   "execution_count": 96,
   "id": "9a0828ad",
   "metadata": {},
   "outputs": [],
   "source": [
    "# Creating total_income column\n",
    "combined['Credit_History_Income_Sum']=combined.groupby('Credit_History')['Total_income'].transform('sum')"
   ]
  },
  {
   "cell_type": "markdown",
   "id": "73320188",
   "metadata": {},
   "source": [
    "# splitting the combined data"
   ]
  },
  {
   "cell_type": "code",
   "execution_count": 97,
   "id": "e59ff43d",
   "metadata": {},
   "outputs": [
    {
     "data": {
      "text/plain": [
       "((614, 13), (367, 12))"
      ]
     },
     "execution_count": 97,
     "metadata": {},
     "output_type": "execute_result"
    }
   ],
   "source": [
    "train.shape,test.shape"
   ]
  },
  {
   "cell_type": "code",
   "execution_count": 98,
   "id": "1f49ff6f",
   "metadata": {},
   "outputs": [],
   "source": [
    "newtrain=combined.iloc[0:train.shape[0]]\n",
    "newtest=combined.iloc[train.shape[0]:]"
   ]
  },
  {
   "cell_type": "code",
   "execution_count": 99,
   "id": "c6f714c3",
   "metadata": {},
   "outputs": [
    {
     "data": {
      "text/plain": [
       "((614, 15), (367, 15))"
      ]
     },
     "execution_count": 99,
     "metadata": {},
     "output_type": "execute_result"
    }
   ],
   "source": [
    "newtrain.shape,newtest.shape"
   ]
  },
  {
   "cell_type": "code",
   "execution_count": 100,
   "id": "c378ed1d",
   "metadata": {},
   "outputs": [],
   "source": [
    "# Dropping the target column from the test\n",
    "newtrain.drop('Loan_ID',axis=1,inplace=True)\n",
    "newtest.drop(['Loan_ID','Loan_Status'],axis=1,inplace=True)"
   ]
  },
  {
   "cell_type": "code",
   "execution_count": 101,
   "id": "d64350ef",
   "metadata": {},
   "outputs": [],
   "source": [
    "# copying\n",
    "dftrain=newtrain.copy(deep=True)\n",
    "dftest=newtest.copy(deep=True)"
   ]
  },
  {
   "cell_type": "markdown",
   "id": "a3987f38",
   "metadata": {},
   "source": [
    "# Stastical test"
   ]
  },
  {
   "cell_type": "code",
   "execution_count": 40,
   "id": "b11ac956",
   "metadata": {},
   "outputs": [
    {
     "data": {
      "text/html": [
       "<div>\n",
       "<style scoped>\n",
       "    .dataframe tbody tr th:only-of-type {\n",
       "        vertical-align: middle;\n",
       "    }\n",
       "\n",
       "    .dataframe tbody tr th {\n",
       "        vertical-align: top;\n",
       "    }\n",
       "\n",
       "    .dataframe thead th {\n",
       "        text-align: right;\n",
       "    }\n",
       "</style>\n",
       "<table border=\"1\" class=\"dataframe\">\n",
       "  <thead>\n",
       "    <tr style=\"text-align: right;\">\n",
       "      <th></th>\n",
       "      <th>Gender</th>\n",
       "      <th>Married</th>\n",
       "      <th>Dependents</th>\n",
       "      <th>Education</th>\n",
       "      <th>Self_Employed</th>\n",
       "      <th>ApplicantIncome</th>\n",
       "      <th>CoapplicantIncome</th>\n",
       "      <th>LoanAmount</th>\n",
       "      <th>Loan_Amount_Term</th>\n",
       "      <th>Credit_History</th>\n",
       "      <th>Property_Area</th>\n",
       "      <th>Loan_Status</th>\n",
       "      <th>Total_income</th>\n",
       "      <th>Credit_History_Income_Sum</th>\n",
       "    </tr>\n",
       "  </thead>\n",
       "  <tbody>\n",
       "    <tr>\n",
       "      <th>0</th>\n",
       "      <td>Male</td>\n",
       "      <td>No</td>\n",
       "      <td>0</td>\n",
       "      <td>Graduate</td>\n",
       "      <td>No</td>\n",
       "      <td>5849</td>\n",
       "      <td>0.0</td>\n",
       "      <td>130.5</td>\n",
       "      <td>360.0</td>\n",
       "      <td>1.0</td>\n",
       "      <td>Urban</td>\n",
       "      <td>Y</td>\n",
       "      <td>5849.0</td>\n",
       "      <td>5.105693e+06</td>\n",
       "    </tr>\n",
       "    <tr>\n",
       "      <th>1</th>\n",
       "      <td>Male</td>\n",
       "      <td>Yes</td>\n",
       "      <td>1</td>\n",
       "      <td>Graduate</td>\n",
       "      <td>No</td>\n",
       "      <td>4583</td>\n",
       "      <td>1508.0</td>\n",
       "      <td>128.0</td>\n",
       "      <td>360.0</td>\n",
       "      <td>1.0</td>\n",
       "      <td>Rural</td>\n",
       "      <td>N</td>\n",
       "      <td>6091.0</td>\n",
       "      <td>5.105693e+06</td>\n",
       "    </tr>\n",
       "  </tbody>\n",
       "</table>\n",
       "</div>"
      ],
      "text/plain": [
       "  Gender Married Dependents Education Self_Employed  ApplicantIncome  \\\n",
       "0   Male      No          0  Graduate            No             5849   \n",
       "1   Male     Yes          1  Graduate            No             4583   \n",
       "\n",
       "   CoapplicantIncome  LoanAmount  Loan_Amount_Term Credit_History  \\\n",
       "0                0.0       130.5             360.0            1.0   \n",
       "1             1508.0       128.0             360.0            1.0   \n",
       "\n",
       "  Property_Area Loan_Status  Total_income  Credit_History_Income_Sum  \n",
       "0         Urban           Y        5849.0               5.105693e+06  \n",
       "1         Rural           N        6091.0               5.105693e+06  "
      ]
     },
     "execution_count": 40,
     "metadata": {},
     "output_type": "execute_result"
    }
   ],
   "source": [
    "newtrain.head(2)"
   ]
  },
  {
   "cell_type": "code",
   "execution_count": 41,
   "id": "c8abb496",
   "metadata": {},
   "outputs": [
    {
     "data": {
      "text/plain": [
       "['Gender',\n",
       " 'Married',\n",
       " 'Dependents',\n",
       " 'Education',\n",
       " 'Self_Employed',\n",
       " 'Property_Area',\n",
       " 'Loan_Status',\n",
       " 'Credit_History']"
      ]
     },
     "execution_count": 41,
     "metadata": {},
     "output_type": "execute_result"
    }
   ],
   "source": [
    "cat_cols"
   ]
  },
  {
   "cell_type": "code",
   "execution_count": 42,
   "id": "98de1beb",
   "metadata": {},
   "outputs": [
    {
     "name": "stdout",
     "output_type": "stream",
     "text": [
      "Pvalue for  Gender is 0.84876\n",
      "Pvalue for  Married is 0.02961\n",
      "Pvalue for  Dependents is 0.4471\n",
      "Pvalue for  Education is 0.0431\n",
      "Pvalue for  Self_Employed is 1.0\n",
      "Pvalue for  Property_Area is 0.00214\n",
      "Pvalue for  Loan_Status is 0.0\n",
      "Pvalue for  Credit_History is 0.0\n",
      "['Married', 'Education', 'Property_Area', 'Loan_Status', 'Credit_History']\n"
     ]
    }
   ],
   "source": [
    "# Cat vs Cat --chisquare test\n",
    "# ho:The predictor and target are not related\n",
    "# h1: The preddictor and target are related\n",
    "\n",
    "sig_fea=[]\n",
    "import scipy.stats as stats\n",
    "for i in cat_cols:\n",
    "    tbl=pd.crosstab(newtrain.loc[:,i],newtrain.Loan_Status)\n",
    "    teststats,pvalue,df,exp_freq=stats.chi2_contingency(tbl)\n",
    "    print('Pvalue for ',i,'is',round(pvalue,5))\n",
    "    if (pvalue<0.05):\n",
    "        sig_fea.append(i)\n",
    "print(sig_fea)"
   ]
  },
  {
   "cell_type": "code",
   "execution_count": 43,
   "id": "b5009ce5",
   "metadata": {},
   "outputs": [
    {
     "data": {
      "text/plain": [
       "Index(['ApplicantIncome', 'CoapplicantIncome', 'LoanAmount',\n",
       "       'Loan_Amount_Term', 'Total_income', 'Credit_History_Income_Sum'],\n",
       "      dtype='object')"
      ]
     },
     "execution_count": 43,
     "metadata": {},
     "output_type": "execute_result"
    }
   ],
   "source": [
    "num_cols=newtrain.select_dtypes(include=np.number).columns\n",
    "num_cols"
   ]
  },
  {
   "cell_type": "code",
   "execution_count": 44,
   "id": "b14c2929",
   "metadata": {},
   "outputs": [
    {
     "name": "stdout",
     "output_type": "stream",
     "text": [
      "Pvalue for  ApplicantIncome is nan\n",
      "Pvalue for  CoapplicantIncome is nan\n",
      "Pvalue for  LoanAmount is nan\n",
      "Pvalue for  Loan_Amount_Term is nan\n",
      "Pvalue for  Total_income is nan\n",
      "Pvalue for  Credit_History_Income_Sum is nan\n"
     ]
    }
   ],
   "source": [
    "# Num Vs Cat\n",
    "for i in num_cols:\n",
    "    zero=newtrain.loc[newtrain.Loan_Status==0,i]\n",
    "    ones=newtrain.loc[newtrain.Loan_Status==1,i]\n",
    "    teststats,pvalue=stats.ttest_ind(zero,ones)\n",
    "    print('Pvalue for ',i,'is',np.round(pvalue,5))"
   ]
  },
  {
   "cell_type": "markdown",
   "id": "75beae8a",
   "metadata": {},
   "source": [
    "## Scaling"
   ]
  },
  {
   "cell_type": "code",
   "execution_count": 40,
   "id": "29182fcf",
   "metadata": {},
   "outputs": [],
   "source": [
    "from sklearn.preprocessing import MinMaxScaler\n",
    "mm=MinMaxScaler()\n",
    "for i in num_cols:\n",
    "    newtrain.loc[:,i]=mm.fit_transform(pd.DataFrame(newtrain.loc[:,i]))\n",
    "    newtest.loc[:,i]=mm.transform(pd.DataFrame(newtest.loc[:,i]))"
   ]
  },
  {
   "cell_type": "code",
   "execution_count": 41,
   "id": "9eda1429",
   "metadata": {},
   "outputs": [
    {
     "data": {
      "text/html": [
       "<div>\n",
       "<style scoped>\n",
       "    .dataframe tbody tr th:only-of-type {\n",
       "        vertical-align: middle;\n",
       "    }\n",
       "\n",
       "    .dataframe tbody tr th {\n",
       "        vertical-align: top;\n",
       "    }\n",
       "\n",
       "    .dataframe thead th {\n",
       "        text-align: right;\n",
       "    }\n",
       "</style>\n",
       "<table border=\"1\" class=\"dataframe\">\n",
       "  <thead>\n",
       "    <tr style=\"text-align: right;\">\n",
       "      <th></th>\n",
       "      <th>Gender</th>\n",
       "      <th>Married</th>\n",
       "      <th>Dependents</th>\n",
       "      <th>Education</th>\n",
       "      <th>Self_Employed</th>\n",
       "      <th>ApplicantIncome</th>\n",
       "      <th>CoapplicantIncome</th>\n",
       "      <th>LoanAmount</th>\n",
       "      <th>Loan_Amount_Term</th>\n",
       "      <th>Credit_History</th>\n",
       "      <th>Property_Area</th>\n",
       "      <th>Loan_Status</th>\n",
       "      <th>Total_income</th>\n",
       "      <th>Credit_History_Income_Sum</th>\n",
       "    </tr>\n",
       "  </thead>\n",
       "  <tbody>\n",
       "    <tr>\n",
       "      <th>0</th>\n",
       "      <td>Male</td>\n",
       "      <td>No</td>\n",
       "      <td>0</td>\n",
       "      <td>Graduate</td>\n",
       "      <td>No</td>\n",
       "      <td>0.070489</td>\n",
       "      <td>0.000000</td>\n",
       "      <td>0.175832</td>\n",
       "      <td>0.74359</td>\n",
       "      <td>1.0</td>\n",
       "      <td>Urban</td>\n",
       "      <td>Y</td>\n",
       "      <td>5849.0</td>\n",
       "      <td>5.105693e+06</td>\n",
       "    </tr>\n",
       "    <tr>\n",
       "      <th>1</th>\n",
       "      <td>Male</td>\n",
       "      <td>Yes</td>\n",
       "      <td>1</td>\n",
       "      <td>Graduate</td>\n",
       "      <td>No</td>\n",
       "      <td>0.054830</td>\n",
       "      <td>0.036192</td>\n",
       "      <td>0.172214</td>\n",
       "      <td>0.74359</td>\n",
       "      <td>1.0</td>\n",
       "      <td>Rural</td>\n",
       "      <td>N</td>\n",
       "      <td>6091.0</td>\n",
       "      <td>5.105693e+06</td>\n",
       "    </tr>\n",
       "  </tbody>\n",
       "</table>\n",
       "</div>"
      ],
      "text/plain": [
       "  Gender Married Dependents Education Self_Employed  ApplicantIncome  \\\n",
       "0   Male      No          0  Graduate            No         0.070489   \n",
       "1   Male     Yes          1  Graduate            No         0.054830   \n",
       "\n",
       "   CoapplicantIncome  LoanAmount  Loan_Amount_Term Credit_History  \\\n",
       "0           0.000000    0.175832           0.74359            1.0   \n",
       "1           0.036192    0.172214           0.74359            1.0   \n",
       "\n",
       "  Property_Area Loan_Status  Total_income  Credit_History_Income_Sum  \n",
       "0         Urban           Y        5849.0               5.105693e+06  \n",
       "1         Rural           N        6091.0               5.105693e+06  "
      ]
     },
     "execution_count": 41,
     "metadata": {},
     "output_type": "execute_result"
    }
   ],
   "source": [
    "newtrain.head(2)"
   ]
  },
  {
   "cell_type": "markdown",
   "id": "b6136059",
   "metadata": {},
   "source": [
    "# Encoding"
   ]
  },
  {
   "cell_type": "code",
   "execution_count": 121,
   "id": "5167af8a",
   "metadata": {},
   "outputs": [],
   "source": [
    "# replacing the column values\n",
    "newtrain.Loan_Status=newtrain.Loan_Status.replace({'N':0,'Y':1})"
   ]
  },
  {
   "cell_type": "code",
   "execution_count": 122,
   "id": "a82011c8",
   "metadata": {},
   "outputs": [
    {
     "data": {
      "text/plain": [
       "(614, 17)"
      ]
     },
     "execution_count": 122,
     "metadata": {},
     "output_type": "execute_result"
    }
   ],
   "source": [
    "newtrain=pd.get_dummies(newtrain,drop_first=True)\n",
    "newtrain.shape"
   ]
  },
  {
   "cell_type": "code",
   "execution_count": 123,
   "id": "678fe266",
   "metadata": {},
   "outputs": [
    {
     "data": {
      "text/plain": [
       "(367, 16)"
      ]
     },
     "execution_count": 123,
     "metadata": {},
     "output_type": "execute_result"
    }
   ],
   "source": [
    "newtest=pd.get_dummies(newtest,drop_first=True)\n",
    "newtest.shape"
   ]
  },
  {
   "cell_type": "markdown",
   "id": "76a8a6a5",
   "metadata": {},
   "source": [
    "# Split"
   ]
  },
  {
   "cell_type": "code",
   "execution_count": 97,
   "id": "2f662d43",
   "metadata": {},
   "outputs": [
    {
     "data": {
      "text/plain": [
       "(614, 16)"
      ]
     },
     "execution_count": 97,
     "metadata": {},
     "output_type": "execute_result"
    }
   ],
   "source": [
    "X=newtrain.drop('Loan_Status',axis=1)\n",
    "y=newtrain.Loan_Status\n",
    "X.shape"
   ]
  },
  {
   "cell_type": "markdown",
   "id": "d7d8fb80",
   "metadata": {},
   "source": [
    "# Model Building"
   ]
  },
  {
   "cell_type": "markdown",
   "id": "8cf01738",
   "metadata": {},
   "source": [
    "### Logistic Regression"
   ]
  },
  {
   "cell_type": "code",
   "execution_count": 109,
   "id": "35d28dcc",
   "metadata": {},
   "outputs": [
    {
     "data": {
      "text/plain": [
       "367"
      ]
     },
     "execution_count": 109,
     "metadata": {},
     "output_type": "execute_result"
    }
   ],
   "source": [
    "len(pred)"
   ]
  },
  {
   "cell_type": "code",
   "execution_count": 61,
   "id": "7641e9c2",
   "metadata": {},
   "outputs": [
    {
     "ename": "NameError",
     "evalue": "name 'X' is not defined",
     "output_type": "error",
     "traceback": [
      "\u001b[1;31m---------------------------------------------------------------------------\u001b[0m",
      "\u001b[1;31mNameError\u001b[0m                                 Traceback (most recent call last)",
      "Input \u001b[1;32mIn [61]\u001b[0m, in \u001b[0;36m<cell line: 9>\u001b[1;34m()\u001b[0m\n\u001b[0;32m      6\u001b[0m pred\u001b[38;5;241m=\u001b[39m[]\n\u001b[0;32m      7\u001b[0m accuracy\u001b[38;5;241m=\u001b[39m[]\n\u001b[1;32m----> 9\u001b[0m \u001b[38;5;28;01mfor\u001b[39;00m train_index,test_index \u001b[38;5;129;01min\u001b[39;00m kfold\u001b[38;5;241m.\u001b[39msplit(\u001b[43mX\u001b[49m,y):\n\u001b[0;32m     10\u001b[0m     xtrain\u001b[38;5;241m=\u001b[39mX\u001b[38;5;241m.\u001b[39miloc[train_index]\n\u001b[0;32m     11\u001b[0m     ytrain\u001b[38;5;241m=\u001b[39my\u001b[38;5;241m.\u001b[39miloc[train_index]\n",
      "\u001b[1;31mNameError\u001b[0m: name 'X' is not defined"
     ]
    }
   ],
   "source": [
    "from sklearn.linear_model import LogisticRegression\n",
    "from sklearn.model_selection import StratifiedKFold\n",
    "\n",
    "kfold=StratifiedKFold(n_splits=5,shuffle=True,random_state=0)\n",
    "lr=LogisticRegression()\n",
    "pred=[]\n",
    "accuracy=[]\n",
    "\n",
    "for train_index,test_index in kfold.split(X,y):\n",
    "    xtrain=X.iloc[train_index]\n",
    "    ytrain=y.iloc[train_index]\n",
    "    ytest=y.iloc[test_index]\n",
    "    pred=lr.fit(xtrain,ytrain).predict(newtest)\n",
    "    accuracy.append(accuracy_score(ytest,pred))\n",
    "finalpred_lr=pd.DataFrame(pred).T.mode(axis=1)\n",
    "# print(np.mean(accuracy))\n"
   ]
  },
  {
   "cell_type": "code",
   "execution_count": 103,
   "id": "d0c8a39f",
   "metadata": {},
   "outputs": [
    {
     "data": {
      "text/plain": [
       "2      1\n",
       "7      0\n",
       "11     1\n",
       "12     1\n",
       "14     1\n",
       "      ..\n",
       "580    1\n",
       "581    0\n",
       "586    1\n",
       "592    1\n",
       "604    1\n",
       "Name: Loan_Status, Length: 122, dtype: int64"
      ]
     },
     "execution_count": 103,
     "metadata": {},
     "output_type": "execute_result"
    }
   ],
   "source": [
    "from sklearn.linear_model import LogisticRegression\n",
    "from sklearn.model_selection import StratifiedKFold\n",
    "\n",
    "kfold=StratifiedKFold(n_splits=5,shuffle=True,random_state=0)\n",
    "lr=LogisticRegression()\n",
    "pred=[]\n",
    "accuracy=[]\n",
    "\n",
    "for train_index,test_index in kfold.split(X,y):\n",
    "    xtrain=X.iloc[train_index]\n",
    "    ytrain=y.iloc[train_index]\n",
    "    ytest=y.iloc[test_index]\n",
    "    pred.append(lr.fit(xtrain,ytrain).predict(newtest))\n",
    "#     accuracy.append(accuracy_score(ytest,pred))\n",
    "finalpred_lr=pd.DataFrame(pred).T.mode(axis=1)\n",
    "# print(np.mean(accuracy))\n",
    "ytest"
   ]
  },
  {
   "cell_type": "code",
   "execution_count": 63,
   "id": "03e101d5",
   "metadata": {},
   "outputs": [
    {
     "data": {
      "text/plain": [
       "0      1\n",
       "1      0\n",
       "2      1\n",
       "3      1\n",
       "4      1\n",
       "      ..\n",
       "609    1\n",
       "610    1\n",
       "611    1\n",
       "612    1\n",
       "613    0\n",
       "Name: Loan_Status, Length: 614, dtype: int64"
      ]
     },
     "execution_count": 63,
     "metadata": {},
     "output_type": "execute_result"
    }
   ],
   "source": [
    "y"
   ]
  },
  {
   "cell_type": "code",
   "execution_count": 62,
   "id": "40c3aae6",
   "metadata": {},
   "outputs": [
    {
     "ename": "ValueError",
     "evalue": "Found input variables with inconsistent numbers of samples: [367, 122]",
     "output_type": "error",
     "traceback": [
      "\u001b[1;31m---------------------------------------------------------------------------\u001b[0m",
      "\u001b[1;31mValueError\u001b[0m                                Traceback (most recent call last)",
      "Input \u001b[1;32mIn [62]\u001b[0m, in \u001b[0;36m<cell line: 2>\u001b[1;34m()\u001b[0m\n\u001b[0;32m      1\u001b[0m \u001b[38;5;28;01mfrom\u001b[39;00m \u001b[38;5;21;01msklearn\u001b[39;00m\u001b[38;5;21;01m.\u001b[39;00m\u001b[38;5;21;01mmetrics\u001b[39;00m \u001b[38;5;28;01mimport\u001b[39;00m accuracy_score\n\u001b[1;32m----> 2\u001b[0m \u001b[43maccuracy_score\u001b[49m\u001b[43m(\u001b[49m\u001b[43mfinalpred_lr\u001b[49m\u001b[43m[\u001b[49m\u001b[38;5;241;43m0\u001b[39;49m\u001b[43m]\u001b[49m\u001b[43m,\u001b[49m\u001b[43mytest\u001b[49m\u001b[43m)\u001b[49m\n",
      "File \u001b[1;32m~\\anaconda3\\lib\\site-packages\\sklearn\\metrics\\_classification.py:211\u001b[0m, in \u001b[0;36maccuracy_score\u001b[1;34m(y_true, y_pred, normalize, sample_weight)\u001b[0m\n\u001b[0;32m    145\u001b[0m \u001b[38;5;124;03m\"\"\"Accuracy classification score.\u001b[39;00m\n\u001b[0;32m    146\u001b[0m \n\u001b[0;32m    147\u001b[0m \u001b[38;5;124;03mIn multilabel classification, this function computes subset accuracy:\u001b[39;00m\n\u001b[1;32m   (...)\u001b[0m\n\u001b[0;32m    207\u001b[0m \u001b[38;5;124;03m0.5\u001b[39;00m\n\u001b[0;32m    208\u001b[0m \u001b[38;5;124;03m\"\"\"\u001b[39;00m\n\u001b[0;32m    210\u001b[0m \u001b[38;5;66;03m# Compute accuracy for each possible representation\u001b[39;00m\n\u001b[1;32m--> 211\u001b[0m y_type, y_true, y_pred \u001b[38;5;241m=\u001b[39m \u001b[43m_check_targets\u001b[49m\u001b[43m(\u001b[49m\u001b[43my_true\u001b[49m\u001b[43m,\u001b[49m\u001b[43m \u001b[49m\u001b[43my_pred\u001b[49m\u001b[43m)\u001b[49m\n\u001b[0;32m    212\u001b[0m check_consistent_length(y_true, y_pred, sample_weight)\n\u001b[0;32m    213\u001b[0m \u001b[38;5;28;01mif\u001b[39;00m y_type\u001b[38;5;241m.\u001b[39mstartswith(\u001b[38;5;124m\"\u001b[39m\u001b[38;5;124mmultilabel\u001b[39m\u001b[38;5;124m\"\u001b[39m):\n",
      "File \u001b[1;32m~\\anaconda3\\lib\\site-packages\\sklearn\\metrics\\_classification.py:84\u001b[0m, in \u001b[0;36m_check_targets\u001b[1;34m(y_true, y_pred)\u001b[0m\n\u001b[0;32m     57\u001b[0m \u001b[38;5;28;01mdef\u001b[39;00m \u001b[38;5;21m_check_targets\u001b[39m(y_true, y_pred):\n\u001b[0;32m     58\u001b[0m     \u001b[38;5;124;03m\"\"\"Check that y_true and y_pred belong to the same classification task.\u001b[39;00m\n\u001b[0;32m     59\u001b[0m \n\u001b[0;32m     60\u001b[0m \u001b[38;5;124;03m    This converts multiclass or binary types to a common shape, and raises a\u001b[39;00m\n\u001b[1;32m   (...)\u001b[0m\n\u001b[0;32m     82\u001b[0m \u001b[38;5;124;03m    y_pred : array or indicator matrix\u001b[39;00m\n\u001b[0;32m     83\u001b[0m \u001b[38;5;124;03m    \"\"\"\u001b[39;00m\n\u001b[1;32m---> 84\u001b[0m     \u001b[43mcheck_consistent_length\u001b[49m\u001b[43m(\u001b[49m\u001b[43my_true\u001b[49m\u001b[43m,\u001b[49m\u001b[43m \u001b[49m\u001b[43my_pred\u001b[49m\u001b[43m)\u001b[49m\n\u001b[0;32m     85\u001b[0m     type_true \u001b[38;5;241m=\u001b[39m type_of_target(y_true)\n\u001b[0;32m     86\u001b[0m     type_pred \u001b[38;5;241m=\u001b[39m type_of_target(y_pred)\n",
      "File \u001b[1;32m~\\anaconda3\\lib\\site-packages\\sklearn\\utils\\validation.py:332\u001b[0m, in \u001b[0;36mcheck_consistent_length\u001b[1;34m(*arrays)\u001b[0m\n\u001b[0;32m    330\u001b[0m uniques \u001b[38;5;241m=\u001b[39m np\u001b[38;5;241m.\u001b[39munique(lengths)\n\u001b[0;32m    331\u001b[0m \u001b[38;5;28;01mif\u001b[39;00m \u001b[38;5;28mlen\u001b[39m(uniques) \u001b[38;5;241m>\u001b[39m \u001b[38;5;241m1\u001b[39m:\n\u001b[1;32m--> 332\u001b[0m     \u001b[38;5;28;01mraise\u001b[39;00m \u001b[38;5;167;01mValueError\u001b[39;00m(\n\u001b[0;32m    333\u001b[0m         \u001b[38;5;124m\"\u001b[39m\u001b[38;5;124mFound input variables with inconsistent numbers of samples: \u001b[39m\u001b[38;5;132;01m%r\u001b[39;00m\u001b[38;5;124m\"\u001b[39m\n\u001b[0;32m    334\u001b[0m         \u001b[38;5;241m%\u001b[39m [\u001b[38;5;28mint\u001b[39m(l) \u001b[38;5;28;01mfor\u001b[39;00m l \u001b[38;5;129;01min\u001b[39;00m lengths]\n\u001b[0;32m    335\u001b[0m     )\n",
      "\u001b[1;31mValueError\u001b[0m: Found input variables with inconsistent numbers of samples: [367, 122]"
     ]
    }
   ],
   "source": [
    "from sklearn.metrics import accuracy_score\n",
    "accuracy_score(finalpred_lr[0],ytest)"
   ]
  },
  {
   "cell_type": "code",
   "execution_count": 417,
   "id": "cbfd833d",
   "metadata": {},
   "outputs": [],
   "source": [
    "finalpred_lr[0]=list(map(lambda x:str(x).replace('0','N').replace('1','Y'),finalpred_lr[0]))\n",
    "sub['Loan_Status']=finalpred_lr\n",
    "sub.to_csv('Logistic_Model.csv',index=False)                                         # 0.7569444444444444"
   ]
  },
  {
   "cell_type": "markdown",
   "id": "72d54fad",
   "metadata": {},
   "source": [
    "## Random Forest"
   ]
  },
  {
   "cell_type": "code",
   "execution_count": 65,
   "id": "666db26f",
   "metadata": {},
   "outputs": [],
   "source": [
    "from sklearn.ensemble import RandomForestClassifier\n",
    "rf=RandomForestClassifier()\n",
    "pred_rf=[]\n",
    "\n",
    "for train_index,test_index in kfold.split(X,y):\n",
    "    xtrain=X.loc[train_index]\n",
    "    ytrain=y.loc[train_index]\n",
    "    pred_rf.append(rf.fit(xtrain,ytrain).predict(newtest))\n",
    "finalpred=pd.DataFrame(pred_rf).T.mode(axis=1)"
   ]
  },
  {
   "cell_type": "code",
   "execution_count": 415,
   "id": "7bdab2fc",
   "metadata": {},
   "outputs": [],
   "source": [
    "finalpred[0]=list(map(lambda x:str(x).replace('0','N').replace('1','Y'),finalpred[0]))\n",
    "sub['Loan_Status']=finalpred\n",
    "sub.to_csv('Random_Forestt.csv',index=False)                                     # 0.7708333333333334."
   ]
  },
  {
   "cell_type": "markdown",
   "id": "a6c00695",
   "metadata": {},
   "source": [
    "### Gradient Boosting"
   ]
  },
  {
   "cell_type": "code",
   "execution_count": 66,
   "id": "59adeb2a",
   "metadata": {},
   "outputs": [],
   "source": [
    "from sklearn.ensemble import GradientBoostingClassifier\n",
    "gb=GradientBoostingClassifier()\n",
    "pred_gb=[]\n",
    "for train_index,test_index in kfold.split(X,y):\n",
    "    xtrain=X.loc[train_index]\n",
    "    ytrain=y.loc[train_index]\n",
    "    pred_gb.append(gb.fit(xtrain,ytrain).predict(newtest))\n",
    "finalpred_gb=pd.DataFrame(pred_gb).T.mode(axis=1)                                 #  0.7569444444444444."
   ]
  },
  {
   "cell_type": "code",
   "execution_count": 420,
   "id": "a02f2261",
   "metadata": {},
   "outputs": [],
   "source": [
    "finalpred_gb[0]=list(map(lambda x:str(x).replace('0','N').replace('1','Y'),finalpred_gb[0]))\n",
    "sub['Loan_Status']=finalpred_gb\n",
    "sub.to_csv('GradientBoosting.csv',index=False)"
   ]
  },
  {
   "cell_type": "code",
   "execution_count": 67,
   "id": "920af9ad",
   "metadata": {},
   "outputs": [],
   "source": [
    "from xgboost import XGBClassifier\n",
    "xg=XGBClassifier()\n",
    "pred_xg=[]\n",
    "for train_index,test_index in kfold.split(X,y):\n",
    "    xtrain=X.loc[train_index]\n",
    "    ytrain=y.loc[train_index]\n",
    "    pred_xg.append(xg.fit(xtrain,ytrain).predict(newtest))            \n",
    "finalpred_xg=pd.DataFrame(pred_xg).T.mode(axis=1)"
   ]
  },
  {
   "cell_type": "code",
   "execution_count": 422,
   "id": "ca67e9e6",
   "metadata": {},
   "outputs": [],
   "source": [
    "finalpred_xg[0]=list(map(lambda x:str(x).replace('0','N').replace('1','Y'),finalpred_xg[0]))\n",
    "sub['Loan_Status']=finalpred_xg\n",
    "sub.to_csv('XGBoost.csv',index=False)                                            # 0.7222222222222222."
   ]
  },
  {
   "cell_type": "code",
   "execution_count": 68,
   "id": "406bc586",
   "metadata": {},
   "outputs": [],
   "source": [
    "from lightgbm import LGBMClassifier\n",
    "lg=LGBMClassifier()\n",
    "pred_lg=[]\n",
    "for train_index,test_index in kfold.split(X,y):\n",
    "    xtrain=X.loc[train_index]\n",
    "    ytrain=y.loc[train_index]\n",
    "    pred_lg.append(lg.fit(xtrain,ytrain).predict(newtest))\n",
    "finalpred_lg=pd.DataFrame(pred_lg).T.mode(axis=1)                          # 0.7291666666666666"
   ]
  },
  {
   "cell_type": "code",
   "execution_count": 424,
   "id": "0a39b594",
   "metadata": {},
   "outputs": [],
   "source": [
    "finalpred_lg[0]=list(map(lambda x:str(x).replace('0','N').replace('1','Y'),finalpred_lg[0]))\n",
    "sub['Loan_Status']=finalpred_lg\n",
    "sub.to_csv('LightGBM.csv',index=False)"
   ]
  },
  {
   "cell_type": "markdown",
   "id": "2d045ccf",
   "metadata": {},
   "source": [
    "### Parameter Tuning for rf"
   ]
  },
  {
   "cell_type": "code",
   "execution_count": 69,
   "id": "af2840ef",
   "metadata": {},
   "outputs": [
    {
     "data": {
      "text/plain": [
       "{'criterion': 'gini',\n",
       " 'max_depth': 2,\n",
       " 'min_samples_split': 2,\n",
       " 'n_estimators': 200}"
      ]
     },
     "execution_count": 69,
     "metadata": {},
     "output_type": "execute_result"
    }
   ],
   "source": [
    "from sklearn.model_selection import GridSearchCV\n",
    "params=({'n_estimators':[100,200,500],\n",
    "        'max_depth':[2,4,6,8],\n",
    "        'min_samples_split':[2,4,6],\n",
    "        'criterion':['gini','entropy']})\n",
    "rf=RandomForestClassifier()\n",
    "grid=GridSearchCV(estimator=rf,param_grid=params,cv=5)\n",
    "grid.fit(X,y)\n",
    "grid.best_params_"
   ]
  },
  {
   "cell_type": "code",
   "execution_count": 72,
   "id": "8fb8145e",
   "metadata": {},
   "outputs": [],
   "source": [
    "from sklearn.ensemble import RandomForestClassifier\n",
    "rf_tuned=RandomForestClassifier(n_estimators=200,max_depth=2,min_samples_split=2,\n",
    "                               criterion='gini')\n",
    "pred_rf_tuned=[]\n",
    "\n",
    "for train_index,test_index in kfold.split(X,y):\n",
    "    xtrain=X.loc[train_index]\n",
    "    ytrain=y.loc[train_index]\n",
    "    pred_rf_tuned.append(rf_tuned.fit(xtrain,ytrain).predict(newtest))\n",
    "finalpred_rftuned=pd.DataFrame(pred_rf_tuned).T.mode(axis=1)"
   ]
  },
  {
   "cell_type": "code",
   "execution_count": 73,
   "id": "62e10dfb",
   "metadata": {},
   "outputs": [],
   "source": [
    "finalpred_rftuned[0]=list(map(lambda x:str(x).replace('0','N').replace('1','Y'),finalpred_rftuned[0]))\n",
    "sub['Loan_Status']=finalpred_rftuned\n",
    "sub.to_csv('Random_Forest_tuned.csv',index=False)                        # 0.7638888888888888"
   ]
  },
  {
   "cell_type": "markdown",
   "id": "a3eb1168",
   "metadata": {},
   "source": [
    "## Stacking Model"
   ]
  },
  {
   "cell_type": "code",
   "execution_count": 80,
   "id": "796693db",
   "metadata": {},
   "outputs": [],
   "source": [
    "from sklearn.ensemble import StackingClassifier\n",
    "basemodels=[('rf',rf),('gb',gb)]\n",
    "final_model=RandomForestClassifier(n_estimators=200,max_depth=2,min_samples_split=2,\n",
    "                               criterion='gini')\n",
    "stack=StackingClassifier(estimators=basemodels,final_estimator=final_model,\n",
    "                        cv=5)\n",
    "pred_stack=[]\n",
    "for train_index,test_index in kfold.split(X,y):\n",
    "    xtrain=X.loc[train_index]\n",
    "    ytrain=y.loc[train_index]    \n",
    "    pred_stack.append(stack.fit(xtrain,ytrain).predict(newtest))    \n",
    "finalpred_stack=pd.DataFrame(pred_stack).T.mode(axis=1)"
   ]
  },
  {
   "cell_type": "code",
   "execution_count": 81,
   "id": "e7dfd4f1",
   "metadata": {},
   "outputs": [],
   "source": [
    "finalpred_stack[0]=list(map(lambda x:str(x).replace('0','N').replace('1','Y'),finalpred_stack[0]))\n",
    "sub['Loan_Status']=finalpred_stack\n",
    "sub.to_csv('StackingModel.csv',index=False)                      # 0.75."
   ]
  },
  {
   "cell_type": "markdown",
   "id": "c1d3baf2",
   "metadata": {},
   "source": [
    "## Smote"
   ]
  },
  {
   "cell_type": "code",
   "execution_count": 91,
   "id": "b5a81aeb",
   "metadata": {},
   "outputs": [
    {
     "name": "stdout",
     "output_type": "stream",
     "text": [
      "Before smote  Counter({1: 422, 0: 192})\n",
      "After smote  Counter({1: 422, 0: 211})\n"
     ]
    }
   ],
   "source": [
    "from collections import Counter\n",
    "from imblearn.over_sampling import SMOTE\n",
    "print('Before smote ',Counter(y))\n",
    "smote=SMOTE(sampling_strategy=0.5,random_state=0)\n",
    "x_sm,y_sm=smote.fit_resample(X,y)\n",
    "print('After smote ',Counter(y_sm))\n"
   ]
  },
  {
   "cell_type": "code",
   "execution_count": 92,
   "id": "4ec565ae",
   "metadata": {},
   "outputs": [],
   "source": [
    "# Spilting the data after SMOTE\n",
    "from sklearn.model_selection import train_test_split\n",
    "xtrain,xtest,ytrain,ytest=train_test_split(x_sm,y_sm,test_size=0.25,random_state=0)"
   ]
  },
  {
   "cell_type": "code",
   "execution_count": 93,
   "id": "0fe7d873",
   "metadata": {},
   "outputs": [
    {
     "data": {
      "text/html": [
       "<div>\n",
       "<style scoped>\n",
       "    .dataframe tbody tr th:only-of-type {\n",
       "        vertical-align: middle;\n",
       "    }\n",
       "\n",
       "    .dataframe tbody tr th {\n",
       "        vertical-align: top;\n",
       "    }\n",
       "\n",
       "    .dataframe thead th {\n",
       "        text-align: right;\n",
       "    }\n",
       "</style>\n",
       "<table border=\"1\" class=\"dataframe\">\n",
       "  <thead>\n",
       "    <tr style=\"text-align: right;\">\n",
       "      <th></th>\n",
       "      <th>0</th>\n",
       "    </tr>\n",
       "  </thead>\n",
       "  <tbody>\n",
       "    <tr>\n",
       "      <th>0</th>\n",
       "      <td>1</td>\n",
       "    </tr>\n",
       "    <tr>\n",
       "      <th>1</th>\n",
       "      <td>1</td>\n",
       "    </tr>\n",
       "    <tr>\n",
       "      <th>2</th>\n",
       "      <td>1</td>\n",
       "    </tr>\n",
       "    <tr>\n",
       "      <th>3</th>\n",
       "      <td>0</td>\n",
       "    </tr>\n",
       "    <tr>\n",
       "      <th>4</th>\n",
       "      <td>1</td>\n",
       "    </tr>\n",
       "    <tr>\n",
       "      <th>...</th>\n",
       "      <td>...</td>\n",
       "    </tr>\n",
       "    <tr>\n",
       "      <th>362</th>\n",
       "      <td>1</td>\n",
       "    </tr>\n",
       "    <tr>\n",
       "      <th>363</th>\n",
       "      <td>1</td>\n",
       "    </tr>\n",
       "    <tr>\n",
       "      <th>364</th>\n",
       "      <td>0</td>\n",
       "    </tr>\n",
       "    <tr>\n",
       "      <th>365</th>\n",
       "      <td>1</td>\n",
       "    </tr>\n",
       "    <tr>\n",
       "      <th>366</th>\n",
       "      <td>1</td>\n",
       "    </tr>\n",
       "  </tbody>\n",
       "</table>\n",
       "<p>367 rows × 1 columns</p>\n",
       "</div>"
      ],
      "text/plain": [
       "     0\n",
       "0    1\n",
       "1    1\n",
       "2    1\n",
       "3    0\n",
       "4    1\n",
       "..  ..\n",
       "362  1\n",
       "363  1\n",
       "364  0\n",
       "365  1\n",
       "366  1\n",
       "\n",
       "[367 rows x 1 columns]"
      ]
     },
     "execution_count": 93,
     "metadata": {},
     "output_type": "execute_result"
    }
   ],
   "source": [
    "rf=RandomForestClassifier()\n",
    "rf.fit(xtrain,ytrain)\n",
    "ypred=rf.predict(newtest)\n",
    "ypred=pd.DataFrame(ypred)\n",
    "ypred"
   ]
  },
  {
   "cell_type": "code",
   "execution_count": 95,
   "id": "3016363f",
   "metadata": {},
   "outputs": [],
   "source": [
    "ypred[0]=list(map(lambda x:str(x).replace('0','N').replace('1','Y'),ypred[0]))\n",
    "sub['Loan_Status']=ypred\n",
    "sub.to_csv('rfModel_smote1.csv',index=False)                             # 0.7291666666666666."
   ]
  },
  {
   "cell_type": "markdown",
   "id": "08d3bfba",
   "metadata": {},
   "source": [
    "# Dropping 2 columns and model building"
   ]
  },
  {
   "cell_type": "code",
   "execution_count": 46,
   "id": "6df0608c",
   "metadata": {},
   "outputs": [],
   "source": [
    "# Dropping the target column from the test\n",
    "train1=newtrain.drop(['ApplicantIncome','CoapplicantIncome'],axis=1)\n",
    "test1=newtest.drop(['CoapplicantIncome','ApplicantIncome'],axis=1)  "
   ]
  },
  {
   "cell_type": "code",
   "execution_count": 47,
   "id": "b2e11a3e",
   "metadata": {},
   "outputs": [
    {
     "data": {
      "text/plain": [
       "((614, 15), (367, 14))"
      ]
     },
     "execution_count": 47,
     "metadata": {},
     "output_type": "execute_result"
    }
   ],
   "source": [
    "train1.shape,test1.shape"
   ]
  },
  {
   "cell_type": "code",
   "execution_count": 48,
   "id": "564da3a8",
   "metadata": {},
   "outputs": [
    {
     "data": {
      "text/plain": [
       "(614, 14)"
      ]
     },
     "execution_count": 48,
     "metadata": {},
     "output_type": "execute_result"
    }
   ],
   "source": [
    "X1=train1.drop('Loan_Status',axis=1)\n",
    "y1=train1.Loan_Status\n",
    "X1.shape"
   ]
  },
  {
   "cell_type": "code",
   "execution_count": 49,
   "id": "bf00d830",
   "metadata": {},
   "outputs": [
    {
     "data": {
      "text/plain": [
       "(367, 16)"
      ]
     },
     "execution_count": 49,
     "metadata": {},
     "output_type": "execute_result"
    }
   ],
   "source": [
    "newtest.shape"
   ]
  },
  {
   "cell_type": "code",
   "execution_count": 53,
   "id": "4fb77f5a",
   "metadata": {},
   "outputs": [],
   "source": [
    "from sklearn.model_selection import StratifiedKFold\n",
    "kfold=StratifiedKFold(n_splits=5,shuffle=True,random_state=0)\n",
    "from sklearn.ensemble import RandomForestClassifier\n",
    "                      \n",
    "rf=RandomForestClassifier()\n",
    "pred_rf1=[]\n",
    "\n",
    "for train_index,test_index in kfold.split(X1,y1):\n",
    "    xtrain=X1.loc[train_index]\n",
    "    ytrain=y1.loc[train_index]\n",
    "    pred_rf1.append(rf.fit(xtrain,ytrain).predict(test1))\n",
    "finalpred1=pd.DataFrame(pred_rf1).T.mode(axis=1)"
   ]
  },
  {
   "cell_type": "code",
   "execution_count": 55,
   "id": "2bd5e24f",
   "metadata": {},
   "outputs": [
    {
     "data": {
      "text/plain": [
       "((492, 14), (492,))"
      ]
     },
     "execution_count": 55,
     "metadata": {},
     "output_type": "execute_result"
    }
   ],
   "source": [
    "xtrain.shape,ytrain.shape"
   ]
  },
  {
   "cell_type": "code",
   "execution_count": 56,
   "id": "21f6ec04",
   "metadata": {},
   "outputs": [
    {
     "data": {
      "text/plain": [
       "((614, 14), (614,))"
      ]
     },
     "execution_count": 56,
     "metadata": {},
     "output_type": "execute_result"
    }
   ],
   "source": [
    "X1.shape,y1.shape"
   ]
  },
  {
   "cell_type": "code",
   "execution_count": 57,
   "id": "48aa9ff7",
   "metadata": {},
   "outputs": [],
   "source": [
    "finalpred1[0]=list(map(lambda x:str(x).replace('0','N').replace('1','Y'),finalpred1[0]))\n",
    "sub['Loan_Status']=finalpred1\n",
    "sub.to_csv('Random_Forest2.csv',index=False)                             # 0.7430555555555556."
   ]
  },
  {
   "cell_type": "code",
   "execution_count": 59,
   "id": "69ca195f",
   "metadata": {},
   "outputs": [],
   "source": [
    "from sklearn.model_selection import StratifiedKFold\n",
    "kfold=StratifiedKFold(n_splits=5,shuffle=True,random_state=0)\n",
    "from sklearn.linear_model import LogisticRegression\n",
    "                      \n",
    "lr1=LogisticRegression()\n",
    "pred_lr1=[]\n",
    "\n",
    "for train_index,test_index in kfold.split(X1,y1):\n",
    "    xtrain=X1.loc[train_index]\n",
    "    ytrain=y1.loc[train_index]\n",
    "    pred_lr1.append(lr1.fit(xtrain,ytrain).predict(test1))\n",
    "finalpred_lr1=pd.DataFrame(pred_lr1).T.mode(axis=1)"
   ]
  },
  {
   "cell_type": "code",
   "execution_count": 60,
   "id": "28b59676",
   "metadata": {},
   "outputs": [],
   "source": [
    "finalpred_lr1[0]=list(map(lambda x:str(x).replace('0','N').replace('1','Y'),finalpred_lr1[0]))\n",
    "sub['Loan_Status']=finalpred_lr1\n",
    "sub.to_csv('Linearmodel2.csv',index=False)                  # 0.7083333333333334."
   ]
  },
  {
   "cell_type": "markdown",
   "id": "46c6da56",
   "metadata": {},
   "source": [
    "# Without scaling models"
   ]
  },
  {
   "cell_type": "markdown",
   "id": "eb20a5de",
   "metadata": {},
   "source": [
    "## encoding"
   ]
  },
  {
   "cell_type": "code",
   "execution_count": 102,
   "id": "31b320e5",
   "metadata": {},
   "outputs": [],
   "source": [
    "# replacing the column values\n",
    "dftrain.Loan_Status=dftrain.Loan_Status.replace({'N':0,'Y':1})"
   ]
  },
  {
   "cell_type": "code",
   "execution_count": 103,
   "id": "a385e184",
   "metadata": {},
   "outputs": [
    {
     "data": {
      "text/plain": [
       "(614, 17)"
      ]
     },
     "execution_count": 103,
     "metadata": {},
     "output_type": "execute_result"
    }
   ],
   "source": [
    "dftrain=pd.get_dummies(dftrain,drop_first=True)\n",
    "dftrain.shape"
   ]
  },
  {
   "cell_type": "code",
   "execution_count": 104,
   "id": "6bf46c39",
   "metadata": {},
   "outputs": [
    {
     "data": {
      "text/plain": [
       "(367, 16)"
      ]
     },
     "execution_count": 104,
     "metadata": {},
     "output_type": "execute_result"
    }
   ],
   "source": [
    "dftest=pd.get_dummies(dftest,drop_first=True)\n",
    "dftest.shape"
   ]
  },
  {
   "cell_type": "code",
   "execution_count": 106,
   "id": "22507062",
   "metadata": {},
   "outputs": [
    {
     "data": {
      "text/plain": [
       "(614, 16)"
      ]
     },
     "execution_count": 106,
     "metadata": {},
     "output_type": "execute_result"
    }
   ],
   "source": [
    "X2=dftrain.drop('Loan_Status',axis=1)\n",
    "y2=dftrain.Loan_Status\n",
    "X2.shape"
   ]
  },
  {
   "cell_type": "code",
   "execution_count": 107,
   "id": "b510effa",
   "metadata": {},
   "outputs": [],
   "source": [
    "from sklearn.model_selection import StratifiedKFold\n",
    "kfold=StratifiedKFold(n_splits=5,shuffle=True,random_state=0)\n",
    "from sklearn.ensemble import RandomForestClassifier\n",
    "                      \n",
    "rf2=RandomForestClassifier()\n",
    "pred_rf2=[]\n",
    "\n",
    "for train_index,test_index in kfold.split(X2,y2):\n",
    "    xtrain=X2.loc[train_index]\n",
    "    ytrain=y2.loc[train_index]\n",
    "    pred_rf2.append(rf2.fit(xtrain,ytrain).predict(dftest))\n",
    "finalpred2=pd.DataFrame(pred_rf1).T.mode(axis=1)"
   ]
  },
  {
   "cell_type": "code",
   "execution_count": 108,
   "id": "08913e6c",
   "metadata": {},
   "outputs": [],
   "source": [
    "finalpred2[0]=list(map(lambda x:str(x).replace('0','N').replace('1','Y'),finalpred2[0]))\n",
    "sub['Loan_Status']=finalpred2\n",
    "sub.to_csv('Random_Forest_ws.csv',index=False)                            #  0.7430555555555556"
   ]
  },
  {
   "cell_type": "code",
   "execution_count": 109,
   "id": "94244669",
   "metadata": {},
   "outputs": [],
   "source": [
    "from sklearn.ensemble import GradientBoostingClassifier\n",
    "gb2=GradientBoostingClassifier()\n",
    "pred_gb2=[]\n",
    "for train_index,test_index in kfold.split(X2,y2):\n",
    "    xtrain=X2.loc[train_index]\n",
    "    ytrain=y2.loc[train_index]\n",
    "    pred_gb2.append(gb2.fit(xtrain,ytrain).predict(dftest))\n",
    "finalpred_gb2=pd.DataFrame(pred_gb2).T.mode(axis=1)  "
   ]
  },
  {
   "cell_type": "code",
   "execution_count": 110,
   "id": "5a02d5b8",
   "metadata": {},
   "outputs": [],
   "source": [
    "finalpred_gb2[0]=list(map(lambda x:str(x).replace('0','N').replace('1','Y'),finalpred_gb2[0]))\n",
    "sub['Loan_Status']=finalpred_gb2\n",
    "sub.to_csv('GradientBoosting_ws.csv',index=False)                           #  0.75"
   ]
  },
  {
   "cell_type": "markdown",
   "id": "adda0d89",
   "metadata": {},
   "source": [
    "## smote"
   ]
  },
  {
   "cell_type": "code",
   "execution_count": 112,
   "id": "bafb95f2",
   "metadata": {},
   "outputs": [
    {
     "name": "stdout",
     "output_type": "stream",
     "text": [
      "Before smote  Counter({1: 422, 0: 192})\n",
      "After smote  Counter({1: 422, 0: 422})\n"
     ]
    }
   ],
   "source": [
    "from collections import Counter\n",
    "from imblearn.over_sampling import SMOTE\n",
    "print('Before smote ',Counter(y2))\n",
    "smote=SMOTE(random_state=0)\n",
    "x_sm2,y_sm2=smote.fit_resample(X2,y2)\n",
    "print('After smote ',Counter(y_sm2))"
   ]
  },
  {
   "cell_type": "code",
   "execution_count": 113,
   "id": "acad2e0c",
   "metadata": {},
   "outputs": [],
   "source": [
    "from sklearn.model_selection import StratifiedKFold\n",
    "kfold=StratifiedKFold(n_splits=5,shuffle=True,random_state=0)\n",
    "from sklearn.ensemble import RandomForestClassifier\n",
    "                      \n",
    "rf3=RandomForestClassifier()\n",
    "pred_rf3=[]\n",
    "\n",
    "for train_index,test_index in kfold.split(x_sm2,y_sm2):\n",
    "    xtrain=x_sm2.loc[train_index]\n",
    "    ytrain=y_sm2.loc[train_index]\n",
    "    pred_rf3.append(rf3.fit(xtrain,ytrain).predict(dftest))\n",
    "finalpred3=pd.DataFrame(pred_rf3).T.mode(axis=1)"
   ]
  },
  {
   "cell_type": "code",
   "execution_count": 114,
   "id": "a7cdaf3a",
   "metadata": {},
   "outputs": [],
   "source": [
    "finalpred3[0]=list(map(lambda x:str(x).replace('0','N').replace('1','Y'),finalpred3[0]))\n",
    "sub['Loan_Status']=finalpred3\n",
    "sub.to_csv('Random_Forest_3.csv',index=False)                       #  0.6875."
   ]
  },
  {
   "cell_type": "markdown",
   "id": "9afd784e",
   "metadata": {},
   "source": [
    "# Lazy presentation"
   ]
  },
  {
   "cell_type": "code",
   "execution_count": 124,
   "id": "2ef2c1e7",
   "metadata": {},
   "outputs": [
    {
     "data": {
      "text/plain": [
       "(614, 16)"
      ]
     },
     "execution_count": 124,
     "metadata": {},
     "output_type": "execute_result"
    }
   ],
   "source": [
    "X=newtrain.drop('Loan_Status',axis=1)\n",
    "y=newtrain.Loan_Status\n",
    "X.shape"
   ]
  },
  {
   "cell_type": "code",
   "execution_count": 125,
   "id": "563760bb",
   "metadata": {},
   "outputs": [],
   "source": [
    "# Spilting the data after SMOTE\n",
    "from sklearn.model_selection import train_test_split\n",
    "xtrain,xtest,ytrain,ytest=train_test_split(X,y,test_size=0.25,random_state=0)"
   ]
  },
  {
   "cell_type": "code",
   "execution_count": 127,
   "id": "e7b920be",
   "metadata": {},
   "outputs": [
    {
     "name": "stderr",
     "output_type": "stream",
     "text": [
      " 31%|█████████████████████████▊                                                         | 9/29 [00:00<00:00, 20.32it/s]"
     ]
    },
    {
     "name": "stdout",
     "output_type": "stream",
     "text": [
      "CategoricalNB model failed to execute\n",
      "Negative values in data passed to CategoricalNB (input X)\n"
     ]
    },
    {
     "name": "stderr",
     "output_type": "stream",
     "text": [
      " 97%|███████████████████████████████████████████████████████████████████████████████▏  | 28/29 [00:01<00:00, 24.28it/s]"
     ]
    },
    {
     "name": "stdout",
     "output_type": "stream",
     "text": [
      "StackingClassifier model failed to execute\n",
      "__init__() missing 1 required positional argument: 'estimators'\n"
     ]
    },
    {
     "name": "stderr",
     "output_type": "stream",
     "text": [
      "100%|██████████████████████████████████████████████████████████████████████████████████| 29/29 [00:01<00:00, 21.38it/s]\n"
     ]
    },
    {
     "data": {
      "text/html": [
       "<div>\n",
       "<style scoped>\n",
       "    .dataframe tbody tr th:only-of-type {\n",
       "        vertical-align: middle;\n",
       "    }\n",
       "\n",
       "    .dataframe tbody tr th {\n",
       "        vertical-align: top;\n",
       "    }\n",
       "\n",
       "    .dataframe thead th {\n",
       "        text-align: right;\n",
       "    }\n",
       "</style>\n",
       "<table border=\"1\" class=\"dataframe\">\n",
       "  <thead>\n",
       "    <tr style=\"text-align: right;\">\n",
       "      <th></th>\n",
       "      <th>Accuracy</th>\n",
       "      <th>Balanced Accuracy</th>\n",
       "      <th>ROC AUC</th>\n",
       "      <th>F1 Score</th>\n",
       "      <th>Time Taken</th>\n",
       "    </tr>\n",
       "    <tr>\n",
       "      <th>Model</th>\n",
       "      <th></th>\n",
       "      <th></th>\n",
       "      <th></th>\n",
       "      <th></th>\n",
       "      <th></th>\n",
       "    </tr>\n",
       "  </thead>\n",
       "  <tbody>\n",
       "    <tr>\n",
       "      <th>RandomForestClassifier</th>\n",
       "      <td>0.78</td>\n",
       "      <td>0.72</td>\n",
       "      <td>0.72</td>\n",
       "      <td>0.78</td>\n",
       "      <td>0.21</td>\n",
       "    </tr>\n",
       "    <tr>\n",
       "      <th>LinearSVC</th>\n",
       "      <td>0.80</td>\n",
       "      <td>0.72</td>\n",
       "      <td>0.72</td>\n",
       "      <td>0.79</td>\n",
       "      <td>0.06</td>\n",
       "    </tr>\n",
       "    <tr>\n",
       "      <th>NearestCentroid</th>\n",
       "      <td>0.80</td>\n",
       "      <td>0.72</td>\n",
       "      <td>0.72</td>\n",
       "      <td>0.79</td>\n",
       "      <td>0.01</td>\n",
       "    </tr>\n",
       "    <tr>\n",
       "      <th>CalibratedClassifierCV</th>\n",
       "      <td>0.80</td>\n",
       "      <td>0.72</td>\n",
       "      <td>0.72</td>\n",
       "      <td>0.79</td>\n",
       "      <td>0.12</td>\n",
       "    </tr>\n",
       "    <tr>\n",
       "      <th>RidgeClassifierCV</th>\n",
       "      <td>0.80</td>\n",
       "      <td>0.72</td>\n",
       "      <td>0.72</td>\n",
       "      <td>0.79</td>\n",
       "      <td>0.02</td>\n",
       "    </tr>\n",
       "    <tr>\n",
       "      <th>RidgeClassifier</th>\n",
       "      <td>0.80</td>\n",
       "      <td>0.72</td>\n",
       "      <td>0.72</td>\n",
       "      <td>0.79</td>\n",
       "      <td>0.02</td>\n",
       "    </tr>\n",
       "    <tr>\n",
       "      <th>LinearDiscriminantAnalysis</th>\n",
       "      <td>0.80</td>\n",
       "      <td>0.72</td>\n",
       "      <td>0.72</td>\n",
       "      <td>0.79</td>\n",
       "      <td>0.02</td>\n",
       "    </tr>\n",
       "    <tr>\n",
       "      <th>LogisticRegression</th>\n",
       "      <td>0.80</td>\n",
       "      <td>0.72</td>\n",
       "      <td>0.72</td>\n",
       "      <td>0.79</td>\n",
       "      <td>0.02</td>\n",
       "    </tr>\n",
       "    <tr>\n",
       "      <th>SVC</th>\n",
       "      <td>0.79</td>\n",
       "      <td>0.71</td>\n",
       "      <td>0.71</td>\n",
       "      <td>0.79</td>\n",
       "      <td>0.03</td>\n",
       "    </tr>\n",
       "    <tr>\n",
       "      <th>GaussianNB</th>\n",
       "      <td>0.79</td>\n",
       "      <td>0.71</td>\n",
       "      <td>0.71</td>\n",
       "      <td>0.78</td>\n",
       "      <td>0.01</td>\n",
       "    </tr>\n",
       "    <tr>\n",
       "      <th>BernoulliNB</th>\n",
       "      <td>0.79</td>\n",
       "      <td>0.71</td>\n",
       "      <td>0.71</td>\n",
       "      <td>0.78</td>\n",
       "      <td>0.01</td>\n",
       "    </tr>\n",
       "    <tr>\n",
       "      <th>NuSVC</th>\n",
       "      <td>0.79</td>\n",
       "      <td>0.70</td>\n",
       "      <td>0.70</td>\n",
       "      <td>0.78</td>\n",
       "      <td>0.05</td>\n",
       "    </tr>\n",
       "    <tr>\n",
       "      <th>XGBClassifier</th>\n",
       "      <td>0.77</td>\n",
       "      <td>0.70</td>\n",
       "      <td>0.70</td>\n",
       "      <td>0.77</td>\n",
       "      <td>0.12</td>\n",
       "    </tr>\n",
       "    <tr>\n",
       "      <th>KNeighborsClassifier</th>\n",
       "      <td>0.77</td>\n",
       "      <td>0.69</td>\n",
       "      <td>0.69</td>\n",
       "      <td>0.77</td>\n",
       "      <td>0.02</td>\n",
       "    </tr>\n",
       "    <tr>\n",
       "      <th>PassiveAggressiveClassifier</th>\n",
       "      <td>0.77</td>\n",
       "      <td>0.69</td>\n",
       "      <td>0.69</td>\n",
       "      <td>0.77</td>\n",
       "      <td>0.02</td>\n",
       "    </tr>\n",
       "    <tr>\n",
       "      <th>LGBMClassifier</th>\n",
       "      <td>0.75</td>\n",
       "      <td>0.69</td>\n",
       "      <td>0.69</td>\n",
       "      <td>0.75</td>\n",
       "      <td>0.13</td>\n",
       "    </tr>\n",
       "    <tr>\n",
       "      <th>AdaBoostClassifier</th>\n",
       "      <td>0.77</td>\n",
       "      <td>0.68</td>\n",
       "      <td>0.68</td>\n",
       "      <td>0.76</td>\n",
       "      <td>0.13</td>\n",
       "    </tr>\n",
       "    <tr>\n",
       "      <th>LabelPropagation</th>\n",
       "      <td>0.74</td>\n",
       "      <td>0.68</td>\n",
       "      <td>0.68</td>\n",
       "      <td>0.74</td>\n",
       "      <td>0.03</td>\n",
       "    </tr>\n",
       "    <tr>\n",
       "      <th>ExtraTreesClassifier</th>\n",
       "      <td>0.75</td>\n",
       "      <td>0.67</td>\n",
       "      <td>0.67</td>\n",
       "      <td>0.75</td>\n",
       "      <td>0.14</td>\n",
       "    </tr>\n",
       "    <tr>\n",
       "      <th>SGDClassifier</th>\n",
       "      <td>0.71</td>\n",
       "      <td>0.67</td>\n",
       "      <td>0.67</td>\n",
       "      <td>0.72</td>\n",
       "      <td>0.01</td>\n",
       "    </tr>\n",
       "    <tr>\n",
       "      <th>LabelSpreading</th>\n",
       "      <td>0.73</td>\n",
       "      <td>0.67</td>\n",
       "      <td>0.67</td>\n",
       "      <td>0.73</td>\n",
       "      <td>0.04</td>\n",
       "    </tr>\n",
       "    <tr>\n",
       "      <th>BaggingClassifier</th>\n",
       "      <td>0.73</td>\n",
       "      <td>0.66</td>\n",
       "      <td>0.66</td>\n",
       "      <td>0.73</td>\n",
       "      <td>0.05</td>\n",
       "    </tr>\n",
       "    <tr>\n",
       "      <th>QuadraticDiscriminantAnalysis</th>\n",
       "      <td>0.65</td>\n",
       "      <td>0.65</td>\n",
       "      <td>0.65</td>\n",
       "      <td>0.67</td>\n",
       "      <td>0.02</td>\n",
       "    </tr>\n",
       "    <tr>\n",
       "      <th>ExtraTreeClassifier</th>\n",
       "      <td>0.71</td>\n",
       "      <td>0.60</td>\n",
       "      <td>0.60</td>\n",
       "      <td>0.70</td>\n",
       "      <td>0.01</td>\n",
       "    </tr>\n",
       "    <tr>\n",
       "      <th>Perceptron</th>\n",
       "      <td>0.57</td>\n",
       "      <td>0.57</td>\n",
       "      <td>0.57</td>\n",
       "      <td>0.59</td>\n",
       "      <td>0.02</td>\n",
       "    </tr>\n",
       "    <tr>\n",
       "      <th>DecisionTreeClassifier</th>\n",
       "      <td>0.65</td>\n",
       "      <td>0.57</td>\n",
       "      <td>0.57</td>\n",
       "      <td>0.65</td>\n",
       "      <td>0.02</td>\n",
       "    </tr>\n",
       "    <tr>\n",
       "      <th>DummyClassifier</th>\n",
       "      <td>0.72</td>\n",
       "      <td>0.50</td>\n",
       "      <td>0.50</td>\n",
       "      <td>0.60</td>\n",
       "      <td>0.01</td>\n",
       "    </tr>\n",
       "  </tbody>\n",
       "</table>\n",
       "</div>"
      ],
      "text/plain": [
       "                               Accuracy  Balanced Accuracy  ROC AUC  F1 Score  \\\n",
       "Model                                                                           \n",
       "RandomForestClassifier             0.78               0.72     0.72      0.78   \n",
       "LinearSVC                          0.80               0.72     0.72      0.79   \n",
       "NearestCentroid                    0.80               0.72     0.72      0.79   \n",
       "CalibratedClassifierCV             0.80               0.72     0.72      0.79   \n",
       "RidgeClassifierCV                  0.80               0.72     0.72      0.79   \n",
       "RidgeClassifier                    0.80               0.72     0.72      0.79   \n",
       "LinearDiscriminantAnalysis         0.80               0.72     0.72      0.79   \n",
       "LogisticRegression                 0.80               0.72     0.72      0.79   \n",
       "SVC                                0.79               0.71     0.71      0.79   \n",
       "GaussianNB                         0.79               0.71     0.71      0.78   \n",
       "BernoulliNB                        0.79               0.71     0.71      0.78   \n",
       "NuSVC                              0.79               0.70     0.70      0.78   \n",
       "XGBClassifier                      0.77               0.70     0.70      0.77   \n",
       "KNeighborsClassifier               0.77               0.69     0.69      0.77   \n",
       "PassiveAggressiveClassifier        0.77               0.69     0.69      0.77   \n",
       "LGBMClassifier                     0.75               0.69     0.69      0.75   \n",
       "AdaBoostClassifier                 0.77               0.68     0.68      0.76   \n",
       "LabelPropagation                   0.74               0.68     0.68      0.74   \n",
       "ExtraTreesClassifier               0.75               0.67     0.67      0.75   \n",
       "SGDClassifier                      0.71               0.67     0.67      0.72   \n",
       "LabelSpreading                     0.73               0.67     0.67      0.73   \n",
       "BaggingClassifier                  0.73               0.66     0.66      0.73   \n",
       "QuadraticDiscriminantAnalysis      0.65               0.65     0.65      0.67   \n",
       "ExtraTreeClassifier                0.71               0.60     0.60      0.70   \n",
       "Perceptron                         0.57               0.57     0.57      0.59   \n",
       "DecisionTreeClassifier             0.65               0.57     0.57      0.65   \n",
       "DummyClassifier                    0.72               0.50     0.50      0.60   \n",
       "\n",
       "                               Time Taken  \n",
       "Model                                      \n",
       "RandomForestClassifier               0.21  \n",
       "LinearSVC                            0.06  \n",
       "NearestCentroid                      0.01  \n",
       "CalibratedClassifierCV               0.12  \n",
       "RidgeClassifierCV                    0.02  \n",
       "RidgeClassifier                      0.02  \n",
       "LinearDiscriminantAnalysis           0.02  \n",
       "LogisticRegression                   0.02  \n",
       "SVC                                  0.03  \n",
       "GaussianNB                           0.01  \n",
       "BernoulliNB                          0.01  \n",
       "NuSVC                                0.05  \n",
       "XGBClassifier                        0.12  \n",
       "KNeighborsClassifier                 0.02  \n",
       "PassiveAggressiveClassifier          0.02  \n",
       "LGBMClassifier                       0.13  \n",
       "AdaBoostClassifier                   0.13  \n",
       "LabelPropagation                     0.03  \n",
       "ExtraTreesClassifier                 0.14  \n",
       "SGDClassifier                        0.01  \n",
       "LabelSpreading                       0.04  \n",
       "BaggingClassifier                    0.05  \n",
       "QuadraticDiscriminantAnalysis        0.02  \n",
       "ExtraTreeClassifier                  0.01  \n",
       "Perceptron                           0.02  \n",
       "DecisionTreeClassifier               0.02  \n",
       "DummyClassifier                      0.01  "
      ]
     },
     "execution_count": 127,
     "metadata": {},
     "output_type": "execute_result"
    }
   ],
   "source": [
    "from lazypredict.Supervised import LazyClassifier\n",
    "lc=LazyClassifier(verbose=0,ignore_warnings=False,custom_metric=None)\n",
    "models,predictions=lc.fit(xtrain,xtest,ytrain,ytest)\n",
    "models"
   ]
  },
  {
   "cell_type": "code",
   "execution_count": 138,
   "id": "61007e39",
   "metadata": {},
   "outputs": [
    {
     "data": {
      "text/plain": [
       "0      1\n",
       "1      1\n",
       "2      1\n",
       "3      1\n",
       "4      1\n",
       "      ..\n",
       "362    1\n",
       "363    1\n",
       "364    1\n",
       "365    1\n",
       "366    1\n",
       "Name: 0, Length: 367, dtype: int64"
      ]
     },
     "execution_count": 138,
     "metadata": {},
     "output_type": "execute_result"
    }
   ],
   "source": [
    "lr4=LogisticRegression()\n",
    "lr4.fit(xtrain,ytrain)\n",
    "ypred4=lr4.predict(newtest)\n",
    "ypred4=pd.DataFrame(ypred4)\n",
    "ypred4[0]"
   ]
  },
  {
   "cell_type": "code",
   "execution_count": 142,
   "id": "9b63385f",
   "metadata": {},
   "outputs": [
    {
     "data": {
      "text/html": [
       "<div>\n",
       "<style scoped>\n",
       "    .dataframe tbody tr th:only-of-type {\n",
       "        vertical-align: middle;\n",
       "    }\n",
       "\n",
       "    .dataframe tbody tr th {\n",
       "        vertical-align: top;\n",
       "    }\n",
       "\n",
       "    .dataframe thead th {\n",
       "        text-align: right;\n",
       "    }\n",
       "</style>\n",
       "<table border=\"1\" class=\"dataframe\">\n",
       "  <thead>\n",
       "    <tr style=\"text-align: right;\">\n",
       "      <th></th>\n",
       "      <th>0</th>\n",
       "    </tr>\n",
       "  </thead>\n",
       "  <tbody>\n",
       "    <tr>\n",
       "      <th>0</th>\n",
       "      <td>Y</td>\n",
       "    </tr>\n",
       "    <tr>\n",
       "      <th>1</th>\n",
       "      <td>Y</td>\n",
       "    </tr>\n",
       "    <tr>\n",
       "      <th>2</th>\n",
       "      <td>Y</td>\n",
       "    </tr>\n",
       "    <tr>\n",
       "      <th>3</th>\n",
       "      <td>Y</td>\n",
       "    </tr>\n",
       "    <tr>\n",
       "      <th>4</th>\n",
       "      <td>Y</td>\n",
       "    </tr>\n",
       "    <tr>\n",
       "      <th>...</th>\n",
       "      <td>...</td>\n",
       "    </tr>\n",
       "    <tr>\n",
       "      <th>362</th>\n",
       "      <td>Y</td>\n",
       "    </tr>\n",
       "    <tr>\n",
       "      <th>363</th>\n",
       "      <td>Y</td>\n",
       "    </tr>\n",
       "    <tr>\n",
       "      <th>364</th>\n",
       "      <td>Y</td>\n",
       "    </tr>\n",
       "    <tr>\n",
       "      <th>365</th>\n",
       "      <td>Y</td>\n",
       "    </tr>\n",
       "    <tr>\n",
       "      <th>366</th>\n",
       "      <td>Y</td>\n",
       "    </tr>\n",
       "  </tbody>\n",
       "</table>\n",
       "<p>367 rows × 1 columns</p>\n",
       "</div>"
      ],
      "text/plain": [
       "     0\n",
       "0    Y\n",
       "1    Y\n",
       "2    Y\n",
       "3    Y\n",
       "4    Y\n",
       "..  ..\n",
       "362  Y\n",
       "363  Y\n",
       "364  Y\n",
       "365  Y\n",
       "366  Y\n",
       "\n",
       "[367 rows x 1 columns]"
      ]
     },
     "execution_count": 142,
     "metadata": {},
     "output_type": "execute_result"
    }
   ],
   "source": [
    "ypred4[0]=list(map(lambda x:str(x).replace('0','N').replace('1','Y'),ypred4[0]))\n",
    "sub['Loan_Status']=ypred4\n",
    "sub.to_csv('LinearRegression4.csv',index=False)                    #0.7152777777777778."
   ]
  },
  {
   "cell_type": "code",
   "execution_count": null,
   "id": "dc433e24",
   "metadata": {},
   "outputs": [],
   "source": []
  }
 ],
 "metadata": {
  "kernelspec": {
   "display_name": "Python 3 (ipykernel)",
   "language": "python",
   "name": "python3"
  },
  "language_info": {
   "codemirror_mode": {
    "name": "ipython",
    "version": 3
   },
   "file_extension": ".py",
   "mimetype": "text/x-python",
   "name": "python",
   "nbconvert_exporter": "python",
   "pygments_lexer": "ipython3",
   "version": "3.9.12"
  }
 },
 "nbformat": 4,
 "nbformat_minor": 5
}
